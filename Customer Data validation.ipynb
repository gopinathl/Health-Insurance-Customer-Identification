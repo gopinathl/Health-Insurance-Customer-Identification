{
 "cells": [
  {
   "cell_type": "code",
   "execution_count": 1,
   "id": "happy-timeline",
   "metadata": {},
   "outputs": [],
   "source": [
    "import pandas as pd"
   ]
  },
  {
   "cell_type": "markdown",
   "id": "surprised-ebony",
   "metadata": {},
   "source": [
    "## Data Validation"
   ]
  },
  {
   "cell_type": "markdown",
   "id": "perceived-student",
   "metadata": {},
   "source": [
    "### 1.Check if all customers with individual account has the same upper age and lower age"
   ]
  },
  {
   "cell_type": "code",
   "execution_count": 15,
   "id": "supported-action",
   "metadata": {
    "scrolled": true
   },
   "outputs": [
    {
     "name": "stdout",
     "output_type": "stream",
     "text": [
      "Number of rows of Individual account: 40536\n",
      "Number of rows of Individual account with same upper_age and lower_age: 40536\n",
      "Number of rows of Joint account: 10346\n",
      "Number of rows of Joint account with different upper_age and lower_age: 10346\n",
      "\n",
      "Therefore all the customers with with individual account has the same upper age and lower age and customers with joint account has different upper_age and lower age\n"
     ]
    }
   ],
   "source": [
    "policy_df = pd.read_csv('.data/train_Df64byy.csv')\n",
    "\n",
    "print('Number of rows of Individual account:',policy_df[(policy_df['Reco_Insurance_Type']== 'Individual')].shape[0])\n",
    "print('Number of rows of Individual account with same upper_age and lower_age:',policy_df[(policy_df['Reco_Insurance_Type']== 'Individual') & (policy_df['Upper_Age']== policy_df['Lower_Age'])].shape[0])\n",
    "\n",
    "print('Number of rows of Joint account:',policy_df[(policy_df['Reco_Insurance_Type']== 'Joint')].shape[0])\n",
    "print('Number of rows of Joint account with different upper_age and lower_age:',policy_df[(policy_df['Reco_Insurance_Type']== 'Joint') & (policy_df['Upper_Age'] != policy_df['Lower_Age'])].shape[0])\n",
    "print('\\nTherefore all the customers with with individual account has the same upper age and lower age and customers with joint account has different upper_age and lower age')"
   ]
  },
  {
   "cell_type": "markdown",
   "id": "alpha-invalid",
   "metadata": {},
   "source": [
    "### 2. Check if for all Individual accounts, there are no spouses"
   ]
  },
  {
   "cell_type": "code",
   "execution_count": 16,
   "id": "secure-vertical",
   "metadata": {
    "scrolled": true
   },
   "outputs": [
    {
     "name": "stdout",
     "output_type": "stream",
     "text": [
      "This means that spouse information is not provided for individual accounts\n"
     ]
    },
    {
     "data": {
      "text/html": [
       "<div>\n",
       "<style scoped>\n",
       "    .dataframe tbody tr th:only-of-type {\n",
       "        vertical-align: middle;\n",
       "    }\n",
       "\n",
       "    .dataframe tbody tr th {\n",
       "        vertical-align: top;\n",
       "    }\n",
       "\n",
       "    .dataframe thead th {\n",
       "        text-align: right;\n",
       "    }\n",
       "</style>\n",
       "<table border=\"1\" class=\"dataframe\">\n",
       "  <thead>\n",
       "    <tr style=\"text-align: right;\">\n",
       "      <th></th>\n",
       "      <th>ID</th>\n",
       "      <th>City_Code</th>\n",
       "      <th>Region_Code</th>\n",
       "      <th>Accomodation_Type</th>\n",
       "      <th>Reco_Insurance_Type</th>\n",
       "      <th>Upper_Age</th>\n",
       "      <th>Lower_Age</th>\n",
       "      <th>Is_Spouse</th>\n",
       "      <th>Health Indicator</th>\n",
       "      <th>Holding_Policy_Duration</th>\n",
       "      <th>Holding_Policy_Type</th>\n",
       "      <th>Reco_Policy_Cat</th>\n",
       "      <th>Reco_Policy_Premium</th>\n",
       "      <th>Response</th>\n",
       "    </tr>\n",
       "  </thead>\n",
       "  <tbody>\n",
       "  </tbody>\n",
       "</table>\n",
       "</div>"
      ],
      "text/plain": [
       "Empty DataFrame\n",
       "Columns: [ID, City_Code, Region_Code, Accomodation_Type, Reco_Insurance_Type, Upper_Age, Lower_Age, Is_Spouse, Health Indicator, Holding_Policy_Duration, Holding_Policy_Type, Reco_Policy_Cat, Reco_Policy_Premium, Response]\n",
       "Index: []"
      ]
     },
     "execution_count": 16,
     "metadata": {},
     "output_type": "execute_result"
    }
   ],
   "source": [
    "print('This means that spouse information is not provided for individual accounts')\n",
    "policy_df[(policy_df['Reco_Insurance_Type'] == 'Individual')&(policy_df['Is_Spouse']== 'Yes')]"
   ]
  },
  {
   "cell_type": "markdown",
   "id": "familiar-excerpt",
   "metadata": {},
   "source": [
    "### 3. Check if all the missing values in Holding_policy_Duration and Holding_Policy_type are in the same rows"
   ]
  },
  {
   "cell_type": "code",
   "execution_count": 17,
   "id": "apparent-mercury",
   "metadata": {},
   "outputs": [
    {
     "name": "stdout",
     "output_type": "stream",
     "text": [
      "There are no previous policies taken by the customers for the missing rows of Holding_policy_Duration and Holding_Policy_type\n"
     ]
    }
   ],
   "source": [
    "if policy_df[(policy_df['Holding_Policy_Duration'].isna())].shape[0] == policy_df[(policy_df['Holding_Policy_Duration'].isna())&(policy_df['Holding_Policy_Type'].isna())].shape[0]:\n",
    "    print('There are no previous policies taken by the customers for the missing rows of Holding_policy_Duration and Holding_Policy_type')"
   ]
  },
  {
   "cell_type": "markdown",
   "id": "modern-dictionary",
   "metadata": {},
   "source": [
    "A new binary feature can be created based on whether the company has any previous policy/loan or Investments with the company"
   ]
  }
 ],
 "metadata": {
  "kernelspec": {
   "display_name": "Python 3",
   "language": "python",
   "name": "python3"
  },
  "language_info": {
   "codemirror_mode": {
    "name": "ipython",
    "version": 3
   },
   "file_extension": ".py",
   "mimetype": "text/x-python",
   "name": "python",
   "nbconvert_exporter": "python",
   "pygments_lexer": "ipython3",
   "version": "3.8.5"
  }
 },
 "nbformat": 4,
 "nbformat_minor": 5
}
