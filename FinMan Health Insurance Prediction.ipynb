{
 "cells": [
  {
   "cell_type": "markdown",
   "id": "independent-bargain",
   "metadata": {},
   "source": [
    "# FinMan Health Insurance Customer Identification"
   ]
  },
  {
   "cell_type": "markdown",
   "id": "civic-compact",
   "metadata": {},
   "source": [
    "## Business Problem"
   ]
  },
  {
   "cell_type": "markdown",
   "id": "proof-questionnaire",
   "metadata": {},
   "source": [
    "FinMan is a health insurance company which provides policies, loans and investment oppurtunities. The business problem that needs to be solved is to identify the customers who will be interested in the new policies of the company based on the information collected from the existing and new customers who visit the website."
   ]
  },
  {
   "cell_type": "markdown",
   "id": "invalid-determination",
   "metadata": {},
   "source": [
    "## Importing Libraries"
   ]
  },
  {
   "cell_type": "code",
   "execution_count": 12,
   "id": "proved-alloy",
   "metadata": {},
   "outputs": [],
   "source": [
    "%matplotlib inline\n",
    "import warnings\n",
    "warnings.filterwarnings(\"ignore\")\n",
    "\n",
    "import os\n",
    "import sqlite3\n",
    "import pandas as pd\n",
    "import numpy as np\n",
    "import string\n",
    "import matplotlib.pyplot as plt\n",
    "import seaborn as sns\n",
    "from sklearn.feature_extraction.text import TfidfTransformer\n",
    "from sklearn.feature_extraction.text import TfidfVectorizer\n",
    "\n",
    "from sklearn.feature_extraction.text import CountVectorizer\n",
    "from sklearn.preprocessing import LabelEncoder\n",
    "from sklearn.metrics import confusion_matrix\n",
    "from sklearn import metrics\n",
    "from sklearn.metrics import roc_curve, auc\n",
    "from sklearn.model_selection import train_test_split\n",
    "\n",
    "from sklearn.metrics import roc_auc_score\n",
    "from sklearn.model_selection import GridSearchCV\n",
    "from scipy.stats import randint as sp_randint\n",
    "from sklearn.model_selection import RandomizedSearchCV\n",
    "    \n",
    "\n",
    "import re\n",
    "import string\n",
    "import pickle\n",
    "\n",
    "from tqdm import tqdm\n",
    "from collections import Counter"
   ]
  },
  {
   "cell_type": "markdown",
   "id": "applicable-watts",
   "metadata": {},
   "source": [
    "## Dataset Description\n",
    "\n",
    "The `train.csv` data set provided by FinMan contains the following features:\n",
    "\n",
    "Feature | Description \n",
    "----------|---------------\n",
    "**`ID`** | A unique identifier for the customer.   \n",
    "**`City_Code`**    | Code for the City of the customers <br> **Examples:** 'C10'\n",
    "**`Region_Code`** | Code for the Region of the customers <br> **Examples:** '3213'\n",
    "**`Accomodation_Type`** | Customer Owns or Rents the house <br> **Examples:** 'Rented' or 'Owned'\n",
    "**`Reco_Insurance_Type`** | Joint or Individual type for the recommended insurance \n",
    "**`Upper_Age`** | Customer Owns or Rents the house <br> **Examples:** 'Rented' or 'Owned'\n",
    "**`Lower _Age`** | Customer Owns or Rents the house <br> **Examples:** 'Rented' or 'Owned'<br><ul><li><code>Same as Upper_age incase of Individual Insurance type</code></li>\n",
    "**`Is_Spouse`** | If the customers are married to each other\n",
    "(in case of joint insurance) (0/1)\n",
    "**`Health_Indicator`** | Encoded values for health of the customer <br> **Examples:** 'X1'\n",
    "**`Holding_Policy_Duration`** | Duration (in years) of holding policy (a policy that customer has already subscribed to with the company) **Examples:** '14+'\n",
    "**`Holding_Policy_Type`** | Type of holding policy <br> **Examples:** 'Rented' or 'Owned'\n",
    "**`Type of holding policy`** | Customer Owns or Rents the house <br> **Examples:** '3'\n",
    "**`Reco_Policy_Cat`** | Customer Owns or Rents the house <br> **Examples:** 'Rented' or 'Owned'\n",
    "**`Reco_Policy_Premium`** | Annual Premium (INR) for the recommended health insurance <br> <br>\n",
    "**`Response`** | Classification variable which denotes whether the customer is interested(1) or not interested(0) in the policy \n",
    "\n"
   ]
  },
  {
   "cell_type": "markdown",
   "id": "liked-horizon",
   "metadata": {},
   "source": [
    "## 1. Reading the Data"
   ]
  },
  {
   "cell_type": "code",
   "execution_count": 3,
   "id": "continuing-miami",
   "metadata": {},
   "outputs": [
    {
     "name": "stdout",
     "output_type": "stream",
     "text": [
      "(50882, 14)\n"
     ]
    },
    {
     "data": {
      "text/html": [
       "<div>\n",
       "<style scoped>\n",
       "    .dataframe tbody tr th:only-of-type {\n",
       "        vertical-align: middle;\n",
       "    }\n",
       "\n",
       "    .dataframe tbody tr th {\n",
       "        vertical-align: top;\n",
       "    }\n",
       "\n",
       "    .dataframe thead th {\n",
       "        text-align: right;\n",
       "    }\n",
       "</style>\n",
       "<table border=\"1\" class=\"dataframe\">\n",
       "  <thead>\n",
       "    <tr style=\"text-align: right;\">\n",
       "      <th></th>\n",
       "      <th>ID</th>\n",
       "      <th>City_Code</th>\n",
       "      <th>Region_Code</th>\n",
       "      <th>Accomodation_Type</th>\n",
       "      <th>Reco_Insurance_Type</th>\n",
       "      <th>Upper_Age</th>\n",
       "      <th>Lower_Age</th>\n",
       "      <th>Is_Spouse</th>\n",
       "      <th>Health Indicator</th>\n",
       "      <th>Holding_Policy_Duration</th>\n",
       "      <th>Holding_Policy_Type</th>\n",
       "      <th>Reco_Policy_Cat</th>\n",
       "      <th>Reco_Policy_Premium</th>\n",
       "      <th>Response</th>\n",
       "    </tr>\n",
       "  </thead>\n",
       "  <tbody>\n",
       "    <tr>\n",
       "      <th>0</th>\n",
       "      <td>1</td>\n",
       "      <td>C3</td>\n",
       "      <td>3213</td>\n",
       "      <td>Rented</td>\n",
       "      <td>Individual</td>\n",
       "      <td>36</td>\n",
       "      <td>36</td>\n",
       "      <td>No</td>\n",
       "      <td>X1</td>\n",
       "      <td>14+</td>\n",
       "      <td>3.0</td>\n",
       "      <td>22</td>\n",
       "      <td>11628.0</td>\n",
       "      <td>0</td>\n",
       "    </tr>\n",
       "    <tr>\n",
       "      <th>1</th>\n",
       "      <td>2</td>\n",
       "      <td>C5</td>\n",
       "      <td>1117</td>\n",
       "      <td>Owned</td>\n",
       "      <td>Joint</td>\n",
       "      <td>75</td>\n",
       "      <td>22</td>\n",
       "      <td>No</td>\n",
       "      <td>X2</td>\n",
       "      <td>NaN</td>\n",
       "      <td>NaN</td>\n",
       "      <td>22</td>\n",
       "      <td>30510.0</td>\n",
       "      <td>0</td>\n",
       "    </tr>\n",
       "    <tr>\n",
       "      <th>2</th>\n",
       "      <td>3</td>\n",
       "      <td>C5</td>\n",
       "      <td>3732</td>\n",
       "      <td>Owned</td>\n",
       "      <td>Individual</td>\n",
       "      <td>32</td>\n",
       "      <td>32</td>\n",
       "      <td>No</td>\n",
       "      <td>NaN</td>\n",
       "      <td>1.0</td>\n",
       "      <td>1.0</td>\n",
       "      <td>19</td>\n",
       "      <td>7450.0</td>\n",
       "      <td>1</td>\n",
       "    </tr>\n",
       "    <tr>\n",
       "      <th>3</th>\n",
       "      <td>4</td>\n",
       "      <td>C24</td>\n",
       "      <td>4378</td>\n",
       "      <td>Owned</td>\n",
       "      <td>Joint</td>\n",
       "      <td>52</td>\n",
       "      <td>48</td>\n",
       "      <td>No</td>\n",
       "      <td>X1</td>\n",
       "      <td>14+</td>\n",
       "      <td>3.0</td>\n",
       "      <td>19</td>\n",
       "      <td>17780.0</td>\n",
       "      <td>0</td>\n",
       "    </tr>\n",
       "    <tr>\n",
       "      <th>4</th>\n",
       "      <td>5</td>\n",
       "      <td>C8</td>\n",
       "      <td>2190</td>\n",
       "      <td>Rented</td>\n",
       "      <td>Individual</td>\n",
       "      <td>44</td>\n",
       "      <td>44</td>\n",
       "      <td>No</td>\n",
       "      <td>X2</td>\n",
       "      <td>3.0</td>\n",
       "      <td>1.0</td>\n",
       "      <td>16</td>\n",
       "      <td>10404.0</td>\n",
       "      <td>0</td>\n",
       "    </tr>\n",
       "  </tbody>\n",
       "</table>\n",
       "</div>"
      ],
      "text/plain": [
       "   ID City_Code  Region_Code Accomodation_Type Reco_Insurance_Type  Upper_Age  \\\n",
       "0   1        C3         3213            Rented          Individual         36   \n",
       "1   2        C5         1117             Owned               Joint         75   \n",
       "2   3        C5         3732             Owned          Individual         32   \n",
       "3   4       C24         4378             Owned               Joint         52   \n",
       "4   5        C8         2190            Rented          Individual         44   \n",
       "\n",
       "   Lower_Age Is_Spouse Health Indicator Holding_Policy_Duration  \\\n",
       "0         36        No               X1                     14+   \n",
       "1         22        No               X2                     NaN   \n",
       "2         32        No              NaN                     1.0   \n",
       "3         48        No               X1                     14+   \n",
       "4         44        No               X2                     3.0   \n",
       "\n",
       "   Holding_Policy_Type  Reco_Policy_Cat  Reco_Policy_Premium  Response  \n",
       "0                  3.0               22              11628.0         0  \n",
       "1                  NaN               22              30510.0         0  \n",
       "2                  1.0               19               7450.0         1  \n",
       "3                  3.0               19              17780.0         0  \n",
       "4                  1.0               16              10404.0         0  "
      ]
     },
     "execution_count": 3,
     "metadata": {},
     "output_type": "execute_result"
    }
   ],
   "source": [
    "policy_df = pd.read_csv('.data/train_Df64byy.csv')\n",
    "print(policy_df.shape)\n",
    "policy_df.head()"
   ]
  },
  {
   "cell_type": "markdown",
   "id": "distant-tourist",
   "metadata": {},
   "source": [
    "<h2>2. Exploratory Data Analysis</h2>"
   ]
  },
  {
   "cell_type": "code",
   "execution_count": 4,
   "id": "strategic-psychiatry",
   "metadata": {
    "scrolled": false
   },
   "outputs": [
    {
     "name": "stdout",
     "output_type": "stream",
     "text": [
      "Number of customers showed interest  12209 , ( 23.99473291144216 %)\n",
      "Number of customers that did not show interest  38673 , ( 76.00526708855784 %)\n"
     ]
    },
    {
     "data": {
      "image/png": "[encoded data removed]",
      "text/plain": [
       "<Figure size 432x432 with 1 Axes>"
      ]
     },
     "metadata": {},
     "output_type": "display_data"
    }
   ],
   "source": [
    "y_value_counts = policy_df['Response'].value_counts()\n",
    "print(\"Number of customers showed interest \", y_value_counts[1], \", (\", (y_value_counts[1]/(y_value_counts[1]+y_value_counts[0]))*100,\"%)\")\n",
    "print(\"Number of customers that did not show interest \", y_value_counts[0], \", (\", (y_value_counts[0]/(y_value_counts[1]+y_value_counts[0]))*100,\"%)\")\n",
    "\n",
    "fig, ax = plt.subplots(figsize=(6, 6), subplot_kw=dict(aspect=\"equal\"))\n",
    "recipe = [\"Interested\", \"Not Interested\"]\n",
    "\n",
    "data = [y_value_counts[1], y_value_counts[0]]\n",
    "\n",
    "wedges, texts = ax.pie(data, wedgeprops=dict(width=0.5), startangle=-40)\n",
    "\n",
    "bbox_props = dict(boxstyle=\"square,pad=0.3\", fc=\"w\", ec=\"k\", lw=0.72)\n",
    "kw = dict(xycoords='data', textcoords='data', arrowprops=dict(arrowstyle=\"-\"),\n",
    "          bbox=bbox_props, zorder=0, va=\"center\")\n",
    "\n",
    "for i, p in enumerate(wedges):\n",
    "    ang = (p.theta2 - p.theta1)/2. + p.theta1\n",
    "    y = np.sin(np.deg2rad(ang))\n",
    "    x = np.cos(np.deg2rad(ang))\n",
    "    horizontalalignment = {-1: \"right\", 1: \"left\"}[int(np.sign(x))]\n",
    "    connectionstyle = \"angle,angleA=0,angleB={}\".format(ang)\n",
    "    kw[\"arrowprops\"].update({\"connectionstyle\": connectionstyle})\n",
    "    ax.annotate(recipe[i], xy=(x, y), xytext=(1.35*np.sign(x), 1.4*y),\n",
    "                 horizontalalignment=horizontalalignment, **kw)\n",
    "\n",
    "ax.set_title(\"Number of customers that showed interest and did not show interest\")\n",
    "\n",
    "plt.show()"
   ]
  },
  {
   "cell_type": "markdown",
   "id": "postal-blond",
   "metadata": {},
   "source": [
    "This shows that majority of the customers in the dataset did not show interest in buying FinMan's Health Insurance policy and there is a class imbalance of the ratio 1:3 approximately  "
   ]
  },
  {
   "cell_type": "markdown",
   "id": "handmade-holmes",
   "metadata": {},
   "source": [
    "## 2.1 Missing Values"
   ]
  },
  {
   "cell_type": "code",
   "execution_count": 5,
   "id": "conservative-implement",
   "metadata": {
    "scrolled": false
   },
   "outputs": [
    {
     "data": {
      "text/plain": [
       "ID                             0\n",
       "City_Code                      0\n",
       "Region_Code                    0\n",
       "Accomodation_Type              0\n",
       "Reco_Insurance_Type            0\n",
       "Upper_Age                      0\n",
       "Lower_Age                      0\n",
       "Is_Spouse                      0\n",
       "Health Indicator           11691\n",
       "Holding_Policy_Duration    20251\n",
       "Holding_Policy_Type        20251\n",
       "Reco_Policy_Cat                0\n",
       "Reco_Policy_Premium            0\n",
       "Response                       0\n",
       "dtype: int64"
      ]
     },
     "execution_count": 5,
     "metadata": {},
     "output_type": "execute_result"
    }
   ],
   "source": [
    "policy_df.isnull().sum()"
   ]
  },
  {
   "cell_type": "markdown",
   "id": "verbal-charlotte",
   "metadata": {},
   "source": [
    "The missing values in the Holding Policy Duration and Holding Policy type indicates the customer has not taken any previous Insurance policies/loan/investment from the company. The missing values in the health indicator might be because the customers have not disclosed the information."
   ]
  },
  {
   "cell_type": "markdown",
   "id": "correct-salon",
   "metadata": {},
   "source": [
    "## 2.2.1 Univariate Analysis: Categorical variables"
   ]
  },
  {
   "cell_type": "code",
   "execution_count": 6,
   "id": "heard-tiger",
   "metadata": {},
   "outputs": [],
   "source": [
    "#stacked bar plots matplotlib: https://matplotlib.org/gallery/lines_bars_and_markers/bar_stacked.html\n",
    "def stack_plot(data, xtick, col2='Response', col3='total'):\n",
    "    ind = np.arange(data.shape[0])\n",
    "    \n",
    "    plt.figure(figsize=(20,5))\n",
    "    p1 = plt.bar(ind, data[col3].values)\n",
    "    p2 = plt.bar(ind, data[col2].values)\n",
    "\n",
    "    plt.ylabel('Customers')\n",
    "    plt.title('% of customers interested ' + xtick + ' wise')\n",
    "    plt.xticks(ind, list(data[xtick].values))\n",
    "    plt.legend((p1[0], p2[0]), ('total', 'interested'))\n",
    "    plt.show()"
   ]
  },
  {
   "cell_type": "code",
   "execution_count": 7,
   "id": "polar-bhutan",
   "metadata": {},
   "outputs": [],
   "source": [
    "def univariate_barplots(data, col1, col2='Response', top=False):\n",
    "    # Count number of zeros in dataframe python: https://stackoverflow.com/a/51540521/4084039\n",
    "    temp = pd.DataFrame(data.groupby(col1)[col2].agg(lambda x: x.eq(1).sum())).reset_index()\n",
    "\n",
    "    # Pandas dataframe grouby count: https://stackoverflow.com/a/19385591/4084039\n",
    "    temp['total'] = pd.DataFrame(data.groupby(col1)[col2].agg(total='count')).reset_index()['total']\n",
    "    temp['Avg'] = pd.DataFrame(data.groupby(col1)[col2].agg(Avg='mean')).reset_index()['Avg']\n",
    "    temp.sort_values(by=['total'],inplace=True, ascending=False)\n",
    "    \n",
    "    if top:\n",
    "        temp = temp[0:top]\n",
    "    \n",
    "    stack_plot(temp, xtick=col1, col2=col2, col3='total')\n",
    "    print(temp.head(5))\n",
    "    print(\"=\"*50)\n",
    "    print(temp.tail(5))"
   ]
  },
  {
   "cell_type": "code",
   "execution_count": 8,
   "id": "brown-privilege",
   "metadata": {
    "scrolled": false
   },
   "outputs": [
    {
     "name": "stdout",
     "output_type": "stream",
     "text": [
      "\n",
      " City_Code\n",
      "\n",
      "Categories: ['C3' 'C5' 'C24' 'C8' 'C9' 'C1' 'C15' 'C28' 'C27' 'C7' 'C20' 'C25' 'C4'\n",
      " 'C2' 'C34' 'C10' 'C17' 'C18' 'C16' 'C29' 'C33' 'C26' 'C19' 'C6' 'C12'\n",
      " 'C13' 'C11' 'C14' 'C22' 'C23' 'C21' 'C36' 'C32' 'C30' 'C35' 'C31'] \n",
      "No of Categories 36\n"
     ]
    },
    {
     "data": {
      "image/png": "[encoded data removed]",
      "text/plain": [
       "<Figure size 1440x360 with 1 Axes>"
      ]
     },
     "metadata": {
      "needs_background": "light"
     },
     "output_type": "display_data"
    },
    {
     "name": "stdout",
     "output_type": "stream",
     "text": [
      "   City_Code  Response  total       Avg\n",
      "0         C1      2208   8973  0.246072\n",
      "11        C2      1893   7747  0.244353\n",
      "22        C3      1161   4889  0.237472\n",
      "30        C4       889   3671  0.242168\n",
      "35        C9       510   2185  0.233410\n",
      "==================================================\n",
      "   City_Code  Response  total       Avg\n",
      "27       C34        36    130  0.276923\n",
      "23       C30        18     58  0.310345\n",
      "28       C35        16     56  0.285714\n",
      "29       C36         5     36  0.138889\n",
      "24       C31         2     15  0.133333\n",
      "\n",
      "----------------------------------------------------------------------------------------------------\n",
      "\n",
      "\n",
      " Accomodation_Type\n",
      "\n",
      "Categories: ['Rented' 'Owned'] \n",
      "No of Categories 2\n"
     ]
    },
    {
     "data": {
      "image/png": "[encoded data removed]",
      "text/plain": [
       "<Figure size 1440x360 with 1 Axes>"
      ]
     },
     "metadata": {
      "needs_background": "light"
     },
     "output_type": "display_data"
    },
    {
     "name": "stdout",
     "output_type": "stream",
     "text": [
      "  Accomodation_Type  Response  total       Avg\n",
      "0             Owned      6763  27951  0.241959\n",
      "1            Rented      5446  22931  0.237495\n",
      "==================================================\n",
      "  Accomodation_Type  Response  total       Avg\n",
      "0             Owned      6763  27951  0.241959\n",
      "1            Rented      5446  22931  0.237495\n",
      "\n",
      "----------------------------------------------------------------------------------------------------\n",
      "\n",
      "\n",
      " Reco_Insurance_Type\n",
      "\n",
      "Categories: ['Individual' 'Joint'] \n",
      "No of Categories 2\n"
     ]
    },
    {
     "data": {
      "image/png": "[encoded data removed]",
      "text/plain": [
       "<Figure size 1440x360 with 1 Axes>"
      ]
     },
     "metadata": {
      "needs_background": "light"
     },
     "output_type": "display_data"
    },
    {
     "name": "stdout",
     "output_type": "stream",
     "text": [
      "  Reco_Insurance_Type  Response  total       Avg\n",
      "0          Individual      9640  40536  0.237813\n",
      "1               Joint      2569  10346  0.248309\n",
      "==================================================\n",
      "  Reco_Insurance_Type  Response  total       Avg\n",
      "0          Individual      9640  40536  0.237813\n",
      "1               Joint      2569  10346  0.248309\n",
      "\n",
      "----------------------------------------------------------------------------------------------------\n",
      "\n",
      "\n",
      " Is_Spouse\n",
      "\n",
      "Categories: ['No' 'Yes'] \n",
      "No of Categories 2\n"
     ]
    },
    {
     "data": {
      "image/png": "[encoded data removed]",
      "text/plain": [
       "<Figure size 1440x360 with 1 Axes>"
      ]
     },
     "metadata": {
      "needs_background": "light"
     },
     "output_type": "display_data"
    },
    {
     "name": "stdout",
     "output_type": "stream",
     "text": [
      "  Is_Spouse  Response  total       Avg\n",
      "0        No     10157  42460  0.239213\n",
      "1       Yes      2052   8422  0.243648\n",
      "==================================================\n",
      "  Is_Spouse  Response  total       Avg\n",
      "0        No     10157  42460  0.239213\n",
      "1       Yes      2052   8422  0.243648\n",
      "\n",
      "----------------------------------------------------------------------------------------------------\n",
      "\n",
      "\n",
      " Health Indicator\n",
      "\n",
      "Categories: ['X1' 'X2' nan 'X4' 'X3' 'X6' 'X5' 'X8' 'X7' 'X9'] \n",
      "No of Categories 10\n"
     ]
    },
    {
     "data": {
      "image/png": "[encoded data removed]",
      "text/plain": [
       "<Figure size 1440x360 with 1 Axes>"
      ]
     },
     "metadata": {
      "needs_background": "light"
     },
     "output_type": "display_data"
    },
    {
     "name": "stdout",
     "output_type": "stream",
     "text": [
      "  Health Indicator  Response  total       Avg\n",
      "0               X1      3176  13010  0.244120\n",
      "1               X2      2491  10332  0.241096\n",
      "2               X3      1599   6762  0.236469\n",
      "3               X4      1396   5743  0.243079\n",
      "4               X5       408   1727  0.236248\n",
      "==================================================\n",
      "  Health Indicator  Response  total       Avg\n",
      "4               X5       408   1727  0.236248\n",
      "5               X6       307   1280  0.239844\n",
      "6               X7        62    196  0.316327\n",
      "7               X8        18     78  0.230769\n",
      "8               X9        14     63  0.222222\n",
      "\n",
      "----------------------------------------------------------------------------------------------------\n",
      "\n",
      "\n",
      " Holding_Policy_Type\n",
      "\n",
      "Categories: [ 3. nan  1.  4.  2.] \n",
      "No of Categories 5\n"
     ]
    },
    {
     "data": {
      "image/png": "[encoded data removed]",
      "text/plain": [
       "<Figure size 1440x360 with 1 Axes>"
      ]
     },
     "metadata": {
      "needs_background": "light"
     },
     "output_type": "display_data"
    },
    {
     "name": "stdout",
     "output_type": "stream",
     "text": [
      "   Holding_Policy_Type  Response  total       Avg\n",
      "2                  3.0      3217  13279  0.242262\n",
      "0                  1.0      1927   8173  0.235776\n",
      "1                  2.0      1190   5005  0.237762\n",
      "3                  4.0      1036   4174  0.248203\n",
      "==================================================\n",
      "   Holding_Policy_Type  Response  total       Avg\n",
      "2                  3.0      3217  13279  0.242262\n",
      "0                  1.0      1927   8173  0.235776\n",
      "1                  2.0      1190   5005  0.237762\n",
      "3                  4.0      1036   4174  0.248203\n",
      "\n",
      "----------------------------------------------------------------------------------------------------\n",
      "\n",
      "\n",
      " Reco_Policy_Cat\n",
      "\n",
      "Categories: [22 19 16 17  1 18 21 13 20  9  2  4 12  6 14 11  3  8  7 10 15  5] \n",
      "No of Categories 22\n"
     ]
    },
    {
     "data": {
      "image/png": "[encoded data removed]",
      "text/plain": [
       "<Figure size 1440x360 with 1 Axes>"
      ]
     },
     "metadata": {
      "needs_background": "light"
     },
     "output_type": "display_data"
    },
    {
     "name": "stdout",
     "output_type": "stream",
     "text": [
      "    Reco_Policy_Cat  Response  total       Avg\n",
      "21               22      2168   6602  0.328385\n",
      "17               18      1225   5553  0.220601\n",
      "20               21       974   5027  0.193754\n",
      "15               16       913   4084  0.223555\n",
      "16               17      1121   3756  0.298456\n",
      "==================================================\n",
      "    Reco_Policy_Cat  Response  total       Avg\n",
      "6                 7       155    834  0.185851\n",
      "8                 9       131    789  0.166033\n",
      "10               11       130    781  0.166453\n",
      "7                 8       209    776  0.269330\n",
      "9                10       136    770  0.176623\n",
      "\n",
      "----------------------------------------------------------------------------------------------------\n",
      "\n"
     ]
    }
   ],
   "source": [
    "for i in range(1,len(policy_df.columns)):\n",
    "    if policy_df.columns[i] in ('City_Code','Accomodation_Type','Reco_Insurance_Type','Is_Spouse','Reco_Policy_Cat','Health Indicator','Holding_Policy_Type'):\n",
    "        print('\\n',policy_df.columns[i])\n",
    "        print('\\nCategories:',policy_df[policy_df.columns[i]].unique(),'\\nNo of Categories',len(policy_df[policy_df.columns[i]].unique()))\n",
    "        univariate_barplots(policy_df, policy_df.columns[i], 'Response', False)\n",
    "        print('\\n----------------------------------------------------------------------------------------------------\\n')"
   ]
  },
  {
   "cell_type": "code",
   "execution_count": 9,
   "id": "little-slovakia",
   "metadata": {},
   "outputs": [
    {
     "name": "stdout",
     "output_type": "stream",
     "text": [
      "Region_Code\n",
      " [3213 1117 3732 ... 5326 6149 5450] \n",
      "Number of Categories: 5316\n"
     ]
    }
   ],
   "source": [
    "print('Region_Code\\n',policy_df['Region_Code'].unique(),'\\nNumber of Categories:',len(policy_df['Region_Code'].unique()))"
   ]
  },
  {
   "cell_type": "markdown",
   "id": "gothic-birth",
   "metadata": {},
   "source": [
    "## 2.2.2 Univariate Analysis: Numerical features"
   ]
  },
  {
   "cell_type": "code",
   "execution_count": 10,
   "id": "medium-pointer",
   "metadata": {
    "scrolled": true
   },
   "outputs": [
    {
     "data": {
      "image/png": "[encoded data removed]",
      "text/plain": [
       "<Figure size 432x288 with 1 Axes>"
      ]
     },
     "metadata": {
      "needs_background": "light"
     },
     "output_type": "display_data"
    }
   ],
   "source": [
    "interested_premium = policy_df[policy_df['Response']==1]['Reco_Policy_Premium'].values\n",
    "\n",
    "not_interested_premium = policy_df[policy_df['Response']==0]['Reco_Policy_Premium'].values\n",
    "\n",
    "plt.boxplot([interested_premium, not_interested_premium])\n",
    "plt.title('Box Plots of Premium per interested and not interested Customers')\n",
    "plt.xticks([1,2],('Interested Customers','Not Interested Customers'))\n",
    "plt.ylabel('Insurance Policy Premiuim ')\n",
    "plt.grid()\n",
    "plt.show()"
   ]
  },
  {
   "cell_type": "code",
   "execution_count": 11,
   "id": "hearing-murder",
   "metadata": {
    "scrolled": true
   },
   "outputs": [
    {
     "data": {
      "image/png": "[encoded data removed]",
      "text/plain": [
       "<Figure size 720x216 with 1 Axes>"
      ]
     },
     "metadata": {
      "needs_background": "light"
     },
     "output_type": "display_data"
    }
   ],
   "source": [
    "plt.figure(figsize=(10,3))\n",
    "sns.distplot(interested_premium, hist=False, label='Interested Customers')\n",
    "sns.distplot(not_interested_premium, hist=False, label='Not Interested Customers')\n",
    "plt.title('Premium per interested and not interested Customers')\n",
    "plt.xlabel('Cost of a project')\n",
    "plt.legend()\n",
    "plt.show()"
   ]
  },
  {
   "cell_type": "markdown",
   "id": "handled-florence",
   "metadata": {},
   "source": [
    "### Points to Ponder\n",
    "1. There are certain columns like 'City_Code' and 'Health Indicator' where it has very less data points from categories like 'C31','C36'(City_Code) and 8,10(Health Indicator')\n",
    "2. For almost all the columns, Every category in a column has an similar ratio of negative:positive examples denoted by the average column in the table.\n",
    "3. The distributions and box plots of insurance policy premium for both the interested and not interested customers are similar\n",
    "4. Since the dataset is imbalanced, SMOTE technique can be used to synthetically generate data or class weights can be used to balance the weights of the model."
   ]
  },
  {
   "cell_type": "markdown",
   "id": "inner-corporation",
   "metadata": {},
   "source": [
    "## 3. Data Validation"
   ]
  },
  {
   "cell_type": "markdown",
   "id": "coordinate-rebound",
   "metadata": {},
   "source": [
    "### 3.1.Check if all customers with individual account has the same upper age and lower age"
   ]
  },
  {
   "cell_type": "code",
   "execution_count": 15,
   "id": "prospective-logistics",
   "metadata": {
    "scrolled": true
   },
   "outputs": [
    {
     "name": "stdout",
     "output_type": "stream",
     "text": [
      "Number of rows of Individual account: 40536\n",
      "Number of rows of Individual account with same upper_age and lower_age: 40536\n",
      "Number of rows of Joint account: 10346\n",
      "Number of rows of Joint account with different upper_age and lower_age: 10346\n",
      "\n",
      "Therefore all the customers with with individual account has the same upper age and lower age and customers with joint account has different upper_age and lower age\n"
     ]
    }
   ],
   "source": [
    "policy_df = pd.read_csv('.data/train_Df64byy.csv')\n",
    "\n",
    "print('Number of rows of Individual account:',policy_df[(policy_df['Reco_Insurance_Type']== 'Individual')].shape[0])\n",
    "print('Number of rows of Individual account with same upper_age and lower_age:',policy_df[(policy_df['Reco_Insurance_Type']== 'Individual') & (policy_df['Upper_Age']== policy_df['Lower_Age'])].shape[0])\n",
    "\n",
    "print('Number of rows of Joint account:',policy_df[(policy_df['Reco_Insurance_Type']== 'Joint')].shape[0])\n",
    "print('Number of rows of Joint account with different upper_age and lower_age:',policy_df[(policy_df['Reco_Insurance_Type']== 'Joint') & (policy_df['Upper_Age'] != policy_df['Lower_Age'])].shape[0])\n",
    "print('\\nTherefore all the customers with with individual account has the same upper age and lower age and customers with joint account has different upper_age and lower age')"
   ]
  },
  {
   "cell_type": "markdown",
   "id": "earned-enhancement",
   "metadata": {},
   "source": [
    "### 3.2. Check if for all Individual accounts, there are no spouses"
   ]
  },
  {
   "cell_type": "code",
   "execution_count": 16,
   "id": "occasional-discharge",
   "metadata": {
    "scrolled": true
   },
   "outputs": [
    {
     "name": "stdout",
     "output_type": "stream",
     "text": [
      "This means that spouse information is not provided for individual accounts\n"
     ]
    },
    {
     "data": {
      "text/html": [
       "<div>\n",
       "<style scoped>\n",
       "    .dataframe tbody tr th:only-of-type {\n",
       "        vertical-align: middle;\n",
       "    }\n",
       "\n",
       "    .dataframe tbody tr th {\n",
       "        vertical-align: top;\n",
       "    }\n",
       "\n",
       "    .dataframe thead th {\n",
       "        text-align: right;\n",
       "    }\n",
       "</style>\n",
       "<table border=\"1\" class=\"dataframe\">\n",
       "  <thead>\n",
       "    <tr style=\"text-align: right;\">\n",
       "      <th></th>\n",
       "      <th>ID</th>\n",
       "      <th>City_Code</th>\n",
       "      <th>Region_Code</th>\n",
       "      <th>Accomodation_Type</th>\n",
       "      <th>Reco_Insurance_Type</th>\n",
       "      <th>Upper_Age</th>\n",
       "      <th>Lower_Age</th>\n",
       "      <th>Is_Spouse</th>\n",
       "      <th>Health Indicator</th>\n",
       "      <th>Holding_Policy_Duration</th>\n",
       "      <th>Holding_Policy_Type</th>\n",
       "      <th>Reco_Policy_Cat</th>\n",
       "      <th>Reco_Policy_Premium</th>\n",
       "      <th>Response</th>\n",
       "    </tr>\n",
       "  </thead>\n",
       "  <tbody>\n",
       "  </tbody>\n",
       "</table>\n",
       "</div>"
      ],
      "text/plain": [
       "Empty DataFrame\n",
       "Columns: [ID, City_Code, Region_Code, Accomodation_Type, Reco_Insurance_Type, Upper_Age, Lower_Age, Is_Spouse, Health Indicator, Holding_Policy_Duration, Holding_Policy_Type, Reco_Policy_Cat, Reco_Policy_Premium, Response]\n",
       "Index: []"
      ]
     },
     "execution_count": 16,
     "metadata": {},
     "output_type": "execute_result"
    }
   ],
   "source": [
    "print('This means that spouse information is not provided for individual accounts')\n",
    "policy_df[(policy_df['Reco_Insurance_Type'] == 'Individual')&(policy_df['Is_Spouse']== 'Yes')]"
   ]
  },
  {
   "cell_type": "markdown",
   "id": "blind-president",
   "metadata": {},
   "source": [
    "### 3.3 Check if all the missing values in Holding_policy_Duration and Holding_Policy_type are in the same rows"
   ]
  },
  {
   "cell_type": "code",
   "execution_count": 17,
   "id": "indie-ordinary",
   "metadata": {},
   "outputs": [
    {
     "name": "stdout",
     "output_type": "stream",
     "text": [
      "There are no previous policies taken by the customers for the missing rows of Holding_policy_Duration and Holding_Policy_type\n"
     ]
    }
   ],
   "source": [
    "if policy_df[(policy_df['Holding_Policy_Duration'].isna())].shape[0] == policy_df[(policy_df['Holding_Policy_Duration'].isna())&(policy_df['Holding_Policy_Type'].isna())].shape[0]:\n",
    "    print('There are no previous policies taken by the customers for the missing rows of Holding_policy_Duration and Holding_Policy_type')"
   ]
  },
  {
   "cell_type": "markdown",
   "id": "serious-investigator",
   "metadata": {},
   "source": [
    "A new binary feature can be created based on whether the company has any previous policy/loan or Investments with the company"
   ]
  },
  {
   "cell_type": "markdown",
   "id": "patient-decision",
   "metadata": {},
   "source": [
    "## 4. Handling Missing Values - Model Based Imputation"
   ]
  },
  {
   "cell_type": "code",
   "execution_count": 120,
   "id": "respiratory-mounting",
   "metadata": {},
   "outputs": [],
   "source": [
    "policy_df = pd.read_csv('.data/train_Df64byy.csv')\n",
    "policy_df_train = policy_df[policy_df['Health Indicator'].isna()== False]\n",
    "\n",
    "y = policy_df_train['Health Indicator'].values\n",
    "X = policy_df_train.drop(['Health Indicator'], axis=1)\n",
    "X = policy_df_train.drop(['ID'], axis=1)\n",
    "\n",
    "X['Holding_Policy_Duration'] = X['Holding_Policy_Duration'].replace(np.nan, '0', regex=True)\n",
    "X['Holding_Policy_Type'] = X['Holding_Policy_Type'].replace(np.nan, 'No_policy', regex=True)\n",
    "\n",
    "X['Holding_Policy_Type'] = X['Holding_Policy_Type'].astype(str)\n",
    "X['Region_Code'] = X['Region_Code'].astype(str)\n",
    "X['Reco_Policy_Cat'] = X['Reco_Policy_Cat'].astype(str)"
   ]
  },
  {
   "cell_type": "code",
   "execution_count": 121,
   "id": "sporting-oregon",
   "metadata": {},
   "outputs": [
    {
     "data": {
      "text/plain": [
       "(31352, 13)"
      ]
     },
     "execution_count": 121,
     "metadata": {},
     "output_type": "execute_result"
    }
   ],
   "source": [
    "X_train, X_cv, y_train, y_cv = train_test_split(X, y, test_size=0.2, stratify=y,random_state=45)\n",
    "X_train.shape"
   ]
  },
  {
   "cell_type": "code",
   "execution_count": 122,
   "id": "serious-reconstruction",
   "metadata": {},
   "outputs": [
    {
     "name": "stdout",
     "output_type": "stream",
     "text": [
      "(11691, 13)\n"
     ]
    },
    {
     "data": {
      "text/html": [
       "<div>\n",
       "<style scoped>\n",
       "    .dataframe tbody tr th:only-of-type {\n",
       "        vertical-align: middle;\n",
       "    }\n",
       "\n",
       "    .dataframe tbody tr th {\n",
       "        vertical-align: top;\n",
       "    }\n",
       "\n",
       "    .dataframe thead th {\n",
       "        text-align: right;\n",
       "    }\n",
       "</style>\n",
       "<table border=\"1\" class=\"dataframe\">\n",
       "  <thead>\n",
       "    <tr style=\"text-align: right;\">\n",
       "      <th></th>\n",
       "      <th>City_Code</th>\n",
       "      <th>Region_Code</th>\n",
       "      <th>Accomodation_Type</th>\n",
       "      <th>Reco_Insurance_Type</th>\n",
       "      <th>Upper_Age</th>\n",
       "      <th>Lower_Age</th>\n",
       "      <th>Is_Spouse</th>\n",
       "      <th>Health Indicator</th>\n",
       "      <th>Holding_Policy_Duration</th>\n",
       "      <th>Holding_Policy_Type</th>\n",
       "      <th>Reco_Policy_Cat</th>\n",
       "      <th>Reco_Policy_Premium</th>\n",
       "      <th>Response</th>\n",
       "    </tr>\n",
       "  </thead>\n",
       "  <tbody>\n",
       "    <tr>\n",
       "      <th>2</th>\n",
       "      <td>C5</td>\n",
       "      <td>3732</td>\n",
       "      <td>Owned</td>\n",
       "      <td>Individual</td>\n",
       "      <td>32</td>\n",
       "      <td>32</td>\n",
       "      <td>No</td>\n",
       "      <td>NaN</td>\n",
       "      <td>1.0</td>\n",
       "      <td>1.0</td>\n",
       "      <td>19</td>\n",
       "      <td>7450.0</td>\n",
       "      <td>1</td>\n",
       "    </tr>\n",
       "    <tr>\n",
       "      <th>6</th>\n",
       "      <td>C3</td>\n",
       "      <td>679</td>\n",
       "      <td>Owned</td>\n",
       "      <td>Individual</td>\n",
       "      <td>28</td>\n",
       "      <td>28</td>\n",
       "      <td>No</td>\n",
       "      <td>NaN</td>\n",
       "      <td>nan</td>\n",
       "      <td>nan</td>\n",
       "      <td>17</td>\n",
       "      <td>10640.0</td>\n",
       "      <td>0</td>\n",
       "    </tr>\n",
       "    <tr>\n",
       "      <th>9</th>\n",
       "      <td>C1</td>\n",
       "      <td>530</td>\n",
       "      <td>Owned</td>\n",
       "      <td>Joint</td>\n",
       "      <td>59</td>\n",
       "      <td>26</td>\n",
       "      <td>Yes</td>\n",
       "      <td>NaN</td>\n",
       "      <td>7.0</td>\n",
       "      <td>4.0</td>\n",
       "      <td>18</td>\n",
       "      <td>21100.8</td>\n",
       "      <td>1</td>\n",
       "    </tr>\n",
       "    <tr>\n",
       "      <th>12</th>\n",
       "      <td>C7</td>\n",
       "      <td>3453</td>\n",
       "      <td>Owned</td>\n",
       "      <td>Individual</td>\n",
       "      <td>66</td>\n",
       "      <td>66</td>\n",
       "      <td>No</td>\n",
       "      <td>NaN</td>\n",
       "      <td>1.0</td>\n",
       "      <td>2.0</td>\n",
       "      <td>20</td>\n",
       "      <td>17192.0</td>\n",
       "      <td>1</td>\n",
       "    </tr>\n",
       "    <tr>\n",
       "      <th>19</th>\n",
       "      <td>C20</td>\n",
       "      <td>973</td>\n",
       "      <td>Owned</td>\n",
       "      <td>Individual</td>\n",
       "      <td>27</td>\n",
       "      <td>27</td>\n",
       "      <td>No</td>\n",
       "      <td>NaN</td>\n",
       "      <td>nan</td>\n",
       "      <td>nan</td>\n",
       "      <td>4</td>\n",
       "      <td>8050.0</td>\n",
       "      <td>0</td>\n",
       "    </tr>\n",
       "  </tbody>\n",
       "</table>\n",
       "</div>"
      ],
      "text/plain": [
       "   City_Code Region_Code Accomodation_Type Reco_Insurance_Type  Upper_Age  \\\n",
       "2         C5        3732             Owned          Individual         32   \n",
       "6         C3         679             Owned          Individual         28   \n",
       "9         C1         530             Owned               Joint         59   \n",
       "12        C7        3453             Owned          Individual         66   \n",
       "19       C20         973             Owned          Individual         27   \n",
       "\n",
       "    Lower_Age Is_Spouse Health Indicator Holding_Policy_Duration  \\\n",
       "2          32        No              NaN                     1.0   \n",
       "6          28        No              NaN                     nan   \n",
       "9          26       Yes              NaN                     7.0   \n",
       "12         66        No              NaN                     1.0   \n",
       "19         27        No              NaN                     nan   \n",
       "\n",
       "   Holding_Policy_Type Reco_Policy_Cat  Reco_Policy_Premium  Response  \n",
       "2                  1.0              19               7450.0         1  \n",
       "6                  nan              17              10640.0         0  \n",
       "9                  4.0              18              21100.8         1  \n",
       "12                 2.0              20              17192.0         1  \n",
       "19                 nan               4               8050.0         0  "
      ]
     },
     "execution_count": 122,
     "metadata": {},
     "output_type": "execute_result"
    }
   ],
   "source": [
    "policy_df_test = policy_df[policy_df['Health Indicator'].isna()]\n",
    "#X_test = policy_df_test.drop(['ID'], axis=1)\n",
    "X_test['Holding_Policy_Duration'] = X_test['Holding_Policy_Duration'].replace(np.nan, 'nan', regex=True)\n",
    "X_test['Holding_Policy_Type'] = X_test['Holding_Policy_Type'].replace(np.nan, 'nan', regex=True)\n",
    "X_test['Region_Code'] = X_test['Region_Code'].astype(str)\n",
    "X_test['Holding_Policy_Type'] = X_test['Holding_Policy_Type'].astype(str)\n",
    "X_test['Reco_Policy_Cat'] = X_test['Reco_Policy_Cat'].astype(str)\n",
    "print(X_test.shape)\n",
    "X_test.head()"
   ]
  },
  {
   "cell_type": "code",
   "execution_count": 67,
   "id": "amino-champion",
   "metadata": {
    "scrolled": true
   },
   "outputs": [
    {
     "name": "stdout",
     "output_type": "stream",
     "text": [
      "After vectorizations\n",
      "(31352, 36) (31352,)\n",
      "(7839, 36) (7839,)\n",
      "(11691, 36)\n",
      "['c1', 'c10', 'c11', 'c12', 'c13', 'c14', 'c15', 'c16', 'c17', 'c18', 'c19', 'c2', 'c20', 'c21', 'c22', 'c23', 'c24', 'c25', 'c26', 'c27', 'c28', 'c29', 'c3', 'c30', 'c31', 'c32', 'c33', 'c34', 'c35', 'c36', 'c4', 'c5', 'c6', 'c7', 'c8', 'c9'] 36\n",
      "====================================================================================================\n"
     ]
    }
   ],
   "source": [
    "vectorizer = CountVectorizer()\n",
    "vectorizer.fit(X_train['City_Code'].values) # fit has to happen only on train data\n",
    "\n",
    "feature_names=[]\n",
    "\n",
    "# we use the fitted CountVectorizer to convert the text to vector\n",
    "X_train_city_ohe = vectorizer.transform(X_train['City_Code'].values)\n",
    "X_cv_city_ohe = vectorizer.transform(X_cv['City_Code'].values)\n",
    "X_test_city_ohe = vectorizer.transform(X_test['City_Code'].values)\n",
    "\n",
    "print(\"After vectorizations\")\n",
    "print(X_train_city_ohe.shape, y_train.shape)\n",
    "print(X_cv_city_ohe.shape, y_cv.shape)\n",
    "print(X_test_city_ohe.shape)\n",
    "print(vectorizer.get_feature_names(),len(vectorizer.get_feature_names()))\n",
    "feature_names.extend(vectorizer.get_feature_names())\n",
    "print(\"=\"*100)"
   ]
  },
  {
   "cell_type": "code",
   "execution_count": 68,
   "id": "different-register",
   "metadata": {},
   "outputs": [
    {
     "name": "stdout",
     "output_type": "stream",
     "text": [
      "After vectorizations\n",
      "(31352, 4972) (31352,)\n",
      "(7839, 4972) (7839,)\n",
      "(11691, 4972)\n",
      "4972\n",
      "====================================================================================================\n"
     ]
    }
   ],
   "source": [
    "vectorizer = CountVectorizer()\n",
    "vectorizer.fit(X_train['Region_Code'].values) # fit has to happen only on train data\n",
    "\n",
    "# we use the fitted CountVectorizer to convert the text to vector\n",
    "X_train_region_ohe = vectorizer.transform(X_train['Region_Code'].values)\n",
    "X_cv_region_ohe = vectorizer.transform(X_cv['Region_Code'].values)\n",
    "X_test_region_ohe = vectorizer.transform(X_test['Region_Code'].values)\n",
    "\n",
    "print(\"After vectorizations\")\n",
    "print(X_train_region_ohe.shape, y_train.shape)\n",
    "print(X_cv_region_ohe.shape, y_cv.shape)\n",
    "print(X_test_region_ohe.shape)\n",
    "print(len(vectorizer.get_feature_names()))\n",
    "feature_names.extend(vectorizer.get_feature_names())\n",
    "print(\"=\"*100)"
   ]
  },
  {
   "cell_type": "code",
   "execution_count": 69,
   "id": "wound-petersburg",
   "metadata": {},
   "outputs": [
    {
     "name": "stdout",
     "output_type": "stream",
     "text": [
      "After vectorizations\n",
      "(31352, 1) (31352,)\n",
      "(7839, 1) (7839,)\n",
      "====================================================================================================\n"
     ]
    }
   ],
   "source": [
    "# creating instance of labelencoder\n",
    "labelencoder = LabelEncoder()\n",
    "# Assigning numerical values and storing in another column\n",
    "labelencoder.fit(X_train['Accomodation_Type'])\n",
    "\n",
    "# we use the fitted CountVectorizer to convert the text to vector\n",
    "X_train_accomodation_ohe = labelencoder.transform(X_train['Accomodation_Type'].values).reshape(-1,1)\n",
    "X_cv_accomodation_ohe = labelencoder.transform(X_cv['Accomodation_Type'].values).reshape(-1,1)\n",
    "X_test_accomodation_ohe = labelencoder.transform(X_test['Accomodation_Type'].values).reshape(-1,1)\n",
    "\n",
    "print(\"After vectorizations\")\n",
    "print(X_train_accomodation_ohe.shape, y_train.shape)\n",
    "print(X_cv_accomodation_ohe.shape, y_cv.shape)\n",
    "#print(labelencoder.get_feature_names())\n",
    "feature_names.extend('Accomodation_Type')\n",
    "print(\"=\"*100)"
   ]
  },
  {
   "cell_type": "code",
   "execution_count": 70,
   "id": "loaded-cannon",
   "metadata": {},
   "outputs": [
    {
     "name": "stdout",
     "output_type": "stream",
     "text": [
      "After vectorizations\n",
      "(31352, 1) (31352,)\n",
      "(7839, 1) (7839,)\n",
      "====================================================================================================\n"
     ]
    }
   ],
   "source": [
    "# creating instance of labelencoder\n",
    "labelencoder = LabelEncoder()\n",
    "# Assigning numerical values and storing in another column\n",
    "labelencoder.fit(X_train['Reco_Insurance_Type'])\n",
    "\n",
    "# we use the fitted CountVectorizer to convert the text to vector\n",
    "X_train_ins_type_ohe = labelencoder.transform(X_train['Reco_Insurance_Type'].values).reshape(-1,1)\n",
    "X_cv_ins_type_ohe = labelencoder.transform(X_cv['Reco_Insurance_Type'].values).reshape(-1,1)\n",
    "X_test_ins_type_ohe = labelencoder.transform(X_test['Reco_Insurance_Type'].values).reshape(-1,1)\n",
    "\n",
    "print(\"After vectorizations\")\n",
    "print(X_train_ins_type_ohe.shape, y_train.shape)\n",
    "print(X_cv_ins_type_ohe.shape, y_cv.shape)\n",
    "#print(labelencoder.get_feature_names())\n",
    "feature_names.extend('Reco_Insurance_Type')\n",
    "print(\"=\"*100)"
   ]
  },
  {
   "cell_type": "code",
   "execution_count": 71,
   "id": "swedish-mills",
   "metadata": {},
   "outputs": [
    {
     "name": "stdout",
     "output_type": "stream",
     "text": [
      "After vectorizations\n",
      "(31352, 1) (31352,)\n",
      "(7839, 1) (7839,)\n",
      "====================================================================================================\n"
     ]
    }
   ],
   "source": [
    "# creating instance of labelencoder\n",
    "labelencoder = LabelEncoder()\n",
    "# Assigning numerical values and storing in another column\n",
    "labelencoder.fit(X_train['Is_Spouse'])\n",
    "\n",
    "# we use the fitted CountVectorizer to convert the text to vector\n",
    "X_train_spouse_ohe = labelencoder.transform(X_train['Is_Spouse'].values).reshape(-1,1)\n",
    "X_cv_spouse_ohe = labelencoder.transform(X_cv['Is_Spouse'].values).reshape(-1,1)\n",
    "X_test_spouse_ohe = labelencoder.transform(X_test['Is_Spouse'].values).reshape(-1,1)\n",
    "\n",
    "print(\"After vectorizations\")\n",
    "print(X_train_spouse_ohe.shape, y_train.shape)\n",
    "print(X_cv_spouse_ohe.shape, y_cv.shape)\n",
    "#print(labelencoder.get_feature_names())\n",
    "feature_names.extend('Is_Spouse')\n",
    "print(\"=\"*100)"
   ]
  },
  {
   "cell_type": "code",
   "execution_count": 72,
   "id": "sitting-twins",
   "metadata": {},
   "outputs": [
    {
     "name": "stdout",
     "output_type": "stream",
     "text": [
      "After vectorizations\n",
      "(31352, 1) (31352,)\n",
      "(7839, 1) (7839,)\n",
      "====================================================================================================\n"
     ]
    }
   ],
   "source": [
    "# creating instance of labelencoder\n",
    "labelencoder = LabelEncoder()\n",
    "# Assigning numerical values and storing in another column\n",
    "labelencoder.fit(X_train['Response'])\n",
    "\n",
    "# we use the fitted CountVectorizer to convert the text to vector\n",
    "X_train_response_ohe = labelencoder.transform(X_train['Response'].values).reshape(-1,1)\n",
    "X_cv_response_ohe = labelencoder.transform(X_cv['Response'].values).reshape(-1,1)\n",
    "X_test_response_ohe = labelencoder.transform(X_test['Response'].values).reshape(-1,1)\n",
    "\n",
    "print(\"After vectorizations\")\n",
    "print(X_train_response_ohe.shape, y_train.shape)\n",
    "print(X_cv_response_ohe.shape, y_cv.shape)\n",
    "#print(labelencoder.get_feature_names())\n",
    "feature_names.extend('Response')\n",
    "print(\"=\"*100)"
   ]
  },
  {
   "cell_type": "code",
   "execution_count": 73,
   "id": "absent-program",
   "metadata": {},
   "outputs": [
    {
     "name": "stdout",
     "output_type": "stream",
     "text": [
      "After vectorizations\n",
      "(31352, 15) (31352,)\n",
      "(7839, 15) (7839,)\n",
      "['0', '1', '10', '11', '12', '13', '14', '2', '3', '4', '5', '6', '7', '8', '9'] 15\n",
      "====================================================================================================\n"
     ]
    }
   ],
   "source": [
    "#token_pattern is set as the default token pattern in CountVectorizer does not capture 'single characters'\n",
    "vectorizer = CountVectorizer(token_pattern='\\\\b\\\\w+\\\\b')\n",
    "\n",
    "vectorizer.fit(X_train['Holding_Policy_Duration'].values) # fit has to happen only on train data\n",
    "\n",
    "# we use the fitted CountVectorizer to convert the text to vector\n",
    "X_train_hold_dur_ohe = vectorizer.transform(X_train['Holding_Policy_Duration'].values)\n",
    "X_cv_hold_dur_ohe = vectorizer.transform(X_cv['Holding_Policy_Duration'].values)\n",
    "X_test_hold_dur_ohe = vectorizer.transform(X_test['Holding_Policy_Duration'].values)\n",
    "\n",
    "print(\"After vectorizations\")\n",
    "print(X_train_hold_dur_ohe.shape, y_train.shape)\n",
    "print(X_cv_hold_dur_ohe.shape, y_cv.shape)\n",
    "print(vectorizer.get_feature_names(),len(vectorizer.get_feature_names()))\n",
    "feature_names.extend(vectorizer.get_feature_names())\n",
    "print(\"=\"*100)"
   ]
  },
  {
   "cell_type": "code",
   "execution_count": 74,
   "id": "offshore-attribute",
   "metadata": {},
   "outputs": [
    {
     "name": "stdout",
     "output_type": "stream",
     "text": [
      "After vectorizations\n",
      "(31352, 6) (31352,)\n",
      "(7839, 6) (7839,)\n",
      "['0', '1', '2', '3', '4', 'no_policy'] 6\n",
      "====================================================================================================\n"
     ]
    }
   ],
   "source": [
    "vectorizer = CountVectorizer(token_pattern='\\\\b\\\\w+\\\\b')\n",
    "\n",
    "vectorizer.fit(X_train['Holding_Policy_Type'].values) # fit has to happen only on train data\n",
    "\n",
    "# we use the fitted CountVectorizer to convert the text to vector\n",
    "X_train_hold_type_ohe = vectorizer.transform(X_train['Holding_Policy_Type'].values)\n",
    "X_cv_hold_type_ohe = vectorizer.transform(X_cv['Holding_Policy_Type'].values)\n",
    "X_test_hold_type_ohe = vectorizer.transform(X_test['Holding_Policy_Type'].values)\n",
    "\n",
    "print(\"After vectorizations\")\n",
    "print(X_train_hold_type_ohe.shape, y_train.shape)\n",
    "print(X_cv_hold_type_ohe.shape, y_cv.shape)\n",
    "print(vectorizer.get_feature_names(),len(vectorizer.get_feature_names()))\n",
    "feature_names.extend(vectorizer.get_feature_names())\n",
    "print(\"=\"*100)"
   ]
  },
  {
   "cell_type": "code",
   "execution_count": 75,
   "id": "requested-variable",
   "metadata": {},
   "outputs": [
    {
     "name": "stdout",
     "output_type": "stream",
     "text": [
      "After vectorizations\n",
      "(31352, 22) (31352,)\n",
      "(7839, 22) (7839,)\n",
      "['1', '10', '11', '12', '13', '14', '15', '16', '17', '18', '19', '2', '20', '21', '22', '3', '4', '5', '6', '7', '8', '9'] 22\n",
      "====================================================================================================\n"
     ]
    }
   ],
   "source": [
    "vectorizer = CountVectorizer(token_pattern='\\\\b\\\\w+\\\\b')\n",
    "\n",
    "vectorizer.fit(X_train['Reco_Policy_Cat'].values) # fit has to happen only on train data\n",
    "\n",
    "# we use the fitted CountVectorizer to convert the text to vector\n",
    "X_train_pol_cat_ohe = vectorizer.transform(X_train['Reco_Policy_Cat'].values)\n",
    "X_cv_pol_cat_ohe = vectorizer.transform(X_cv['Reco_Policy_Cat'].values)\n",
    "X_test_pol_cat_ohe = vectorizer.transform(X_test['Reco_Policy_Cat'].values)\n",
    "\n",
    "print(\"After vectorizations\")\n",
    "print(X_train_pol_cat_ohe.shape, y_train.shape)\n",
    "print(X_cv_pol_cat_ohe.shape, y_cv.shape)\n",
    "print(vectorizer.get_feature_names(),len(vectorizer.get_feature_names()))\n",
    "feature_names.extend(vectorizer.get_feature_names())\n",
    "print(\"=\"*100)"
   ]
  },
  {
   "cell_type": "code",
   "execution_count": 76,
   "id": "offensive-wales",
   "metadata": {},
   "outputs": [
    {
     "name": "stdout",
     "output_type": "stream",
     "text": [
      "After vectorizations\n",
      "(31352, 1) (31352,)\n",
      "(7839, 1) (7839,)\n",
      "====================================================================================================\n"
     ]
    }
   ],
   "source": [
    "from sklearn.preprocessing import Normalizer\n",
    "normalizer = Normalizer()\n",
    "\n",
    "normalizer.fit(X_train['Upper_Age'].values.reshape(-1,1))\n",
    "\n",
    "X_train_upper_age_norm = normalizer.transform(X_train['Upper_Age'].values.reshape(-1,1))\n",
    "X_cv_upper_age_norm = normalizer.transform(X_cv['Upper_Age'].values.reshape(-1,1))\n",
    "X_test_upper_age_norm = normalizer.transform(X_test['Upper_Age'].values.reshape(-1,1))\n",
    "\n",
    "print(\"After vectorizations\")\n",
    "print(X_train_upper_age_norm.shape, y_train.shape)\n",
    "print(X_cv_upper_age_norm.shape, y_cv.shape)\n",
    "feature_names.extend('Upper_Age')\n",
    "print(\"=\"*100)\n"
   ]
  },
  {
   "cell_type": "code",
   "execution_count": 77,
   "id": "corresponding-tunisia",
   "metadata": {
    "scrolled": true
   },
   "outputs": [
    {
     "name": "stdout",
     "output_type": "stream",
     "text": [
      "After vectorizations\n",
      "(31352, 1) (31352,)\n",
      "(7839, 1) (7839,)\n",
      "====================================================================================================\n"
     ]
    }
   ],
   "source": [
    "normalizer = Normalizer()\n",
    "\n",
    "normalizer.fit(X_train['Lower_Age'].values.reshape(-1,1))\n",
    "\n",
    "X_train_lower_age_norm = normalizer.transform(X_train['Lower_Age'].values.reshape(-1,1))\n",
    "X_cv_lower_age_norm = normalizer.transform(X_cv['Lower_Age'].values.reshape(-1,1))\n",
    "X_test_lower_age_norm = normalizer.transform(X_test['Lower_Age'].values.reshape(-1,1))\n",
    "\n",
    "print(\"After vectorizations\")\n",
    "print(X_train_lower_age_norm.shape, y_train.shape)\n",
    "print(X_cv_lower_age_norm.shape, y_cv.shape)\n",
    "feature_names.extend('Lower_Age')\n",
    "print(\"=\"*100)\n"
   ]
  },
  {
   "cell_type": "code",
   "execution_count": 78,
   "id": "overhead-electronics",
   "metadata": {},
   "outputs": [
    {
     "name": "stdout",
     "output_type": "stream",
     "text": [
      "After vectorizations\n",
      "(31352, 1) (31352,)\n",
      "(7839, 1) (7839,)\n",
      "====================================================================================================\n"
     ]
    }
   ],
   "source": [
    "normalizer = Normalizer()\n",
    "\n",
    "normalizer.fit(X_train['Reco_Policy_Premium'].values.reshape(-1,1))\n",
    "\n",
    "X_train_pol_prem_norm = normalizer.transform(X_train['Reco_Policy_Premium'].values.reshape(-1,1))\n",
    "X_cv_pol_prem_norm = normalizer.transform(X_cv['Reco_Policy_Premium'].values.reshape(-1,1))\n",
    "X_test_pol_prem_norm = normalizer.transform(X_test['Reco_Policy_Premium'].values.reshape(-1,1))\n",
    "\n",
    "print(\"After vectorizations\")\n",
    "print(X_train_pol_prem_norm.shape, y_train.shape)\n",
    "print(X_cv_pol_prem_norm.shape, y_cv.shape)\n",
    "feature_names.extend('Reco_Policy_Premium')\n",
    "print(\"=\"*100)\n"
   ]
  },
  {
   "cell_type": "code",
   "execution_count": 80,
   "id": "acute-witch",
   "metadata": {},
   "outputs": [
    {
     "name": "stdout",
     "output_type": "stream",
     "text": [
      "Final Data matrix\n",
      "(31352, 5058) (31352,)\n",
      "(7839, 5058) (7839,)\n",
      "(11691, 5058)\n",
      "====================================================================================================\n"
     ]
    }
   ],
   "source": [
    "## Concatenating all features\n",
    "\n",
    "from scipy.sparse import hstack\n",
    "X_tr = hstack((X_train_city_ohe,X_train_region_ohe,X_train_accomodation_ohe,X_train_ins_type_ohe,X_train_spouse_ohe,X_train_response_ohe,X_train_hold_dur_ohe,X_train_hold_type_ohe,X_train_pol_cat_ohe,X_train_upper_age_norm,X_train_lower_age_norm,X_train_pol_prem_norm)).tocsr()\n",
    "X_cr = hstack((X_cv_city_ohe,X_cv_region_ohe,X_cv_accomodation_ohe,X_cv_ins_type_ohe,X_cv_spouse_ohe,X_cv_response_ohe,X_cv_hold_dur_ohe,X_cv_hold_type_ohe,X_cv_pol_cat_ohe,X_cv_upper_age_norm,X_cv_lower_age_norm,X_cv_pol_prem_norm)).tocsr()\n",
    "X_te = hstack((X_test_city_ohe,X_test_region_ohe,X_test_accomodation_ohe,X_test_ins_type_ohe,X_test_spouse_ohe,X_test_response_ohe,X_test_hold_dur_ohe,X_test_hold_type_ohe,X_test_pol_cat_ohe,X_test_upper_age_norm,X_test_lower_age_norm,X_test_pol_prem_norm)).tocsr()\n",
    "\n",
    "print(\"Final Data matrix\")\n",
    "print(X_tr.shape, y_train.shape)\n",
    "print(X_cr.shape, y_cv.shape)\n",
    "print(X_te.shape)\n",
    "print(\"=\"*100)"
   ]
  },
  {
   "cell_type": "markdown",
   "id": "finished-green",
   "metadata": {},
   "source": [
    "<h2>4.1 Appling NB on different kind of featurization</h2>"
   ]
  },
  {
   "cell_type": "code",
   "execution_count": 81,
   "id": "advisory-invitation",
   "metadata": {},
   "outputs": [],
   "source": [
    "def batch_predict(clf, data):\n",
    "    # roc_auc_score(y_true, y_score) the 2nd parameter should be probability estimates of the positive class\n",
    "    # not the predicted outputs\n",
    "\n",
    "    y_data_pred = []\n",
    "    tr_loop = data.shape[0] - data.shape[0]%1000\n",
    "    for i in range(0, tr_loop, 1000):\n",
    "        y_data_pred.extend(clf.predict_proba(data[i:i+1000])[:,1])\n",
    "    # we will be predicting for the last data points\n",
    "    if data.shape[0]%1000 !=0:\n",
    "        y_data_pred.extend(clf.predict_proba(data[tr_loop:])[:,1])\n",
    "    return y_data_pred"
   ]
  },
  {
   "cell_type": "code",
   "execution_count": 102,
   "id": "governmental-sunset",
   "metadata": {},
   "outputs": [
    {
     "data": {
      "image/png": "[encoded data removed]",
      "text/plain": [
       "<Figure size 432x288 with 1 Axes>"
      ]
     },
     "metadata": {
      "needs_background": "light"
     },
     "output_type": "display_data"
    },
    {
     "data": {
      "text/html": [
       "<div>\n",
       "<style scoped>\n",
       "    .dataframe tbody tr th:only-of-type {\n",
       "        vertical-align: middle;\n",
       "    }\n",
       "\n",
       "    .dataframe tbody tr th {\n",
       "        vertical-align: top;\n",
       "    }\n",
       "\n",
       "    .dataframe thead th {\n",
       "        text-align: right;\n",
       "    }\n",
       "</style>\n",
       "<table border=\"1\" class=\"dataframe\">\n",
       "  <thead>\n",
       "    <tr style=\"text-align: right;\">\n",
       "      <th></th>\n",
       "      <th>mean_fit_time</th>\n",
       "      <th>std_fit_time</th>\n",
       "      <th>mean_score_time</th>\n",
       "      <th>std_score_time</th>\n",
       "      <th>param_alpha</th>\n",
       "      <th>params</th>\n",
       "      <th>split0_test_score</th>\n",
       "      <th>split1_test_score</th>\n",
       "      <th>split2_test_score</th>\n",
       "      <th>mean_test_score</th>\n",
       "      <th>std_test_score</th>\n",
       "      <th>rank_test_score</th>\n",
       "      <th>split0_train_score</th>\n",
       "      <th>split1_train_score</th>\n",
       "      <th>split2_train_score</th>\n",
       "      <th>mean_train_score</th>\n",
       "      <th>std_train_score</th>\n",
       "    </tr>\n",
       "  </thead>\n",
       "  <tbody>\n",
       "    <tr>\n",
       "      <th>0</th>\n",
       "      <td>0.037014</td>\n",
       "      <td>0.001409</td>\n",
       "      <td>0.004997</td>\n",
       "      <td>0.000004</td>\n",
       "      <td>1</td>\n",
       "      <td>{'alpha': 1}</td>\n",
       "      <td>0.308966</td>\n",
       "      <td>0.318534</td>\n",
       "      <td>0.308421</td>\n",
       "      <td>0.311974</td>\n",
       "      <td>0.004644</td>\n",
       "      <td>8</td>\n",
       "      <td>0.470839</td>\n",
       "      <td>0.468303</td>\n",
       "      <td>0.466702</td>\n",
       "      <td>0.468614</td>\n",
       "      <td>0.001703</td>\n",
       "    </tr>\n",
       "    <tr>\n",
       "      <th>1</th>\n",
       "      <td>0.036007</td>\n",
       "      <td>0.000010</td>\n",
       "      <td>0.005003</td>\n",
       "      <td>0.000007</td>\n",
       "      <td>2</td>\n",
       "      <td>{'alpha': 2}</td>\n",
       "      <td>0.327241</td>\n",
       "      <td>0.333939</td>\n",
       "      <td>0.325550</td>\n",
       "      <td>0.328910</td>\n",
       "      <td>0.003622</td>\n",
       "      <td>7</td>\n",
       "      <td>0.415674</td>\n",
       "      <td>0.417301</td>\n",
       "      <td>0.415032</td>\n",
       "      <td>0.416002</td>\n",
       "      <td>0.000955</td>\n",
       "    </tr>\n",
       "    <tr>\n",
       "      <th>2</th>\n",
       "      <td>0.035678</td>\n",
       "      <td>0.000475</td>\n",
       "      <td>0.005331</td>\n",
       "      <td>0.000470</td>\n",
       "      <td>3</td>\n",
       "      <td>{'alpha': 3}</td>\n",
       "      <td>0.333174</td>\n",
       "      <td>0.335470</td>\n",
       "      <td>0.328230</td>\n",
       "      <td>0.332291</td>\n",
       "      <td>0.003021</td>\n",
       "      <td>3</td>\n",
       "      <td>0.388402</td>\n",
       "      <td>0.387589</td>\n",
       "      <td>0.387044</td>\n",
       "      <td>0.387679</td>\n",
       "      <td>0.000558</td>\n",
       "    </tr>\n",
       "    <tr>\n",
       "      <th>3</th>\n",
       "      <td>0.035680</td>\n",
       "      <td>0.000473</td>\n",
       "      <td>0.005328</td>\n",
       "      <td>0.000469</td>\n",
       "      <td>5</td>\n",
       "      <td>{'alpha': 5}</td>\n",
       "      <td>0.332695</td>\n",
       "      <td>0.335757</td>\n",
       "      <td>0.335120</td>\n",
       "      <td>0.334524</td>\n",
       "      <td>0.001319</td>\n",
       "      <td>1</td>\n",
       "      <td>0.354768</td>\n",
       "      <td>0.353237</td>\n",
       "      <td>0.355516</td>\n",
       "      <td>0.354507</td>\n",
       "      <td>0.000949</td>\n",
       "    </tr>\n",
       "    <tr>\n",
       "      <th>4</th>\n",
       "      <td>0.036682</td>\n",
       "      <td>0.000948</td>\n",
       "      <td>0.005328</td>\n",
       "      <td>0.000473</td>\n",
       "      <td>7</td>\n",
       "      <td>{'alpha': 7}</td>\n",
       "      <td>0.332504</td>\n",
       "      <td>0.332887</td>\n",
       "      <td>0.335024</td>\n",
       "      <td>0.333472</td>\n",
       "      <td>0.001109</td>\n",
       "      <td>2</td>\n",
       "      <td>0.339075</td>\n",
       "      <td>0.337400</td>\n",
       "      <td>0.340159</td>\n",
       "      <td>0.338878</td>\n",
       "      <td>0.001135</td>\n",
       "    </tr>\n",
       "  </tbody>\n",
       "</table>\n",
       "</div>"
      ],
      "text/plain": [
       "   mean_fit_time  std_fit_time  mean_score_time  std_score_time param_alpha  \\\n",
       "0       0.037014      0.001409         0.004997        0.000004           1   \n",
       "1       0.036007      0.000010         0.005003        0.000007           2   \n",
       "2       0.035678      0.000475         0.005331        0.000470           3   \n",
       "3       0.035680      0.000473         0.005328        0.000469           5   \n",
       "4       0.036682      0.000948         0.005328        0.000473           7   \n",
       "\n",
       "         params  split0_test_score  split1_test_score  split2_test_score  \\\n",
       "0  {'alpha': 1}           0.308966           0.318534           0.308421   \n",
       "1  {'alpha': 2}           0.327241           0.333939           0.325550   \n",
       "2  {'alpha': 3}           0.333174           0.335470           0.328230   \n",
       "3  {'alpha': 5}           0.332695           0.335757           0.335120   \n",
       "4  {'alpha': 7}           0.332504           0.332887           0.335024   \n",
       "\n",
       "   mean_test_score  std_test_score  rank_test_score  split0_train_score  \\\n",
       "0         0.311974        0.004644                8            0.470839   \n",
       "1         0.328910        0.003622                7            0.415674   \n",
       "2         0.332291        0.003021                3            0.388402   \n",
       "3         0.334524        0.001319                1            0.354768   \n",
       "4         0.333472        0.001109                2            0.339075   \n",
       "\n",
       "   split1_train_score  split2_train_score  mean_train_score  std_train_score  \n",
       "0            0.468303            0.466702          0.468614         0.001703  \n",
       "1            0.417301            0.415032          0.416002         0.000955  \n",
       "2            0.387589            0.387044          0.387679         0.000558  \n",
       "3            0.353237            0.355516          0.354507         0.000949  \n",
       "4            0.337400            0.340159          0.338878         0.001135  "
      ]
     },
     "execution_count": 102,
     "metadata": {},
     "output_type": "execute_result"
    }
   ],
   "source": [
    "import matplotlib.pyplot as plt\n",
    "from sklearn.naive_bayes import MultinomialNB\n",
    "from sklearn.metrics import roc_auc_score\n",
    "from sklearn.model_selection import GridSearchCV\n",
    "from scipy.stats import randint as sp_randint\n",
    "from sklearn.model_selection import RandomizedSearchCV\n",
    "\n",
    "\n",
    "summary=[]\n",
    "\n",
    "clf_nb = MultinomialNB()\n",
    "parameters = {'alpha':[1, 2, 3, 5, 7, 15,30,50]}\n",
    "clf = GridSearchCV(clf_nb, parameters, cv=3, scoring='accuracy',return_train_score=True)\n",
    "clf.fit(X_tr, y_train)\n",
    "\n",
    "results = pd.DataFrame.from_dict(clf.cv_results_)\n",
    "results = results.sort_values(['param_alpha'])\n",
    "\n",
    "train_auc= results['mean_train_score']\n",
    "train_auc_std= results['std_train_score']\n",
    "cv_auc = results['mean_test_score'] \n",
    "cv_auc_std= results['std_test_score']\n",
    "K =  results['param_alpha']\n",
    "\n",
    "plt.plot(K, train_auc, label='Train Accuracy')\n",
    "\n",
    "plt.plot(K, cv_auc, label='CV Accuracy')\n",
    "\n",
    "plt.scatter(K, train_auc, label='Train Accuracy points')\n",
    "plt.scatter(K, cv_auc, label='CV Accuracy points')\n",
    "\n",
    "\n",
    "plt.legend()\n",
    "plt.xlabel(\"alpha: hyperparameter\")\n",
    "plt.ylabel(\"Accuracy\")\n",
    "plt.title(\"Hyper parameter Vs Accuracy plot\")\n",
    "plt.grid()\n",
    "plt.show()\n",
    "\n",
    "results.head()"
   ]
  },
  {
   "cell_type": "markdown",
   "id": "altered-romantic",
   "metadata": {},
   "source": [
    "#### Testing the performance of the model on test data, plotting ROC Curves"
   ]
  },
  {
   "cell_type": "code",
   "execution_count": 103,
   "id": "middle-causing",
   "metadata": {},
   "outputs": [
    {
     "data": {
      "text/plain": [
       "{'alpha': 5}"
      ]
     },
     "execution_count": 103,
     "metadata": {},
     "output_type": "execute_result"
    }
   ],
   "source": [
    "clf.best_params_"
   ]
  },
  {
   "cell_type": "code",
   "execution_count": 104,
   "id": "protecting-austria",
   "metadata": {},
   "outputs": [],
   "source": [
    "#here we are choosing the best_alpha based on forloop results\n",
    "best_alpha = 5"
   ]
  },
  {
   "cell_type": "code",
   "execution_count": 105,
   "id": "atlantic-fraction",
   "metadata": {
    "scrolled": true
   },
   "outputs": [
    {
     "name": "stdout",
     "output_type": "stream",
     "text": [
      "Train Accuracy: 0.3352577188058178\n",
      "Test Accuracy: 0.33499170812603646\n"
     ]
    }
   ],
   "source": [
    "clf = MultinomialNB(alpha = best_alpha)\n",
    "clf.fit(X_tr, y_train)\n",
    "# roc_auc_score(y_true, y_score) the 2nd parameter should be probability estimates of the positive class\n",
    "# not the predicted outputs\n",
    "\n",
    "y_train_pred = batch_predict(clf, X_tr)    \n",
    "y_test_pred = batch_predict(clf, X_cr)\n",
    "\n",
    "train_acc=accuracy_score(y_train, y_train_pred_result)\n",
    "cv_acc=accuracy_score(y_cv, y_cv_pred_result)\n",
    "print('Train Accuracy:',train_acc)\n",
    "print('Test Accuracy:',cv_acc)\n",
    "summary.append(['Naive Bayes',best_alpha,np.round(cv_acc,2)])"
   ]
  },
  {
   "cell_type": "markdown",
   "id": "closing-electricity",
   "metadata": {},
   "source": [
    "## 4.2 Apply KNN"
   ]
  },
  {
   "cell_type": "code",
   "execution_count": 98,
   "id": "binding-legislature",
   "metadata": {
    "scrolled": true
   },
   "outputs": [
    {
     "data": {
      "image/png": "[encoded data removed]",
      "text/plain": [
       "<Figure size 432x288 with 1 Axes>"
      ]
     },
     "metadata": {
      "needs_background": "light"
     },
     "output_type": "display_data"
    },
    {
     "data": {
      "text/html": [
       "<div>\n",
       "<style scoped>\n",
       "    .dataframe tbody tr th:only-of-type {\n",
       "        vertical-align: middle;\n",
       "    }\n",
       "\n",
       "    .dataframe tbody tr th {\n",
       "        vertical-align: top;\n",
       "    }\n",
       "\n",
       "    .dataframe thead th {\n",
       "        text-align: right;\n",
       "    }\n",
       "</style>\n",
       "<table border=\"1\" class=\"dataframe\">\n",
       "  <thead>\n",
       "    <tr style=\"text-align: right;\">\n",
       "      <th></th>\n",
       "      <th>mean_fit_time</th>\n",
       "      <th>std_fit_time</th>\n",
       "      <th>mean_score_time</th>\n",
       "      <th>std_score_time</th>\n",
       "      <th>param_n_neighbors</th>\n",
       "      <th>params</th>\n",
       "      <th>split0_test_score</th>\n",
       "      <th>split1_test_score</th>\n",
       "      <th>split2_test_score</th>\n",
       "      <th>mean_test_score</th>\n",
       "      <th>std_test_score</th>\n",
       "      <th>rank_test_score</th>\n",
       "      <th>split0_train_score</th>\n",
       "      <th>split1_train_score</th>\n",
       "      <th>split2_train_score</th>\n",
       "      <th>mean_train_score</th>\n",
       "      <th>std_train_score</th>\n",
       "    </tr>\n",
       "  </thead>\n",
       "  <tbody>\n",
       "    <tr>\n",
       "      <th>0</th>\n",
       "      <td>0.014343</td>\n",
       "      <td>0.001249</td>\n",
       "      <td>7.137312</td>\n",
       "      <td>0.147515</td>\n",
       "      <td>100</td>\n",
       "      <td>{'n_neighbors': 100}</td>\n",
       "      <td>0.323797</td>\n",
       "      <td>0.329155</td>\n",
       "      <td>0.319330</td>\n",
       "      <td>0.324094</td>\n",
       "      <td>0.004017</td>\n",
       "      <td>4</td>\n",
       "      <td>0.346347</td>\n",
       "      <td>0.344720</td>\n",
       "      <td>0.349632</td>\n",
       "      <td>0.346900</td>\n",
       "      <td>0.002043</td>\n",
       "    </tr>\n",
       "    <tr>\n",
       "      <th>1</th>\n",
       "      <td>0.014002</td>\n",
       "      <td>0.000813</td>\n",
       "      <td>7.791503</td>\n",
       "      <td>0.775733</td>\n",
       "      <td>200</td>\n",
       "      <td>{'n_neighbors': 200}</td>\n",
       "      <td>0.329059</td>\n",
       "      <td>0.334800</td>\n",
       "      <td>0.329091</td>\n",
       "      <td>0.330984</td>\n",
       "      <td>0.002699</td>\n",
       "      <td>3</td>\n",
       "      <td>0.340749</td>\n",
       "      <td>0.340079</td>\n",
       "      <td>0.341546</td>\n",
       "      <td>0.340792</td>\n",
       "      <td>0.000600</td>\n",
       "    </tr>\n",
       "    <tr>\n",
       "      <th>2</th>\n",
       "      <td>0.013670</td>\n",
       "      <td>0.000473</td>\n",
       "      <td>7.798392</td>\n",
       "      <td>0.266269</td>\n",
       "      <td>500</td>\n",
       "      <td>{'n_neighbors': 500}</td>\n",
       "      <td>0.331164</td>\n",
       "      <td>0.332695</td>\n",
       "      <td>0.333493</td>\n",
       "      <td>0.332451</td>\n",
       "      <td>0.000966</td>\n",
       "      <td>2</td>\n",
       "      <td>0.336348</td>\n",
       "      <td>0.335199</td>\n",
       "      <td>0.335518</td>\n",
       "      <td>0.335688</td>\n",
       "      <td>0.000484</td>\n",
       "    </tr>\n",
       "    <tr>\n",
       "      <th>3</th>\n",
       "      <td>0.013668</td>\n",
       "      <td>0.000944</td>\n",
       "      <td>8.150968</td>\n",
       "      <td>0.275715</td>\n",
       "      <td>1000</td>\n",
       "      <td>{'n_neighbors': 1000}</td>\n",
       "      <td>0.332313</td>\n",
       "      <td>0.333078</td>\n",
       "      <td>0.335120</td>\n",
       "      <td>0.333503</td>\n",
       "      <td>0.001185</td>\n",
       "      <td>1</td>\n",
       "      <td>0.333525</td>\n",
       "      <td>0.334960</td>\n",
       "      <td>0.333891</td>\n",
       "      <td>0.334125</td>\n",
       "      <td>0.000609</td>\n",
       "    </tr>\n",
       "  </tbody>\n",
       "</table>\n",
       "</div>"
      ],
      "text/plain": [
       "   mean_fit_time  std_fit_time  mean_score_time  std_score_time  \\\n",
       "0       0.014343      0.001249         7.137312        0.147515   \n",
       "1       0.014002      0.000813         7.791503        0.775733   \n",
       "2       0.013670      0.000473         7.798392        0.266269   \n",
       "3       0.013668      0.000944         8.150968        0.275715   \n",
       "\n",
       "  param_n_neighbors                 params  split0_test_score  \\\n",
       "0               100   {'n_neighbors': 100}           0.323797   \n",
       "1               200   {'n_neighbors': 200}           0.329059   \n",
       "2               500   {'n_neighbors': 500}           0.331164   \n",
       "3              1000  {'n_neighbors': 1000}           0.332313   \n",
       "\n",
       "   split1_test_score  split2_test_score  mean_test_score  std_test_score  \\\n",
       "0           0.329155           0.319330         0.324094        0.004017   \n",
       "1           0.334800           0.329091         0.330984        0.002699   \n",
       "2           0.332695           0.333493         0.332451        0.000966   \n",
       "3           0.333078           0.335120         0.333503        0.001185   \n",
       "\n",
       "   rank_test_score  split0_train_score  split1_train_score  \\\n",
       "0                4            0.346347            0.344720   \n",
       "1                3            0.340749            0.340079   \n",
       "2                2            0.336348            0.335199   \n",
       "3                1            0.333525            0.334960   \n",
       "\n",
       "   split2_train_score  mean_train_score  std_train_score  \n",
       "0            0.349632          0.346900         0.002043  \n",
       "1            0.341546          0.340792         0.000600  \n",
       "2            0.335518          0.335688         0.000484  \n",
       "3            0.333891          0.334125         0.000609  "
      ]
     },
     "execution_count": 98,
     "metadata": {},
     "output_type": "execute_result"
    }
   ],
   "source": [
    "import matplotlib.pyplot as plt\n",
    "from sklearn.neighbors import KNeighborsClassifier\n",
    "from sklearn.metrics import roc_auc_score\n",
    "\n",
    "neigh = KNeighborsClassifier(n_jobs=-1)\n",
    "parameters = {'n_neighbors':[100,200,500,1000]}\n",
    "clf = RandomizedSearchCV(neigh, parameters, cv=3, scoring='accuracy',return_train_score=True)\n",
    "clf.fit(X_tr, y_train)\n",
    "\n",
    "results = pd.DataFrame.from_dict(clf.cv_results_)\n",
    "results = results.sort_values(['param_n_neighbors'])\n",
    "\n",
    "train_auc= results['mean_train_score']\n",
    "train_auc_std= results['std_train_score']\n",
    "cv_auc = results['mean_test_score'] \n",
    "cv_auc_std= results['std_test_score']\n",
    "K =  results['param_n_neighbors']\n",
    "\n",
    "plt.plot(K, train_auc, label='Train Accuracy')\n",
    "\n",
    "plt.plot(K, cv_auc, label='CV Accuracy')\n",
    "\n",
    "plt.scatter(K, train_auc, label='Train Accuracy points')\n",
    "plt.scatter(K, cv_auc, label='CV Accuracy points')\n",
    "\n",
    "\n",
    "plt.legend()\n",
    "plt.xlabel(\"alpha: hyperparameter\")\n",
    "plt.ylabel(\"Accuracy\")\n",
    "plt.title(\"Hyper parameter Vs Accuracy plot\")\n",
    "plt.grid()\n",
    "plt.show()\n",
    "\n",
    "results.head()"
   ]
  },
  {
   "cell_type": "markdown",
   "id": "governmental-rolling",
   "metadata": {
    "colab_type": "text",
    "id": "vnETjzY17lIc"
   },
   "source": [
    "#### 1.5.1.2 Testing the performance of the model on test data, plotting ROC Curves"
   ]
  },
  {
   "cell_type": "code",
   "execution_count": 107,
   "id": "stylish-india",
   "metadata": {
    "colab": {},
    "colab_type": "code",
    "id": "bR1M5Rys7lIe"
   },
   "outputs": [],
   "source": [
    "#here we are choosing the best_k based on forloop results\n",
    "best_k = 1000"
   ]
  },
  {
   "cell_type": "code",
   "execution_count": 108,
   "id": "scheduled-struggle",
   "metadata": {
    "colab": {},
    "colab_type": "code",
    "id": "fQNRGeeR7lIo",
    "outputId": "2fac27b0-fb3c-46ad-b810-05c37ee0fb39",
    "scrolled": true
   },
   "outputs": [
    {
     "name": "stdout",
     "output_type": "stream",
     "text": [
      "Train Accuracy: 0.3352577188058178\n",
      "Test Accuracy: 0.33499170812603646\n"
     ]
    }
   ],
   "source": [
    "# https://scikit-learn.org/stable/modules/generated/sklearn.metrics.roc_curve.html#sklearn.metrics.roc_curve\n",
    "from sklearn.metrics import accuracy_score\n",
    "\n",
    "neigh = KNeighborsClassifier(n_neighbors=best_k, n_jobs=-1)\n",
    "neigh.fit(X_tr, y_train)\n",
    "# roc_auc_score(y_true, y_score) the 2nd parameter should be probability estimates of the positive class\n",
    "# not the predicted outputs\n",
    "\n",
    "y_train_pred = batch_predict(neigh, X_tr)    \n",
    "y_cv_pred = batch_predict(neigh, X_cr)\n",
    "y_test_pred = batch_predict(neigh, X_te)\n",
    "\n",
    "y_train_pred_result=neigh.predict(X_tr)\n",
    "y_cv_pred_result=neigh.predict(X_cr)\n",
    "\n",
    "train_acc=accuracy_score(y_train, y_train_pred_result)\n",
    "cv_acc=accuracy_score(y_cv, y_cv_pred_result)\n",
    "print('Train Accuracy:',train_acc)\n",
    "print('Test Accuracy:',cv_acc)\n",
    "\n",
    "summary.append(['KNN',best_k,np.round(cv_acc,2)])"
   ]
  },
  {
   "cell_type": "code",
   "execution_count": 112,
   "id": "satellite-economy",
   "metadata": {},
   "outputs": [
    {
     "name": "stdout",
     "output_type": "stream",
     "text": [
      "+-------------+-----------------+----------+\n",
      "|    Model    | Hyper Parameter | Accuracy |\n",
      "+-------------+-----------------+----------+\n",
      "| Naive Bayes |        5        |   0.33   |\n",
      "|     KNN     |       1000      |   0.33   |\n",
      "+-------------+-----------------+----------+\n"
     ]
    }
   ],
   "source": [
    "from prettytable import PrettyTable\n",
    "\n",
    "x = PrettyTable()\n",
    "x.field_names = [\"Model\", \"Hyper Parameter\", \"Accuracy\"]\n",
    "\n",
    "for i in range(2):\n",
    "    x.add_row([summary[i][0],summary[i][1],summary[i][2]])\n",
    "print(x)"
   ]
  },
  {
   "cell_type": "markdown",
   "id": "korean-virus",
   "metadata": {},
   "source": [
    "Since Naive Bayes has only a slightly better accuracy we will compute the missing values in Health Indiactor using KNN as it ususally performs well on imputing missing data based on the neighbouring features."
   ]
  },
  {
   "cell_type": "code",
   "execution_count": 146,
   "id": "native-lotus",
   "metadata": {},
   "outputs": [
    {
     "data": {
      "text/plain": [
       "11691"
      ]
     },
     "execution_count": 146,
     "metadata": {},
     "output_type": "execute_result"
    }
   ],
   "source": [
    "#Computed missing values stored\n",
    "y_test_pred_result=neigh.predict(X_te)\n",
    "len(y_test_pred_result)"
   ]
  },
  {
   "cell_type": "code",
   "execution_count": 151,
   "id": "dangerous-recycling",
   "metadata": {},
   "outputs": [
    {
     "data": {
      "text/plain": [
       "11691"
      ]
     },
     "execution_count": 151,
     "metadata": {},
     "output_type": "execute_result"
    }
   ],
   "source": [
    "pred_index=X_test.index\n",
    "len(X_test.index)"
   ]
  },
  {
   "cell_type": "code",
   "execution_count": 152,
   "id": "confident-expansion",
   "metadata": {},
   "outputs": [
    {
     "data": {
      "text/plain": [
       "array(['X1', 'X1', 'X2', ..., 'X1', 'X1', 'X1'], dtype=object)"
      ]
     },
     "execution_count": 152,
     "metadata": {},
     "output_type": "execute_result"
    }
   ],
   "source": [
    "y_test_pred_result"
   ]
  },
  {
   "cell_type": "markdown",
   "id": "german-double",
   "metadata": {},
   "source": [
    "<h2>5. Splitting data into Train and cross validation & test: Stratified Sampling</h2>"
   ]
  },
  {
   "cell_type": "code",
   "execution_count": 160,
   "id": "ranking-bacon",
   "metadata": {
    "scrolled": true
   },
   "outputs": [
    {
     "name": "stdout",
     "output_type": "stream",
     "text": [
      "(50882, 15)\n"
     ]
    }
   ],
   "source": [
    "policy_df = pd.read_csv('.data/train_Df64byy.csv')\n",
    "\n",
    "#Imputing missing values with the most frequent categorical variable\n",
    "#policy_df['Health Indicator'][policy_df['Health Indicator'].isna()]=policy_df['Health Indicator'].value_counts().index[0]\n",
    "\n",
    "##Imputing missing values with KNN classifier\n",
    "policy_df.loc[pred_index,'Health Indicator']=y_test_pred_result\n",
    "\n",
    "#New Binary feature for existing_customer\n",
    "a=np.zeros(policy_df.shape[0])\n",
    "policy_df['Is_Prev_Customer'] = a\n",
    "policy_df['Is_Prev_Customer'][(policy_df['Holding_Policy_Duration'].isna()) == False] = 1\n",
    "\n",
    "print(policy_df.shape)\n",
    "\n",
    "y = policy_df['Response'].values\n",
    "X = policy_df.drop(['Response'], axis=1)\n",
    "X = policy_df.drop(['ID'], axis=1)\n",
    "\n",
    "X['Holding_Policy_Duration'] = X['Holding_Policy_Duration'].replace(np.nan, '0', regex=True)\n",
    "X['Holding_Policy_Type'] = X['Holding_Policy_Type'].replace(np.nan, 'No_policy', regex=True)\n",
    "\n",
    "X['Region_Code'] = X['Region_Code'].astype(str)\n",
    "X['Holding_Policy_Type'] = X['Holding_Policy_Type'].astype(str)\n",
    "X['Reco_Policy_Cat'] = X['Reco_Policy_Cat'].astype(str)\n",
    "X_train, X_cv, y_train, y_cv = train_test_split(X, y, test_size=0.2, stratify=y)"
   ]
  },
  {
   "cell_type": "code",
   "execution_count": 161,
   "id": "stylish-saskatchewan",
   "metadata": {},
   "outputs": [
    {
     "data": {
      "text/html": [
       "<div>\n",
       "<style scoped>\n",
       "    .dataframe tbody tr th:only-of-type {\n",
       "        vertical-align: middle;\n",
       "    }\n",
       "\n",
       "    .dataframe tbody tr th {\n",
       "        vertical-align: top;\n",
       "    }\n",
       "\n",
       "    .dataframe thead th {\n",
       "        text-align: right;\n",
       "    }\n",
       "</style>\n",
       "<table border=\"1\" class=\"dataframe\">\n",
       "  <thead>\n",
       "    <tr style=\"text-align: right;\">\n",
       "      <th></th>\n",
       "      <th>ID</th>\n",
       "      <th>City_Code</th>\n",
       "      <th>Region_Code</th>\n",
       "      <th>Accomodation_Type</th>\n",
       "      <th>Reco_Insurance_Type</th>\n",
       "      <th>Upper_Age</th>\n",
       "      <th>Lower_Age</th>\n",
       "      <th>Is_Spouse</th>\n",
       "      <th>Health Indicator</th>\n",
       "      <th>Holding_Policy_Duration</th>\n",
       "      <th>Holding_Policy_Type</th>\n",
       "      <th>Reco_Policy_Cat</th>\n",
       "      <th>Reco_Policy_Premium</th>\n",
       "      <th>Response</th>\n",
       "      <th>Is_Prev_Customer</th>\n",
       "    </tr>\n",
       "  </thead>\n",
       "  <tbody>\n",
       "  </tbody>\n",
       "</table>\n",
       "</div>"
      ],
      "text/plain": [
       "Empty DataFrame\n",
       "Columns: [ID, City_Code, Region_Code, Accomodation_Type, Reco_Insurance_Type, Upper_Age, Lower_Age, Is_Spouse, Health Indicator, Holding_Policy_Duration, Holding_Policy_Type, Reco_Policy_Cat, Reco_Policy_Premium, Response, Is_Prev_Customer]\n",
       "Index: []"
      ]
     },
     "execution_count": 161,
     "metadata": {},
     "output_type": "execute_result"
    }
   ],
   "source": [
    "policy_df[policy_df['Health Indicator'].isna()]"
   ]
  },
  {
   "cell_type": "code",
   "execution_count": 162,
   "id": "advanced-shakespeare",
   "metadata": {},
   "outputs": [
    {
     "name": "stdout",
     "output_type": "stream",
     "text": [
      "(21805, 14)\n"
     ]
    }
   ],
   "source": [
    "policy_df_test = pd.read_csv('.data/test_YCcRUnU.csv')\n",
    "\n",
    "a=np.zeros(policy_df_test.shape[0])\n",
    "policy_df_test['Is_Prev_Customer'] = a\n",
    "policy_df_test['Is_Prev_Customer'][(policy_df_test['Holding_Policy_Duration'].isna()) == False] = 1\n",
    "print(policy_df_test.shape)\n",
    "\n",
    "X_test = policy_df_test.drop(['ID'], axis=1)\n",
    "X_test['Health Indicator'] = X_test['Health Indicator'].replace(np.nan, 'nan', regex=True)\n",
    "X_test['Holding_Policy_Duration'] = X_test['Holding_Policy_Duration'].replace(np.nan, 'nan', regex=True)\n",
    "X_test['Holding_Policy_Type'] = X_test['Holding_Policy_Type'].replace(np.nan, 'nan', regex=True)\n",
    "X_test['Region_Code'] = X_test['Region_Code'].astype(str)\n",
    "X_test['Holding_Policy_Type'] = X_test['Holding_Policy_Type'].astype(str)\n",
    "X_test['Reco_Policy_Cat'] = X_test['Reco_Policy_Cat'].astype(str)"
   ]
  },
  {
   "cell_type": "markdown",
   "id": "diagnostic-motivation",
   "metadata": {},
   "source": [
    "<h2>4. Make Data Model Ready: encoding numerical, categorical features</h2>"
   ]
  },
  {
   "cell_type": "markdown",
   "id": "informative-nepal",
   "metadata": {},
   "source": [
    "### 4.1 One Hot Encoding: City_Code"
   ]
  },
  {
   "cell_type": "code",
   "execution_count": 163,
   "id": "resistant-prophet",
   "metadata": {
    "scrolled": false
   },
   "outputs": [
    {
     "name": "stdout",
     "output_type": "stream",
     "text": [
      "After vectorizations\n",
      "(40705, 36) (40705,)\n",
      "(10177, 36) (10177,)\n",
      "(21805, 36)\n",
      "['c1', 'c10', 'c11', 'c12', 'c13', 'c14', 'c15', 'c16', 'c17', 'c18', 'c19', 'c2', 'c20', 'c21', 'c22', 'c23', 'c24', 'c25', 'c26', 'c27', 'c28', 'c29', 'c3', 'c30', 'c31', 'c32', 'c33', 'c34', 'c35', 'c36', 'c4', 'c5', 'c6', 'c7', 'c8', 'c9'] 36\n",
      "====================================================================================================\n"
     ]
    }
   ],
   "source": [
    "vectorizer = CountVectorizer()\n",
    "vectorizer.fit(X_train['City_Code'].values) # fit has to happen only on train data\n",
    "\n",
    "feature_names=[]\n",
    "\n",
    "# we use the fitted CountVectorizer to convert the text to vector\n",
    "X_train_city_ohe = vectorizer.transform(X_train['City_Code'].values)\n",
    "X_cv_city_ohe = vectorizer.transform(X_cv['City_Code'].values)\n",
    "X_test_city_ohe = vectorizer.transform(X_test['City_Code'].values)\n",
    "\n",
    "print(\"After vectorizations\")\n",
    "print(X_train_city_ohe.shape, y_train.shape)\n",
    "print(X_cv_city_ohe.shape, y_cv.shape)\n",
    "print(X_test_city_ohe.shape)\n",
    "print(vectorizer.get_feature_names(),len(vectorizer.get_feature_names()))\n",
    "feature_names.extend(vectorizer.get_feature_names())\n",
    "print(\"=\"*100)"
   ]
  },
  {
   "cell_type": "markdown",
   "id": "structural-berkeley",
   "metadata": {},
   "source": [
    "### 4.2 Label Encoding: Accomodation_Type"
   ]
  },
  {
   "cell_type": "code",
   "execution_count": 164,
   "id": "funny-addiction",
   "metadata": {
    "scrolled": true
   },
   "outputs": [
    {
     "name": "stdout",
     "output_type": "stream",
     "text": [
      "After vectorizations\n",
      "(40705, 1) (40705,)\n",
      "(10177, 1) (10177,)\n",
      "====================================================================================================\n"
     ]
    }
   ],
   "source": [
    "# creating instance of labelencoder\n",
    "labelencoder = LabelEncoder()\n",
    "# Assigning numerical values and storing in another column\n",
    "labelencoder.fit(X_train['Accomodation_Type'])\n",
    "\n",
    "# we use the fitted CountVectorizer to convert the text to vector\n",
    "X_train_accomodation_ohe = labelencoder.transform(X_train['Accomodation_Type'].values).reshape(-1,1)\n",
    "X_cv_accomodation_ohe = labelencoder.transform(X_cv['Accomodation_Type'].values).reshape(-1,1)\n",
    "X_test_accomodation_ohe = labelencoder.transform(X_test['Accomodation_Type'].values).reshape(-1,1)\n",
    "\n",
    "print(\"After vectorizations\")\n",
    "print(X_train_accomodation_ohe.shape, y_train.shape)\n",
    "print(X_cv_accomodation_ohe.shape, y_cv.shape)\n",
    "#print(labelencoder.get_feature_names())\n",
    "feature_names.extend('Accomodation_Type')\n",
    "print(\"=\"*100)"
   ]
  },
  {
   "cell_type": "markdown",
   "id": "atlantic-cigarette",
   "metadata": {},
   "source": [
    "### 4.3 Label Encoding: Reco_Insurance_Type"
   ]
  },
  {
   "cell_type": "code",
   "execution_count": 165,
   "id": "stable-ministry",
   "metadata": {},
   "outputs": [
    {
     "name": "stdout",
     "output_type": "stream",
     "text": [
      "After vectorizations\n",
      "(40705, 1) (40705,)\n",
      "(10177, 1) (10177,)\n",
      "====================================================================================================\n"
     ]
    }
   ],
   "source": [
    "# creating instance of labelencoder\n",
    "labelencoder = LabelEncoder()\n",
    "# Assigning numerical values and storing in another column\n",
    "labelencoder.fit(X_train['Reco_Insurance_Type'])\n",
    "\n",
    "# we use the fitted CountVectorizer to convert the text to vector\n",
    "X_train_ins_type_ohe = labelencoder.transform(X_train['Reco_Insurance_Type'].values).reshape(-1,1)\n",
    "X_cv_ins_type_ohe = labelencoder.transform(X_cv['Reco_Insurance_Type'].values).reshape(-1,1)\n",
    "X_test_ins_type_ohe = labelencoder.transform(X_test['Reco_Insurance_Type'].values).reshape(-1,1)\n",
    "\n",
    "print(\"After vectorizations\")\n",
    "print(X_train_ins_type_ohe.shape, y_train.shape)\n",
    "print(X_cv_ins_type_ohe.shape, y_cv.shape)\n",
    "#print(labelencoder.get_feature_names())\n",
    "feature_names.extend('Reco_Insurance_Type')\n",
    "print(\"=\"*100)"
   ]
  },
  {
   "cell_type": "markdown",
   "id": "quarterly-proxy",
   "metadata": {},
   "source": [
    "### 4.4 Label Encoding: Is_Spouse"
   ]
  },
  {
   "cell_type": "code",
   "execution_count": 166,
   "id": "central-huntington",
   "metadata": {},
   "outputs": [
    {
     "name": "stdout",
     "output_type": "stream",
     "text": [
      "After vectorizations\n",
      "(40705, 1) (40705,)\n",
      "(10177, 1) (10177,)\n",
      "====================================================================================================\n"
     ]
    }
   ],
   "source": [
    "# creating instance of labelencoder\n",
    "labelencoder = LabelEncoder()\n",
    "# Assigning numerical values and storing in another column\n",
    "labelencoder.fit(X_train['Is_Spouse'])\n",
    "\n",
    "# we use the fitted CountVectorizer to convert the text to vector\n",
    "X_train_spouse_ohe = labelencoder.transform(X_train['Is_Spouse'].values).reshape(-1,1)\n",
    "X_cv_spouse_ohe = labelencoder.transform(X_cv['Is_Spouse'].values).reshape(-1,1)\n",
    "X_test_spouse_ohe = labelencoder.transform(X_test['Is_Spouse'].values).reshape(-1,1)\n",
    "\n",
    "print(\"After vectorizations\")\n",
    "print(X_train_spouse_ohe.shape, y_train.shape)\n",
    "print(X_cv_spouse_ohe.shape, y_cv.shape)\n",
    "#print(labelencoder.get_feature_names())\n",
    "feature_names.extend('Is_Spouse')\n",
    "print(\"=\"*100)"
   ]
  },
  {
   "cell_type": "markdown",
   "id": "broad-manual",
   "metadata": {},
   "source": [
    "### 4.5 One Hot Encoding: Health_Indicator"
   ]
  },
  {
   "cell_type": "code",
   "execution_count": 167,
   "id": "monetary-punishment",
   "metadata": {
    "scrolled": true
   },
   "outputs": [
    {
     "name": "stdout",
     "output_type": "stream",
     "text": [
      "After vectorizations\n",
      "(40705, 9) (40705,)\n",
      "(10177, 9) (10177,)\n",
      "['x1', 'x2', 'x3', 'x4', 'x5', 'x6', 'x7', 'x8', 'x9'] 9\n",
      "====================================================================================================\n"
     ]
    }
   ],
   "source": [
    "vectorizer = CountVectorizer()\n",
    "\n",
    "vectorizer.fit(X_train['Health Indicator'].values) # fit has to happen only on train data\n",
    "\n",
    "# we use the fitted CountVectorizer to convert the text to vector\n",
    "X_train_health_ind_ohe = vectorizer.transform(X_train['Health Indicator'].values)\n",
    "X_cv_health_ind_ohe = vectorizer.transform(X_cv['Health Indicator'].values)\n",
    "X_test_health_ind_ohe = vectorizer.transform(X_test['Health Indicator'].values)\n",
    "\n",
    "print(\"After vectorizations\")\n",
    "print(X_train_health_ind_ohe.shape, y_train.shape)\n",
    "print(X_cv_health_ind_ohe.shape, y_cv.shape)\n",
    "print(vectorizer.get_feature_names(),len(vectorizer.get_feature_names()))\n",
    "feature_names.extend(vectorizer.get_feature_names())\n",
    "print(\"=\"*100)"
   ]
  },
  {
   "cell_type": "markdown",
   "id": "timely-collector",
   "metadata": {},
   "source": [
    "### 4.6 One Hot Encoding: Holding_Policy_Duration,Holding_Policy_Type,Reco_Policy_Cat"
   ]
  },
  {
   "cell_type": "code",
   "execution_count": 168,
   "id": "yellow-swaziland",
   "metadata": {},
   "outputs": [
    {
     "name": "stdout",
     "output_type": "stream",
     "text": [
      "After vectorizations\n",
      "(40705, 15) (40705,)\n",
      "(10177, 15) (10177,)\n",
      "['0', '1', '10', '11', '12', '13', '14', '2', '3', '4', '5', '6', '7', '8', '9'] 15\n",
      "====================================================================================================\n"
     ]
    }
   ],
   "source": [
    "#token_pattern is set as the default token pattern in CountVectorizer does not capture 'single characters'\n",
    "vectorizer = CountVectorizer(token_pattern='\\\\b\\\\w+\\\\b')\n",
    "\n",
    "vectorizer.fit(X_train['Holding_Policy_Duration'].values) # fit has to happen only on train data\n",
    "\n",
    "# we use the fitted CountVectorizer to convert the text to vector\n",
    "X_train_hold_dur_ohe = vectorizer.transform(X_train['Holding_Policy_Duration'].values)\n",
    "X_cv_hold_dur_ohe = vectorizer.transform(X_cv['Holding_Policy_Duration'].values)\n",
    "X_test_hold_dur_ohe = vectorizer.transform(X_test['Holding_Policy_Duration'].values)\n",
    "\n",
    "print(\"After vectorizations\")\n",
    "print(X_train_hold_dur_ohe.shape, y_train.shape)\n",
    "print(X_cv_hold_dur_ohe.shape, y_cv.shape)\n",
    "print(vectorizer.get_feature_names(),len(vectorizer.get_feature_names()))\n",
    "feature_names.extend(vectorizer.get_feature_names())\n",
    "print(\"=\"*100)"
   ]
  },
  {
   "cell_type": "code",
   "execution_count": 169,
   "id": "decimal-thomson",
   "metadata": {},
   "outputs": [
    {
     "name": "stdout",
     "output_type": "stream",
     "text": [
      "After vectorizations\n",
      "(40705, 6) (40705,)\n",
      "(10177, 6) (10177,)\n",
      "['0', '1', '2', '3', '4', 'no_policy'] 6\n",
      "====================================================================================================\n"
     ]
    }
   ],
   "source": [
    "vectorizer = CountVectorizer(token_pattern='\\\\b\\\\w+\\\\b')\n",
    "\n",
    "vectorizer.fit(X_train['Holding_Policy_Type'].values) # fit has to happen only on train data\n",
    "\n",
    "# we use the fitted CountVectorizer to convert the text to vector\n",
    "X_train_hold_type_ohe = vectorizer.transform(X_train['Holding_Policy_Type'].values)\n",
    "X_cv_hold_type_ohe = vectorizer.transform(X_cv['Holding_Policy_Type'].values)\n",
    "X_test_hold_type_ohe = vectorizer.transform(X_test['Holding_Policy_Type'].values)\n",
    "\n",
    "print(\"After vectorizations\")\n",
    "print(X_train_hold_type_ohe.shape, y_train.shape)\n",
    "print(X_cv_hold_type_ohe.shape, y_cv.shape)\n",
    "print(vectorizer.get_feature_names(),len(vectorizer.get_feature_names()))\n",
    "feature_names.extend(vectorizer.get_feature_names())\n",
    "print(\"=\"*100)"
   ]
  },
  {
   "cell_type": "code",
   "execution_count": 170,
   "id": "alive-motorcycle",
   "metadata": {
    "scrolled": true
   },
   "outputs": [
    {
     "name": "stdout",
     "output_type": "stream",
     "text": [
      "After vectorizations\n",
      "(40705, 22) (40705,)\n",
      "(10177, 22) (10177,)\n",
      "['1', '10', '11', '12', '13', '14', '15', '16', '17', '18', '19', '2', '20', '21', '22', '3', '4', '5', '6', '7', '8', '9'] 22\n",
      "====================================================================================================\n"
     ]
    }
   ],
   "source": [
    "vectorizer = CountVectorizer(token_pattern='\\\\b\\\\w+\\\\b')\n",
    "\n",
    "vectorizer.fit(X_train['Reco_Policy_Cat'].values) # fit has to happen only on train data\n",
    "\n",
    "# we use the fitted CountVectorizer to convert the text to vector\n",
    "X_train_pol_cat_ohe = vectorizer.transform(X_train['Reco_Policy_Cat'].values)\n",
    "X_cv_pol_cat_ohe = vectorizer.transform(X_cv['Reco_Policy_Cat'].values)\n",
    "X_test_pol_cat_ohe = vectorizer.transform(X_test['Reco_Policy_Cat'].values)\n",
    "\n",
    "print(\"After vectorizations\")\n",
    "print(X_train_pol_cat_ohe.shape, y_train.shape)\n",
    "print(X_cv_pol_cat_ohe.shape, y_cv.shape)\n",
    "print(vectorizer.get_feature_names(),len(vectorizer.get_feature_names()))\n",
    "feature_names.extend(vectorizer.get_feature_names())\n",
    "print(\"=\"*100)"
   ]
  },
  {
   "cell_type": "markdown",
   "id": "cooked-spelling",
   "metadata": {},
   "source": [
    "### 4.7 Normalize numerical features:  Upper_Age,Lower_Age,Reco_Policy_Premium"
   ]
  },
  {
   "cell_type": "code",
   "execution_count": 171,
   "id": "black-proposal",
   "metadata": {},
   "outputs": [
    {
     "name": "stdout",
     "output_type": "stream",
     "text": [
      "After vectorizations\n",
      "(40705, 1) (40705,)\n",
      "(10177, 1) (10177,)\n",
      "====================================================================================================\n"
     ]
    }
   ],
   "source": [
    "from sklearn.preprocessing import Normalizer\n",
    "normalizer = Normalizer()\n",
    "\n",
    "normalizer.fit(X_train['Upper_Age'].values.reshape(-1,1))\n",
    "\n",
    "X_train_upper_age_norm = normalizer.transform(X_train['Upper_Age'].values.reshape(-1,1))\n",
    "X_cv_upper_age_norm = normalizer.transform(X_cv['Upper_Age'].values.reshape(-1,1))\n",
    "X_test_upper_age_norm = normalizer.transform(X_test['Upper_Age'].values.reshape(-1,1))\n",
    "\n",
    "print(\"After vectorizations\")\n",
    "print(X_train_upper_age_norm.shape, y_train.shape)\n",
    "print(X_cv_upper_age_norm.shape, y_cv.shape)\n",
    "feature_names.extend('Upper_Age')\n",
    "print(\"=\"*100)\n"
   ]
  },
  {
   "cell_type": "code",
   "execution_count": 172,
   "id": "included-links",
   "metadata": {
    "scrolled": true
   },
   "outputs": [
    {
     "name": "stdout",
     "output_type": "stream",
     "text": [
      "After vectorizations\n",
      "(40705, 1) (40705,)\n",
      "(10177, 1) (10177,)\n",
      "====================================================================================================\n"
     ]
    }
   ],
   "source": [
    "normalizer = Normalizer()\n",
    "\n",
    "normalizer.fit(X_train['Lower_Age'].values.reshape(-1,1))\n",
    "\n",
    "X_train_lower_age_norm = normalizer.transform(X_train['Lower_Age'].values.reshape(-1,1))\n",
    "X_cv_lower_age_norm = normalizer.transform(X_cv['Lower_Age'].values.reshape(-1,1))\n",
    "X_test_lower_age_norm = normalizer.transform(X_test['Lower_Age'].values.reshape(-1,1))\n",
    "\n",
    "print(\"After vectorizations\")\n",
    "print(X_train_lower_age_norm.shape, y_train.shape)\n",
    "print(X_cv_lower_age_norm.shape, y_cv.shape)\n",
    "feature_names.extend('Lower_Age')\n",
    "print(\"=\"*100)\n"
   ]
  },
  {
   "cell_type": "code",
   "execution_count": 173,
   "id": "drawn-master",
   "metadata": {},
   "outputs": [
    {
     "name": "stdout",
     "output_type": "stream",
     "text": [
      "After vectorizations\n",
      "(40705, 1) (40705,)\n",
      "(10177, 1) (10177,)\n",
      "====================================================================================================\n"
     ]
    }
   ],
   "source": [
    "normalizer = Normalizer()\n",
    "\n",
    "normalizer.fit(X_train['Reco_Policy_Premium'].values.reshape(-1,1))\n",
    "\n",
    "X_train_pol_prem_norm = normalizer.transform(X_train['Reco_Policy_Premium'].values.reshape(-1,1))\n",
    "X_cv_pol_prem_norm = normalizer.transform(X_cv['Reco_Policy_Premium'].values.reshape(-1,1))\n",
    "X_test_pol_prem_norm = normalizer.transform(X_test['Reco_Policy_Premium'].values.reshape(-1,1))\n",
    "\n",
    "print(\"After vectorizations\")\n",
    "print(X_train_pol_prem_norm.shape, y_train.shape)\n",
    "print(X_cv_pol_prem_norm.shape, y_cv.shape)\n",
    "feature_names.extend('Reco_Policy_Premium')\n",
    "print(\"=\"*100)\n"
   ]
  },
  {
   "cell_type": "markdown",
   "id": "aggressive-harmony",
   "metadata": {},
   "source": [
    "## 4.8 Response Encoding: Region Code"
   ]
  },
  {
   "cell_type": "code",
   "execution_count": 160,
   "id": "lonely-breach",
   "metadata": {},
   "outputs": [
    {
     "name": "stderr",
     "output_type": "stream",
     "text": [
      "100%|██████████| 40705/40705 [14:03<00:00, 48.23it/s]\n"
     ]
    }
   ],
   "source": [
    "region_train=X_train['Region_Code'].unique()\n",
    "X_train_region_not_interested_rc=[]\n",
    "X_train_region_interested_rc=[]\n",
    "for i in tqdm(range(len(X_train))): \n",
    "    if X_train.iloc[i]['Region_Code'] in region_train:\n",
    "        X_train_region_not_interested_rc.append(len(X_train[(X_train['Region_Code']==X_train.iloc[i]['Region_Code'])&(y_train==0)])/len(X_train[X_train['Region_Code']==X_train.iloc[i]['Region_Code']]))\n",
    "        X_train_region_interested_rc.append(len(X_train[(X_train['Region_Code']==X_train.iloc[i]['Region_Code'])&(y_train==1)])/len(X_train[X_train['Region_Code']==X_train.iloc[i]['Region_Code']]))\n",
    "X_train_region_not_interested_rc=np.array(X_train_region_not_interested_rc).reshape(-1,1)\n",
    "X_train_region_interested_rc=np.array(X_train_region_interested_rc).reshape(-1,1)"
   ]
  },
  {
   "cell_type": "code",
   "execution_count": 161,
   "id": "statistical-shaft",
   "metadata": {},
   "outputs": [
    {
     "name": "stderr",
     "output_type": "stream",
     "text": [
      "100%|██████████| 10177/10177 [03:26<00:00, 49.32it/s]\n"
     ]
    }
   ],
   "source": [
    "region_train=X_train['Region_Code'].unique()\n",
    "X_cv_region_not_interested_rc=[]\n",
    "X_cv_region_interested_rc=[]\n",
    "for i in tqdm(range(len(X_cv))): \n",
    "    if X_cv.iloc[i]['Region_Code'] in region_train:\n",
    "        X_cv_region_not_interested_rc.append(len(X_train[(X_train['Region_Code']==X_cv.iloc[i]['Region_Code'])&(y_train==0)])/len(X_train[X_train['Region_Code']==X_cv.iloc[i]['Region_Code']]))\n",
    "        X_cv_region_interested_rc.append(len(X_train[(X_train['Region_Code']==X_cv.iloc[i]['Region_Code'])&(y_train==1)])/len(X_train[X_train['Region_Code']==X_cv.iloc[i]['Region_Code']]))\n",
    "    else:\n",
    "        X_cv_region_not_interested_rc.append(0.5)\n",
    "        X_cv_region_interested_rc.append(0.5)\n",
    "X_cv_region_not_interested_rc=np.array(X_cv_region_not_interested_rc).reshape(-1,1)\n",
    "X_cv_region_interested_rc=np.array(X_cv_region_interested_rc).reshape(-1,1)"
   ]
  },
  {
   "cell_type": "code",
   "execution_count": 162,
   "id": "comprehensive-duplicate",
   "metadata": {},
   "outputs": [
    {
     "name": "stderr",
     "output_type": "stream",
     "text": [
      "100%|██████████| 21805/21805 [07:31<00:00, 48.25it/s]\n"
     ]
    }
   ],
   "source": [
    "region_train=X_train['Region_Code'].unique()\n",
    "X_test_region_not_interested_rc=[]\n",
    "X_test_region_interested_rc=[]\n",
    "for i in tqdm(range(len(X_test))): \n",
    "    if X_test.iloc[i]['Region_Code'] in region_train:\n",
    "        X_test_region_not_interested_rc.append(len(X_train[(X_train['Region_Code']==X_test.iloc[i]['Region_Code'])&(y_train==0)])/len(X_train[X_train['Region_Code']==X_test.iloc[i]['Region_Code']]))\n",
    "        X_test_region_interested_rc.append(len(X_train[(X_train['Region_Code']==X_test.iloc[i]['Region_Code'])&(y_train==1)])/len(X_train[X_train['Region_Code']==X_test.iloc[i]['Region_Code']]))\n",
    "    else:\n",
    "        X_test_region_not_interested_rc.append(0.5)\n",
    "        X_test_region_interested_rc.append(0.5)\n",
    "X_test_region_not_interested_rc=np.array(X_test_region_not_interested_rc).reshape(-1,1)\n",
    "X_test_region_interested_rc=np.array(X_test_region_interested_rc).reshape(-1,1)"
   ]
  },
  {
   "cell_type": "code",
   "execution_count": 163,
   "id": "framed-berkeley",
   "metadata": {},
   "outputs": [
    {
     "name": "stdout",
     "output_type": "stream",
     "text": [
      "After vectorizations\n",
      "(40705, 1) (40705,)\n",
      "(40705, 1) (40705,)\n",
      "(10177, 1) (10177,)\n",
      "(10177, 1) (10177,)\n",
      "(21805, 1)\n",
      "(21805, 1)\n",
      "====================================================================================================\n"
     ]
    }
   ],
   "source": [
    "print(\"After vectorizations\")\n",
    "feature_names.extend('Region_Code')\n",
    "print(X_train_region_not_interested_rc.shape,y_train.shape)\n",
    "print(X_train_region_interested_rc.shape,y_train.shape)\n",
    "print(X_cv_region_not_interested_rc.shape,y_cv.shape)\n",
    "print(X_cv_region_interested_rc.shape,y_cv.shape)\n",
    "print(X_test_region_not_interested_rc.shape)\n",
    "print(X_test_region_interested_rc.shape)\n",
    "print(\"=\"*100)"
   ]
  },
  {
   "cell_type": "markdown",
   "id": "analyzed-temperature",
   "metadata": {},
   "source": [
    "## 4.9 One Hot Encoding: Region Code"
   ]
  },
  {
   "cell_type": "code",
   "execution_count": 176,
   "id": "russian-ensemble",
   "metadata": {},
   "outputs": [
    {
     "name": "stdout",
     "output_type": "stream",
     "text": [
      "After vectorizations\n",
      "(40705, 5149) (40705,)\n",
      "(10177, 5149) (10177,)\n",
      "(21805, 5149)\n",
      "5149\n",
      "====================================================================================================\n"
     ]
    }
   ],
   "source": [
    "vectorizer = CountVectorizer()\n",
    "vectorizer.fit(X_train['Region_Code'].values) # fit has to happen only on train data\n",
    "\n",
    "# we use the fitted CountVectorizer to convert the text to vector\n",
    "X_train_region_ohe = vectorizer.transform(X_train['Region_Code'].values)\n",
    "X_cv_region_ohe = vectorizer.transform(X_cv['Region_Code'].values)\n",
    "X_test_region_ohe = vectorizer.transform(X_test['Region_Code'].values)\n",
    "\n",
    "print(\"After vectorizations\")\n",
    "print(X_train_region_ohe.shape, y_train.shape)\n",
    "print(X_cv_region_ohe.shape, y_cv.shape)\n",
    "print(X_test_region_ohe.shape)\n",
    "print(len(vectorizer.get_feature_names()))\n",
    "feature_names.extend(vectorizer.get_feature_names())\n",
    "print(\"=\"*100)"
   ]
  },
  {
   "cell_type": "markdown",
   "id": "subsequent-genealogy",
   "metadata": {},
   "source": [
    "## Concatenating all features"
   ]
  },
  {
   "cell_type": "code",
   "execution_count": 178,
   "id": "afraid-robert",
   "metadata": {
    "scrolled": true
   },
   "outputs": [
    {
     "name": "stdout",
     "output_type": "stream",
     "text": [
      "Final Data matrix\n",
      "(40705, 5243) (40705,)\n",
      "(10177, 5243) (10177,)\n",
      "(21805, 5243)\n",
      "====================================================================================================\n"
     ]
    }
   ],
   "source": [
    "from scipy.sparse import hstack\n",
    "#X_tr = hstack((X_train_city_ohe,X_train_region_not_interested_rc,X_train_region_interested_rc,X_train_accomodation_ohe,X_train_ins_type_ohe,X_train_spouse_ohe,X_train_health_ind_ohe,X_train_hold_dur_ohe,X_train_hold_type_ohe,X_train_pol_cat_ohe,X_train_upper_age_norm,X_train_lower_age_norm,X_train_pol_prem_norm)).tocsr()\n",
    "#X_cr = hstack((X_cv_city_ohe,X_cv_region_not_interested_rc,X_cv_region_interested_rc,X_cv_accomodation_ohe,X_cv_ins_type_ohe,X_cv_spouse_ohe,X_cv_health_ind_ohe,X_cv_hold_dur_ohe,X_cv_hold_type_ohe,X_cv_pol_cat_ohe,X_cv_upper_age_norm,X_cv_lower_age_norm,X_cv_pol_prem_norm)).tocsr()\n",
    "#X_te = hstack((X_test_city_ohe,X_test_region_not_interested_rc,X_test_region_interested_rc,X_test_accomodation_ohe,X_test_ins_type_ohe,X_test_spouse_ohe,X_test_health_ind_ohe,X_test_hold_dur_ohe,X_test_hold_type_ohe,X_test_pol_cat_ohe,X_test_upper_age_norm,X_test_lower_age_norm,X_test_pol_prem_norm)).tocsr()\n",
    "\n",
    "X_tr = hstack((X_train_city_ohe,X_train_region_ohe,X_train_accomodation_ohe,X_train_ins_type_ohe,X_train_spouse_ohe,X_train_health_ind_ohe,X_train_hold_dur_ohe,X_train_hold_type_ohe,X_train_pol_cat_ohe,X_train_upper_age_norm,X_train_lower_age_norm,X_train_pol_prem_norm)).tocsr()\n",
    "X_cr = hstack((X_cv_city_ohe,X_cv_region_ohe,X_cv_accomodation_ohe,X_cv_ins_type_ohe,X_cv_spouse_ohe,X_cv_health_ind_ohe,X_cv_hold_dur_ohe,X_cv_hold_type_ohe,X_cv_pol_cat_ohe,X_cv_upper_age_norm,X_cv_lower_age_norm,X_cv_pol_prem_norm)).tocsr()\n",
    "X_te = hstack((X_test_city_ohe,X_test_region_ohe,X_test_accomodation_ohe,X_test_ins_type_ohe,X_test_spouse_ohe,X_test_health_ind_ohe,X_test_hold_dur_ohe,X_test_hold_type_ohe,X_test_pol_cat_ohe,X_test_upper_age_norm,X_test_lower_age_norm,X_test_pol_prem_norm)).tocsr()\n",
    "\n",
    "\n",
    "print(\"Final Data matrix\")\n",
    "print(X_tr.shape, y_train.shape)\n",
    "print(X_cr.shape, y_cv.shape)\n",
    "print(X_te.shape)\n",
    "print(\"=\"*100)"
   ]
  },
  {
   "cell_type": "markdown",
   "id": "quarterly-short",
   "metadata": {},
   "source": [
    "## 5. Model Building"
   ]
  },
  {
   "cell_type": "markdown",
   "id": "minor-midwest",
   "metadata": {},
   "source": [
    "### 5.1 Predict the probability in batches for class 1"
   ]
  },
  {
   "cell_type": "code",
   "execution_count": 179,
   "id": "finished-france",
   "metadata": {},
   "outputs": [],
   "source": [
    "def batch_predict(clf, data):\n",
    "    # roc_auc_score(y_true, y_score) the 2nd parameter should be probability estimates of the positive class\n",
    "    # not the predicted outputs\n",
    "\n",
    "    y_data_pred = []\n",
    "    tr_loop = data.shape[0] - data.shape[0]%1000\n",
    "    # consider you X_tr shape is 49041, then your tr_loop will be 49041 - 49041%1000 = 49000\n",
    "    # in this for loop we will iterate unti the last 1000 multiplier\n",
    "    for i in range(0, tr_loop, 1000):\n",
    "        y_data_pred.extend(clf.predict_proba(data[i:i+1000])[:,1])\n",
    "    # we will be predicting for the last data points\n",
    "    if data.shape[0]%1000 !=0:\n",
    "        y_data_pred.extend(clf.predict_proba(data[tr_loop:])[:,1])\n",
    "    \n",
    "    return y_data_pred"
   ]
  },
  {
   "cell_type": "markdown",
   "id": "floating-japan",
   "metadata": {},
   "source": [
    "## 5.2 Apply Different kinds of Classification models"
   ]
  },
  {
   "cell_type": "markdown",
   "id": "frozen-count",
   "metadata": {},
   "source": [
    "### 5.2.1 Naive Bayes"
   ]
  },
  {
   "cell_type": "code",
   "execution_count": 182,
   "id": "broad-statement",
   "metadata": {},
   "outputs": [
    {
     "data": {
      "image/png": "[encoded data removed]",
      "text/plain": [
       "<Figure size 432x288 with 1 Axes>"
      ]
     },
     "metadata": {
      "needs_background": "light"
     },
     "output_type": "display_data"
    },
    {
     "data": {
      "text/html": [
       "<div>\n",
       "<style scoped>\n",
       "    .dataframe tbody tr th:only-of-type {\n",
       "        vertical-align: middle;\n",
       "    }\n",
       "\n",
       "    .dataframe tbody tr th {\n",
       "        vertical-align: top;\n",
       "    }\n",
       "\n",
       "    .dataframe thead th {\n",
       "        text-align: right;\n",
       "    }\n",
       "</style>\n",
       "<table border=\"1\" class=\"dataframe\">\n",
       "  <thead>\n",
       "    <tr style=\"text-align: right;\">\n",
       "      <th></th>\n",
       "      <th>mean_fit_time</th>\n",
       "      <th>std_fit_time</th>\n",
       "      <th>mean_score_time</th>\n",
       "      <th>std_score_time</th>\n",
       "      <th>param_alpha</th>\n",
       "      <th>params</th>\n",
       "      <th>split0_test_score</th>\n",
       "      <th>split1_test_score</th>\n",
       "      <th>split2_test_score</th>\n",
       "      <th>mean_test_score</th>\n",
       "      <th>std_test_score</th>\n",
       "      <th>rank_test_score</th>\n",
       "      <th>split0_train_score</th>\n",
       "      <th>split1_train_score</th>\n",
       "      <th>split2_train_score</th>\n",
       "      <th>mean_train_score</th>\n",
       "      <th>std_train_score</th>\n",
       "    </tr>\n",
       "  </thead>\n",
       "  <tbody>\n",
       "    <tr>\n",
       "      <th>0</th>\n",
       "      <td>0.007339</td>\n",
       "      <td>4.692527e-04</td>\n",
       "      <td>0.004666</td>\n",
       "      <td>0.000471</td>\n",
       "      <td>1</td>\n",
       "      <td>{'alpha': 1}</td>\n",
       "      <td>0.565879</td>\n",
       "      <td>0.581194</td>\n",
       "      <td>0.568273</td>\n",
       "      <td>0.571782</td>\n",
       "      <td>0.006727</td>\n",
       "      <td>6</td>\n",
       "      <td>0.773684</td>\n",
       "      <td>0.767121</td>\n",
       "      <td>0.773796</td>\n",
       "      <td>0.771534</td>\n",
       "      <td>0.003121</td>\n",
       "    </tr>\n",
       "    <tr>\n",
       "      <th>1</th>\n",
       "      <td>0.008669</td>\n",
       "      <td>2.358313e-03</td>\n",
       "      <td>0.006001</td>\n",
       "      <td>0.000816</td>\n",
       "      <td>2</td>\n",
       "      <td>{'alpha': 2}</td>\n",
       "      <td>0.574613</td>\n",
       "      <td>0.588631</td>\n",
       "      <td>0.576341</td>\n",
       "      <td>0.579861</td>\n",
       "      <td>0.006241</td>\n",
       "      <td>4</td>\n",
       "      <td>0.753624</td>\n",
       "      <td>0.747262</td>\n",
       "      <td>0.752923</td>\n",
       "      <td>0.751270</td>\n",
       "      <td>0.002849</td>\n",
       "    </tr>\n",
       "    <tr>\n",
       "      <th>2</th>\n",
       "      <td>0.006004</td>\n",
       "      <td>4.052337e-07</td>\n",
       "      <td>0.004665</td>\n",
       "      <td>0.000471</td>\n",
       "      <td>3</td>\n",
       "      <td>{'alpha': 3}</td>\n",
       "      <td>0.579717</td>\n",
       "      <td>0.592545</td>\n",
       "      <td>0.580786</td>\n",
       "      <td>0.584350</td>\n",
       "      <td>0.005811</td>\n",
       "      <td>3</td>\n",
       "      <td>0.737434</td>\n",
       "      <td>0.731158</td>\n",
       "      <td>0.735720</td>\n",
       "      <td>0.734771</td>\n",
       "      <td>0.002648</td>\n",
       "    </tr>\n",
       "    <tr>\n",
       "      <th>3</th>\n",
       "      <td>0.006004</td>\n",
       "      <td>2.081521e-06</td>\n",
       "      <td>0.005035</td>\n",
       "      <td>0.000059</td>\n",
       "      <td>5</td>\n",
       "      <td>{'alpha': 5}</td>\n",
       "      <td>0.584479</td>\n",
       "      <td>0.594939</td>\n",
       "      <td>0.583959</td>\n",
       "      <td>0.587792</td>\n",
       "      <td>0.005058</td>\n",
       "      <td>1</td>\n",
       "      <td>0.709763</td>\n",
       "      <td>0.703312</td>\n",
       "      <td>0.706114</td>\n",
       "      <td>0.706396</td>\n",
       "      <td>0.002641</td>\n",
       "    </tr>\n",
       "    <tr>\n",
       "      <th>4</th>\n",
       "      <td>0.007341</td>\n",
       "      <td>1.251844e-03</td>\n",
       "      <td>0.004327</td>\n",
       "      <td>0.000466</td>\n",
       "      <td>7</td>\n",
       "      <td>{'alpha': 7}</td>\n",
       "      <td>0.584990</td>\n",
       "      <td>0.593469</td>\n",
       "      <td>0.582987</td>\n",
       "      <td>0.587149</td>\n",
       "      <td>0.004543</td>\n",
       "      <td>2</td>\n",
       "      <td>0.686290</td>\n",
       "      <td>0.679293</td>\n",
       "      <td>0.681267</td>\n",
       "      <td>0.682283</td>\n",
       "      <td>0.002946</td>\n",
       "    </tr>\n",
       "  </tbody>\n",
       "</table>\n",
       "</div>"
      ],
      "text/plain": [
       "   mean_fit_time  std_fit_time  mean_score_time  std_score_time param_alpha  \\\n",
       "0       0.007339  4.692527e-04         0.004666        0.000471           1   \n",
       "1       0.008669  2.358313e-03         0.006001        0.000816           2   \n",
       "2       0.006004  4.052337e-07         0.004665        0.000471           3   \n",
       "3       0.006004  2.081521e-06         0.005035        0.000059           5   \n",
       "4       0.007341  1.251844e-03         0.004327        0.000466           7   \n",
       "\n",
       "         params  split0_test_score  split1_test_score  split2_test_score  \\\n",
       "0  {'alpha': 1}           0.565879           0.581194           0.568273   \n",
       "1  {'alpha': 2}           0.574613           0.588631           0.576341   \n",
       "2  {'alpha': 3}           0.579717           0.592545           0.580786   \n",
       "3  {'alpha': 5}           0.584479           0.594939           0.583959   \n",
       "4  {'alpha': 7}           0.584990           0.593469           0.582987   \n",
       "\n",
       "   mean_test_score  std_test_score  rank_test_score  split0_train_score  \\\n",
       "0         0.571782        0.006727                6            0.773684   \n",
       "1         0.579861        0.006241                4            0.753624   \n",
       "2         0.584350        0.005811                3            0.737434   \n",
       "3         0.587792        0.005058                1            0.709763   \n",
       "4         0.587149        0.004543                2            0.686290   \n",
       "\n",
       "   split1_train_score  split2_train_score  mean_train_score  std_train_score  \n",
       "0            0.767121            0.773796          0.771534         0.003121  \n",
       "1            0.747262            0.752923          0.751270         0.002849  \n",
       "2            0.731158            0.735720          0.734771         0.002648  \n",
       "3            0.703312            0.706114          0.706396         0.002641  \n",
       "4            0.679293            0.681267          0.682283         0.002946  "
      ]
     },
     "execution_count": 182,
     "metadata": {},
     "output_type": "execute_result"
    }
   ],
   "source": [
    "from sklearn.naive_bayes import MultinomialNB\n",
    "\n",
    "clf_nb = MultinomialNB()\n",
    "parameters = {'alpha':[1, 2, 3, 5, 7, 15,30]}\n",
    "clf = GridSearchCV(clf_nb, parameters, cv=3, scoring='roc_auc',return_train_score=True)\n",
    "clf.fit(X_tr, y_train)\n",
    "\n",
    "summary=[]\n",
    "\n",
    "results = pd.DataFrame.from_dict(clf.cv_results_)\n",
    "results = results.sort_values(['param_alpha'])\n",
    "\n",
    "train_auc= results['mean_train_score']\n",
    "train_auc_std= results['std_train_score']\n",
    "cv_auc = results['mean_test_score'] \n",
    "cv_auc_std= results['std_test_score']\n",
    "K =  results['param_alpha']\n",
    "\n",
    "plt.plot(K, train_auc, label='Train AUC')\n",
    "\n",
    "plt.plot(K, cv_auc, label='CV AUC')\n",
    "\n",
    "plt.scatter(K, train_auc, label='Train AUC points')\n",
    "plt.scatter(K, cv_auc, label='CV AUC points')\n",
    "\n",
    "\n",
    "plt.legend()\n",
    "plt.xlabel(\"alpha: hyperparameter\")\n",
    "plt.ylabel(\"AUC\")\n",
    "plt.title(\"Hyper parameter Vs AUC plot\")\n",
    "plt.grid()\n",
    "plt.show()\n",
    "\n",
    "results.head()"
   ]
  },
  {
   "cell_type": "markdown",
   "id": "unique-china",
   "metadata": {},
   "source": [
    "#### Testing the performance of the model on test data, plotting ROC Curves"
   ]
  },
  {
   "cell_type": "code",
   "execution_count": 183,
   "id": "motivated-personal",
   "metadata": {},
   "outputs": [
    {
     "data": {
      "text/plain": [
       "{'alpha': 5}"
      ]
     },
     "execution_count": 183,
     "metadata": {},
     "output_type": "execute_result"
    }
   ],
   "source": [
    "clf.best_params_"
   ]
  },
  {
   "cell_type": "code",
   "execution_count": 184,
   "id": "asian-seven",
   "metadata": {},
   "outputs": [],
   "source": [
    "best_alpha = 5"
   ]
  },
  {
   "cell_type": "code",
   "execution_count": 186,
   "id": "cosmetic-summary",
   "metadata": {},
   "outputs": [
    {
     "data": {
      "image/png": "[encoded data removed]",
      "text/plain": [
       "<Figure size 432x288 with 1 Axes>"
      ]
     },
     "metadata": {
      "needs_background": "light"
     },
     "output_type": "display_data"
    }
   ],
   "source": [
    "clf = MultinomialNB(alpha = best_alpha)\n",
    "clf.fit(X_tr, y_train)\n",
    "# roc_auc_score(y_true, y_score) the 2nd parameter should be probability estimates of the positive class\n",
    "# not the predicted outputs\n",
    "\n",
    "y_train_pred = batch_predict(clf, X_tr)    \n",
    "y_test_pred = batch_predict(clf, X_cr)\n",
    "\n",
    "train_fpr, train_tpr, tr_thresholds = roc_curve(y_train, y_train_pred)\n",
    "test_fpr, test_tpr, te_thresholds = roc_curve(y_cv, y_test_pred)\n",
    "\n",
    "summary.append(['Naive-Bayes',\"alpha:\"+str(best_alpha),np.round(auc(test_fpr, test_tpr),2)])\n",
    "\n",
    "plt.plot(train_fpr, train_tpr, label=\"train AUC =\"+str(auc(train_fpr, train_tpr)))\n",
    "plt.plot(test_fpr, test_tpr, label=\"test AUC =\"+str(auc(test_fpr, test_tpr)))\n",
    "plt.legend()\n",
    "plt.xlabel(\"False Positive Rate\")\n",
    "plt.ylabel(\"True Positive Rate\")\n",
    "plt.title(\"ERROR PLOTs - ROC Curve \")\n",
    "plt.grid()\n",
    "plt.show()"
   ]
  },
  {
   "cell_type": "markdown",
   "id": "continued-heath",
   "metadata": {},
   "source": [
    "### 5.2.2 Gradient Boosted Decision trees"
   ]
  },
  {
   "cell_type": "code",
   "execution_count": 188,
   "id": "champion-patio",
   "metadata": {},
   "outputs": [
    {
     "data": {
      "text/html": [
       "<div>\n",
       "<style scoped>\n",
       "    .dataframe tbody tr th:only-of-type {\n",
       "        vertical-align: middle;\n",
       "    }\n",
       "\n",
       "    .dataframe tbody tr th {\n",
       "        vertical-align: top;\n",
       "    }\n",
       "\n",
       "    .dataframe thead th {\n",
       "        text-align: right;\n",
       "    }\n",
       "</style>\n",
       "<table border=\"1\" class=\"dataframe\">\n",
       "  <thead>\n",
       "    <tr style=\"text-align: right;\">\n",
       "      <th></th>\n",
       "      <th>mean_fit_time</th>\n",
       "      <th>std_fit_time</th>\n",
       "      <th>mean_score_time</th>\n",
       "      <th>std_score_time</th>\n",
       "      <th>param_colsample_bytree</th>\n",
       "      <th>param_learning_rate</th>\n",
       "      <th>params</th>\n",
       "      <th>split0_test_score</th>\n",
       "      <th>split1_test_score</th>\n",
       "      <th>split2_test_score</th>\n",
       "      <th>split3_test_score</th>\n",
       "      <th>mean_test_score</th>\n",
       "      <th>std_test_score</th>\n",
       "      <th>rank_test_score</th>\n",
       "      <th>split0_train_score</th>\n",
       "      <th>split1_train_score</th>\n",
       "      <th>split2_train_score</th>\n",
       "      <th>split3_train_score</th>\n",
       "      <th>mean_train_score</th>\n",
       "      <th>std_train_score</th>\n",
       "    </tr>\n",
       "  </thead>\n",
       "  <tbody>\n",
       "    <tr>\n",
       "      <th>0</th>\n",
       "      <td>4.838597</td>\n",
       "      <td>0.133711</td>\n",
       "      <td>0.078009</td>\n",
       "      <td>0.007009</td>\n",
       "      <td>0.2</td>\n",
       "      <td>0.01</td>\n",
       "      <td>{'colsample_bytree': 0.2, 'learning_rate': 0.01}</td>\n",
       "      <td>0.647207</td>\n",
       "      <td>0.666830</td>\n",
       "      <td>0.673722</td>\n",
       "      <td>0.669546</td>\n",
       "      <td>0.664326</td>\n",
       "      <td>0.010184</td>\n",
       "      <td>1</td>\n",
       "      <td>0.719783</td>\n",
       "      <td>0.714703</td>\n",
       "      <td>0.713507</td>\n",
       "      <td>0.714959</td>\n",
       "      <td>0.715738</td>\n",
       "      <td>0.002399</td>\n",
       "    </tr>\n",
       "    <tr>\n",
       "      <th>2</th>\n",
       "      <td>5.137167</td>\n",
       "      <td>0.091960</td>\n",
       "      <td>0.170278</td>\n",
       "      <td>0.157800</td>\n",
       "      <td>0.3</td>\n",
       "      <td>0.01</td>\n",
       "      <td>{'colsample_bytree': 0.3, 'learning_rate': 0.01}</td>\n",
       "      <td>0.646986</td>\n",
       "      <td>0.666382</td>\n",
       "      <td>0.672801</td>\n",
       "      <td>0.668145</td>\n",
       "      <td>0.663579</td>\n",
       "      <td>0.009862</td>\n",
       "      <td>2</td>\n",
       "      <td>0.716103</td>\n",
       "      <td>0.711934</td>\n",
       "      <td>0.710642</td>\n",
       "      <td>0.712452</td>\n",
       "      <td>0.712783</td>\n",
       "      <td>0.002027</td>\n",
       "    </tr>\n",
       "    <tr>\n",
       "      <th>4</th>\n",
       "      <td>5.186923</td>\n",
       "      <td>0.080495</td>\n",
       "      <td>0.068009</td>\n",
       "      <td>0.006892</td>\n",
       "      <td>0.4</td>\n",
       "      <td>0.01</td>\n",
       "      <td>{'colsample_bytree': 0.4, 'learning_rate': 0.01}</td>\n",
       "      <td>0.647432</td>\n",
       "      <td>0.664945</td>\n",
       "      <td>0.671115</td>\n",
       "      <td>0.667722</td>\n",
       "      <td>0.662803</td>\n",
       "      <td>0.009140</td>\n",
       "      <td>3</td>\n",
       "      <td>0.714037</td>\n",
       "      <td>0.709279</td>\n",
       "      <td>0.706072</td>\n",
       "      <td>0.710047</td>\n",
       "      <td>0.709859</td>\n",
       "      <td>0.002836</td>\n",
       "    </tr>\n",
       "    <tr>\n",
       "      <th>1</th>\n",
       "      <td>4.614792</td>\n",
       "      <td>0.068589</td>\n",
       "      <td>0.139778</td>\n",
       "      <td>0.006420</td>\n",
       "      <td>0.2</td>\n",
       "      <td>0.10</td>\n",
       "      <td>{'colsample_bytree': 0.2, 'learning_rate': 0.1}</td>\n",
       "      <td>0.641479</td>\n",
       "      <td>0.657346</td>\n",
       "      <td>0.662965</td>\n",
       "      <td>0.657784</td>\n",
       "      <td>0.654893</td>\n",
       "      <td>0.008054</td>\n",
       "      <td>5</td>\n",
       "      <td>0.786593</td>\n",
       "      <td>0.781473</td>\n",
       "      <td>0.783380</td>\n",
       "      <td>0.783629</td>\n",
       "      <td>0.783769</td>\n",
       "      <td>0.001832</td>\n",
       "    </tr>\n",
       "    <tr>\n",
       "      <th>3</th>\n",
       "      <td>5.085645</td>\n",
       "      <td>0.100627</td>\n",
       "      <td>0.142281</td>\n",
       "      <td>0.009040</td>\n",
       "      <td>0.3</td>\n",
       "      <td>0.10</td>\n",
       "      <td>{'colsample_bytree': 0.3, 'learning_rate': 0.1}</td>\n",
       "      <td>0.638390</td>\n",
       "      <td>0.657147</td>\n",
       "      <td>0.664705</td>\n",
       "      <td>0.656015</td>\n",
       "      <td>0.654064</td>\n",
       "      <td>0.009646</td>\n",
       "      <td>6</td>\n",
       "      <td>0.788610</td>\n",
       "      <td>0.781841</td>\n",
       "      <td>0.783058</td>\n",
       "      <td>0.785037</td>\n",
       "      <td>0.784637</td>\n",
       "      <td>0.002562</td>\n",
       "    </tr>\n",
       "  </tbody>\n",
       "</table>\n",
       "</div>"
      ],
      "text/plain": [
       "   mean_fit_time  std_fit_time  mean_score_time  std_score_time  \\\n",
       "0       4.838597      0.133711         0.078009        0.007009   \n",
       "2       5.137167      0.091960         0.170278        0.157800   \n",
       "4       5.186923      0.080495         0.068009        0.006892   \n",
       "1       4.614792      0.068589         0.139778        0.006420   \n",
       "3       5.085645      0.100627         0.142281        0.009040   \n",
       "\n",
       "  param_colsample_bytree param_learning_rate  \\\n",
       "0                    0.2                0.01   \n",
       "2                    0.3                0.01   \n",
       "4                    0.4                0.01   \n",
       "1                    0.2                0.10   \n",
       "3                    0.3                0.10   \n",
       "\n",
       "                                             params  split0_test_score  \\\n",
       "0  {'colsample_bytree': 0.2, 'learning_rate': 0.01}           0.647207   \n",
       "2  {'colsample_bytree': 0.3, 'learning_rate': 0.01}           0.646986   \n",
       "4  {'colsample_bytree': 0.4, 'learning_rate': 0.01}           0.647432   \n",
       "1   {'colsample_bytree': 0.2, 'learning_rate': 0.1}           0.641479   \n",
       "3   {'colsample_bytree': 0.3, 'learning_rate': 0.1}           0.638390   \n",
       "\n",
       "   split1_test_score  split2_test_score  split3_test_score  mean_test_score  \\\n",
       "0           0.666830           0.673722           0.669546         0.664326   \n",
       "2           0.666382           0.672801           0.668145         0.663579   \n",
       "4           0.664945           0.671115           0.667722         0.662803   \n",
       "1           0.657346           0.662965           0.657784         0.654893   \n",
       "3           0.657147           0.664705           0.656015         0.654064   \n",
       "\n",
       "   std_test_score  rank_test_score  split0_train_score  split1_train_score  \\\n",
       "0        0.010184                1            0.719783            0.714703   \n",
       "2        0.009862                2            0.716103            0.711934   \n",
       "4        0.009140                3            0.714037            0.709279   \n",
       "1        0.008054                5            0.786593            0.781473   \n",
       "3        0.009646                6            0.788610            0.781841   \n",
       "\n",
       "   split2_train_score  split3_train_score  mean_train_score  std_train_score  \n",
       "0            0.713507            0.714959          0.715738         0.002399  \n",
       "2            0.710642            0.712452          0.712783         0.002027  \n",
       "4            0.706072            0.710047          0.709859         0.002836  \n",
       "1            0.783380            0.783629          0.783769         0.001832  \n",
       "3            0.783058            0.785037          0.784637         0.002562  "
      ]
     },
     "execution_count": 188,
     "metadata": {},
     "output_type": "execute_result"
    }
   ],
   "source": [
    "from xgboost import XGBClassifier\n",
    "\n",
    "\n",
    "parameters = {\n",
    "    'learning_rate' : [0.01, 0.1],\n",
    "    #,'n_estimators' : [50,100,200],\n",
    "    #'scale_pos_weight' : [1,3],\n",
    "    #'max_depth' : [5,8,10],\n",
    "    'colsample_bytree' : [0.2,0.3,0.4],\n",
    "    #'gamma' : [0,1,2],\n",
    "    #'subsample' : [0.8,0.9,1]\n",
    "}\n",
    "\n",
    "#Parameter to handle class imbalance for XGBoost Classifier\n",
    "scale_pos_weight = Counter(y_train)[0]/Counter(y_train)[1]\n",
    "\n",
    "xgb_model = XGBClassifier(scale_pos_weight=scale_pos_weight,n_estimators=1000)\n",
    "\n",
    "#cv = RepeatedStratifiedKFold(n_splits=5, n_repeats=10, random_state=1)\n",
    "\n",
    "clf = GridSearchCV(xgb_model, parameters, cv=4, scoring='roc_auc',return_train_score=True)\n",
    "clf.fit(X_tr, y_train,eval_metric=\"auc\")\n",
    "\n",
    "results = pd.DataFrame.from_dict(clf.cv_results_)\n",
    "results = results.sort_values(['param_learning_rate'])\n",
    "\n",
    "\n",
    "train_auc= results['mean_train_score']\n",
    "train_auc_std= results['std_train_score']\n",
    "cv_auc = results['mean_test_score'] \n",
    "cv_auc_std= results['std_test_score']\n",
    "#S_X =  results['param_n_estimators']\n",
    "D_Y =  results['param_learning_rate']\n",
    "\n",
    "results.head()"
   ]
  },
  {
   "cell_type": "code",
   "execution_count": 189,
   "id": "blank-presentation",
   "metadata": {},
   "outputs": [
    {
     "data": {
      "text/plain": [
       "{'colsample_bytree': 0.2, 'learning_rate': 0.01}"
      ]
     },
     "execution_count": 189,
     "metadata": {},
     "output_type": "execute_result"
    }
   ],
   "source": [
    "clf.best_params_"
   ]
  },
  {
   "cell_type": "code",
   "execution_count": null,
   "id": "bored-express",
   "metadata": {},
   "outputs": [],
   "source": [
    "from mpl_toolkits import mplot3d\n",
    "ax = plt.axes(projection='3d')\n",
    "\n",
    "# Data for a three-dimensional line\n",
    "ax.plot3D(S_X, D_Y, train_auc, 'red',label='Train')\n",
    "ax.scatter3D(S_X, D_Y, train_auc,c= \"red\")\n",
    "ax.plot3D(S_X, D_Y, cv_auc, 'blue',label='Cross Validation')\n",
    "ax.scatter3D(S_X, D_Y, cv_auc,c= \"blue\")\n",
    "plt.title('AUC Score')\n",
    "plt.xlabel('n_estimators')\n",
    "plt.ylabel('learning_rate')\n",
    "plt.legend()"
   ]
  },
  {
   "cell_type": "code",
   "execution_count": null,
   "id": "assumed-extension",
   "metadata": {},
   "outputs": [],
   "source": [
    "learning_rate = [0.001, 0.01, 0.1, 0.2, 0.3]\n",
    "n_estimators = [50, 75, 100,200,500]\n",
    "\n",
    "scores = clf.cv_results_['mean_train_score'].reshape(len(n_estimators),len(learning_rate))\n",
    "plt.figure(figsize=(8, 6))\n",
    "plt.subplots_adjust(left=.2, right=0.95, bottom=0.15, top=0.95)\n",
    "plt.imshow(scores, interpolation='nearest', cmap=plt.cm.hot)\n",
    "plt.xlabel('learning_rate')\n",
    "plt.ylabel('n_estimators')\n",
    "plt.colorbar()\n",
    "plt.xticks(np.arange(len(learning_rate)), learning_rate)\n",
    "plt.yticks(np.arange(len(n_estimators)), n_estimators)\n",
    "plt.title('Grid Search Train AUC Score')\n",
    "plt.show()"
   ]
  },
  {
   "cell_type": "code",
   "execution_count": null,
   "id": "plastic-storage",
   "metadata": {},
   "outputs": [],
   "source": [
    "learning_rate = [0.001, 0.01, 0.1, 0.2, 0.3]\n",
    "n_estimators = [50, 75, 100,200,500]\n",
    "\n",
    "scores = clf.cv_results_['mean_test_score'].reshape(len(n_estimators),len(learning_rate))\n",
    "plt.figure(figsize=(8, 6))\n",
    "plt.subplots_adjust(left=.2, right=0.95, bottom=0.15, top=0.95)\n",
    "plt.imshow(scores, interpolation='nearest', cmap=plt.cm.hot)\n",
    "plt.xlabel('learning_rate')\n",
    "plt.ylabel('n_estimators')\n",
    "plt.colorbar()\n",
    "plt.xticks(np.arange(len(learning_rate)), learning_rate)\n",
    "plt.yticks(np.arange(len(n_estimators)), n_estimators)\n",
    "plt.title('Grid Search Test AUC Score')\n",
    "plt.show()"
   ]
  },
  {
   "cell_type": "code",
   "execution_count": 190,
   "id": "acute-senegal",
   "metadata": {},
   "outputs": [
    {
     "data": {
      "image/png": "[encoded data removed]",
      "text/plain": [
       "<Figure size 432x288 with 1 Axes>"
      ]
     },
     "metadata": {
      "needs_background": "light"
     },
     "output_type": "display_data"
    }
   ],
   "source": [
    "#here we are choosing the best_alpha based on forloop results\n",
    "best_n_estimators = 1000\n",
    "best_learning_rate = 0.01\n",
    "best_scale_pos_weight =scale_pos_weight\n",
    "best_colsample_bytree = 0.2\n",
    "best_gamma = 3\n",
    "best_max_depth= 8\n",
    "\n",
    "# https://scikit-learn.org/stable/modules/generated/sklearn.metrics.roc_curve.html#sklearn.metrics.roc_curve\n",
    "from sklearn.metrics import roc_curve, auc\n",
    "\n",
    "scale_pos_weight = Counter(y_train)[0]/Counter(y_train)[1]\n",
    "\n",
    "clf = XGBClassifier(n_estimators=best_n_estimators, learning_rate = best_learning_rate,scale_pos_weight=best_scale_pos_weight,\n",
    "                   colsample_bytree=best_colsample_bytree,max_depth=best_max_depth,gamma = 1)\n",
    "#clf = XGBClassifier(n_estimators=best_n_estimators, learning_rate = best_learning_rate,scale_pos_weight=best_scale_pos_weight)\n",
    "clf.fit(X_tr, y_train,eval_metric=\"auc\")\n",
    "# roc_auc_score(y_true, y_score) the 2nd parameter should be probability estimates of the positive class\n",
    "# not the predicted outputs\n",
    "\n",
    "y_train_pred = batch_predict(clf, X_tr)    \n",
    "y_test_pred = batch_predict(clf, X_cr)\n",
    "\n",
    "train_fpr, train_tpr, tr_thresholds = roc_curve(y_train, y_train_pred)\n",
    "test_fpr, test_tpr, te_thresholds = roc_curve(y_cv, y_test_pred)\n",
    "\n",
    "summary.append(['GBDT',\"n_estimators:\"+str(best_n_estimators)+\" learning_rate: \"+str(best_learning_rate),np.round(auc(test_fpr, test_tpr),2)])\n",
    "\n",
    "plt.plot(train_fpr, train_tpr, label=\"train AUC =\"+str(auc(train_fpr, train_tpr)))\n",
    "plt.plot(test_fpr, test_tpr, label=\"test AUC =\"+str(auc(test_fpr, test_tpr)))\n",
    "plt.legend()\n",
    "plt.xlabel(\"False Positive Rate\")\n",
    "plt.ylabel(\"True Positive Rate\")\n",
    "plt.title(\"ERROR PLOTs - ROC Curve \")\n",
    "plt.grid()\n",
    "plt.show()\n",
    "\n"
   ]
  },
  {
   "cell_type": "code",
   "execution_count": 191,
   "id": "governing-baptist",
   "metadata": {},
   "outputs": [
    {
     "data": {
      "text/plain": [
       "21805"
      ]
     },
     "execution_count": 191,
     "metadata": {},
     "output_type": "execute_result"
    }
   ],
   "source": [
    "y_test_pred = batch_predict(clf, X_te)\n",
    "len(y_test_pred)"
   ]
  },
  {
   "cell_type": "code",
   "execution_count": 192,
   "id": "union-australia",
   "metadata": {},
   "outputs": [],
   "source": [
    "policy_df_test = pd.read_csv('.data/test_YCcRUnU.csv')\n",
    "  \n",
    "ID = policy_df_test['ID']\n",
    "\n",
    "pred = list(zip(ID, y_test_pred))  \n",
    "\n",
    "final_df = pd.DataFrame(pred, columns = ['ID', 'Response'])  \n",
    "final_df.to_csv('.predictions/rf_predictions.csv',index=False)  "
   ]
  },
  {
   "cell_type": "markdown",
   "id": "defensive-possession",
   "metadata": {},
   "source": [
    "### 5.2.3. Logistic Regression"
   ]
  },
  {
   "cell_type": "code",
   "execution_count": 193,
   "id": "determined-attack",
   "metadata": {
    "scrolled": true
   },
   "outputs": [
    {
     "data": {
      "text/html": [
       "<div>\n",
       "<style scoped>\n",
       "    .dataframe tbody tr th:only-of-type {\n",
       "        vertical-align: middle;\n",
       "    }\n",
       "\n",
       "    .dataframe tbody tr th {\n",
       "        vertical-align: top;\n",
       "    }\n",
       "\n",
       "    .dataframe thead th {\n",
       "        text-align: right;\n",
       "    }\n",
       "</style>\n",
       "<table border=\"1\" class=\"dataframe\">\n",
       "  <thead>\n",
       "    <tr style=\"text-align: right;\">\n",
       "      <th></th>\n",
       "      <th>mean_fit_time</th>\n",
       "      <th>std_fit_time</th>\n",
       "      <th>mean_score_time</th>\n",
       "      <th>std_score_time</th>\n",
       "      <th>param_C</th>\n",
       "      <th>params</th>\n",
       "      <th>split0_test_score</th>\n",
       "      <th>split1_test_score</th>\n",
       "      <th>split2_test_score</th>\n",
       "      <th>mean_test_score</th>\n",
       "      <th>std_test_score</th>\n",
       "      <th>rank_test_score</th>\n",
       "      <th>split0_train_score</th>\n",
       "      <th>split1_train_score</th>\n",
       "      <th>split2_train_score</th>\n",
       "      <th>mean_train_score</th>\n",
       "      <th>std_train_score</th>\n",
       "    </tr>\n",
       "  </thead>\n",
       "  <tbody>\n",
       "    <tr>\n",
       "      <th>0</th>\n",
       "      <td>0.055352</td>\n",
       "      <td>0.005438</td>\n",
       "      <td>0.003665</td>\n",
       "      <td>0.000470</td>\n",
       "      <td>0.001000</td>\n",
       "      <td>{'C': 0.001}</td>\n",
       "      <td>0.598208</td>\n",
       "      <td>0.613658</td>\n",
       "      <td>0.610279</td>\n",
       "      <td>0.607381</td>\n",
       "      <td>0.006632</td>\n",
       "      <td>10</td>\n",
       "      <td>0.628149</td>\n",
       "      <td>0.614900</td>\n",
       "      <td>0.620208</td>\n",
       "      <td>0.621086</td>\n",
       "      <td>0.005444</td>\n",
       "    </tr>\n",
       "    <tr>\n",
       "      <th>1</th>\n",
       "      <td>0.067015</td>\n",
       "      <td>0.003560</td>\n",
       "      <td>0.003668</td>\n",
       "      <td>0.000472</td>\n",
       "      <td>0.002069</td>\n",
       "      <td>{'C': 0.00206913808111479}</td>\n",
       "      <td>0.601706</td>\n",
       "      <td>0.620545</td>\n",
       "      <td>0.615649</td>\n",
       "      <td>0.612633</td>\n",
       "      <td>0.007981</td>\n",
       "      <td>8</td>\n",
       "      <td>0.633438</td>\n",
       "      <td>0.621420</td>\n",
       "      <td>0.626129</td>\n",
       "      <td>0.626996</td>\n",
       "      <td>0.004944</td>\n",
       "    </tr>\n",
       "    <tr>\n",
       "      <th>2</th>\n",
       "      <td>0.095019</td>\n",
       "      <td>0.002947</td>\n",
       "      <td>0.003337</td>\n",
       "      <td>0.000470</td>\n",
       "      <td>0.004281</td>\n",
       "      <td>{'C': 0.004281332398719396}</td>\n",
       "      <td>0.604719</td>\n",
       "      <td>0.626282</td>\n",
       "      <td>0.620152</td>\n",
       "      <td>0.617051</td>\n",
       "      <td>0.009072</td>\n",
       "      <td>7</td>\n",
       "      <td>0.638928</td>\n",
       "      <td>0.627726</td>\n",
       "      <td>0.631907</td>\n",
       "      <td>0.632854</td>\n",
       "      <td>0.004622</td>\n",
       "    </tr>\n",
       "    <tr>\n",
       "      <th>3</th>\n",
       "      <td>0.140697</td>\n",
       "      <td>0.020855</td>\n",
       "      <td>0.003997</td>\n",
       "      <td>0.000003</td>\n",
       "      <td>0.008859</td>\n",
       "      <td>{'C': 0.008858667904100823}</td>\n",
       "      <td>0.606543</td>\n",
       "      <td>0.629787</td>\n",
       "      <td>0.622455</td>\n",
       "      <td>0.619595</td>\n",
       "      <td>0.009703</td>\n",
       "      <td>5</td>\n",
       "      <td>0.644542</td>\n",
       "      <td>0.633596</td>\n",
       "      <td>0.637875</td>\n",
       "      <td>0.638671</td>\n",
       "      <td>0.004504</td>\n",
       "    </tr>\n",
       "    <tr>\n",
       "      <th>4</th>\n",
       "      <td>0.183379</td>\n",
       "      <td>0.014338</td>\n",
       "      <td>0.004335</td>\n",
       "      <td>0.000464</td>\n",
       "      <td>0.018330</td>\n",
       "      <td>{'C': 0.018329807108324356}</td>\n",
       "      <td>0.607858</td>\n",
       "      <td>0.632356</td>\n",
       "      <td>0.623643</td>\n",
       "      <td>0.621286</td>\n",
       "      <td>0.010139</td>\n",
       "      <td>4</td>\n",
       "      <td>0.652185</td>\n",
       "      <td>0.641709</td>\n",
       "      <td>0.646152</td>\n",
       "      <td>0.646682</td>\n",
       "      <td>0.004293</td>\n",
       "    </tr>\n",
       "  </tbody>\n",
       "</table>\n",
       "</div>"
      ],
      "text/plain": [
       "   mean_fit_time  std_fit_time  mean_score_time  std_score_time   param_C  \\\n",
       "0       0.055352      0.005438         0.003665        0.000470  0.001000   \n",
       "1       0.067015      0.003560         0.003668        0.000472  0.002069   \n",
       "2       0.095019      0.002947         0.003337        0.000470  0.004281   \n",
       "3       0.140697      0.020855         0.003997        0.000003  0.008859   \n",
       "4       0.183379      0.014338         0.004335        0.000464  0.018330   \n",
       "\n",
       "                        params  split0_test_score  split1_test_score  \\\n",
       "0                 {'C': 0.001}           0.598208           0.613658   \n",
       "1   {'C': 0.00206913808111479}           0.601706           0.620545   \n",
       "2  {'C': 0.004281332398719396}           0.604719           0.626282   \n",
       "3  {'C': 0.008858667904100823}           0.606543           0.629787   \n",
       "4  {'C': 0.018329807108324356}           0.607858           0.632356   \n",
       "\n",
       "   split2_test_score  mean_test_score  std_test_score  rank_test_score  \\\n",
       "0           0.610279         0.607381        0.006632               10   \n",
       "1           0.615649         0.612633        0.007981                8   \n",
       "2           0.620152         0.617051        0.009072                7   \n",
       "3           0.622455         0.619595        0.009703                5   \n",
       "4           0.623643         0.621286        0.010139                4   \n",
       "\n",
       "   split0_train_score  split1_train_score  split2_train_score  \\\n",
       "0            0.628149            0.614900            0.620208   \n",
       "1            0.633438            0.621420            0.626129   \n",
       "2            0.638928            0.627726            0.631907   \n",
       "3            0.644542            0.633596            0.637875   \n",
       "4            0.652185            0.641709            0.646152   \n",
       "\n",
       "   mean_train_score  std_train_score  \n",
       "0          0.621086         0.005444  \n",
       "1          0.626996         0.004944  \n",
       "2          0.632854         0.004622  \n",
       "3          0.638671         0.004504  \n",
       "4          0.646682         0.004293  "
      ]
     },
     "execution_count": 193,
     "metadata": {},
     "output_type": "execute_result"
    }
   ],
   "source": [
    "from sklearn.linear_model import LogisticRegression\n",
    "\n",
    "clf_lr = LogisticRegression()\n",
    "parameters = {'C': np.logspace(-3, 3, 20)}\n",
    "clf = GridSearchCV(clf_lr, parameters, cv=3, scoring='roc_auc',return_train_score=True)\n",
    "clf.fit(X_tr, y_train)\n",
    "\n",
    "results = pd.DataFrame.from_dict(clf.cv_results_)\n",
    "results = results.sort_values(['param_C'])\n",
    "\n",
    "train_auc= results['mean_train_score']\n",
    "train_auc_std= results['std_train_score']\n",
    "cv_auc = results['mean_test_score'] \n",
    "cv_auc_std= results['std_test_score']\n",
    "S_X =  results['param_C']\n",
    "#D_Y =  results['param_max_depth']\n",
    "\n",
    "results.head()"
   ]
  },
  {
   "cell_type": "code",
   "execution_count": 195,
   "id": "found-battle",
   "metadata": {},
   "outputs": [
    {
     "name": "stdout",
     "output_type": "stream",
     "text": [
      "{'C': 0.07847599703514611}\n"
     ]
    }
   ],
   "source": [
    "print(clf.best_params_)"
   ]
  },
  {
   "cell_type": "code",
   "execution_count": 196,
   "id": "unnecessary-impact",
   "metadata": {},
   "outputs": [],
   "source": [
    "best_c=0.0785"
   ]
  },
  {
   "cell_type": "code",
   "execution_count": 198,
   "id": "postal-freedom",
   "metadata": {
    "scrolled": true
   },
   "outputs": [
    {
     "data": {
      "image/png": "[encoded data removed]",
      "text/plain": [
       "<Figure size 432x288 with 1 Axes>"
      ]
     },
     "metadata": {
      "needs_background": "light"
     },
     "output_type": "display_data"
    }
   ],
   "source": [
    "# https://scikit-learn.org/stable/modules/generated/sklearn.metrics.roc_curve.html#sklearn.metrics.roc_curve\n",
    "from sklearn.metrics import roc_curve, auc\n",
    "\n",
    "clf = LogisticRegression(C=best_c)\n",
    "clf.fit(X_tr, y_train)\n",
    "# roc_auc_score(y_true, y_score) the 2nd parameter should be probability estimates of the positive class\n",
    "# not the predicted outputs\n",
    "\n",
    "y_train_pred = batch_predict(clf, X_tr)    \n",
    "y_test_pred = batch_predict(clf, X_cr)\n",
    "\n",
    "train_fpr, train_tpr, tr_thresholds = roc_curve(y_train, y_train_pred)\n",
    "test_fpr, test_tpr, te_thresholds = roc_curve(y_cv, y_test_pred)\n",
    "\n",
    "summary.append(['Logistic Regression',\"Regularization C:\"+str(best_c),np.round(auc(test_fpr, test_tpr),2)])\n",
    "\n",
    "plt.plot(train_fpr, train_tpr, label=\"train AUC =\"+str(auc(train_fpr, train_tpr)))\n",
    "plt.plot(test_fpr, test_tpr, label=\"test AUC =\"+str(auc(test_fpr, test_tpr)))\n",
    "plt.legend()\n",
    "plt.xlabel(\"False Positive Rate\")\n",
    "plt.ylabel(\"True Positive Rate\")\n",
    "plt.title(\"ERROR PLOTs - ROC Curve \")\n",
    "plt.grid()\n",
    "plt.show()"
   ]
  },
  {
   "cell_type": "markdown",
   "id": "suspected-armenia",
   "metadata": {},
   "source": [
    "### 5.2.4 RandomForest"
   ]
  },
  {
   "cell_type": "code",
   "execution_count": 201,
   "id": "genuine-clearance",
   "metadata": {},
   "outputs": [
    {
     "data": {
      "text/html": [
       "<div>\n",
       "<style scoped>\n",
       "    .dataframe tbody tr th:only-of-type {\n",
       "        vertical-align: middle;\n",
       "    }\n",
       "\n",
       "    .dataframe tbody tr th {\n",
       "        vertical-align: top;\n",
       "    }\n",
       "\n",
       "    .dataframe thead th {\n",
       "        text-align: right;\n",
       "    }\n",
       "</style>\n",
       "<table border=\"1\" class=\"dataframe\">\n",
       "  <thead>\n",
       "    <tr style=\"text-align: right;\">\n",
       "      <th></th>\n",
       "      <th>mean_fit_time</th>\n",
       "      <th>std_fit_time</th>\n",
       "      <th>mean_score_time</th>\n",
       "      <th>std_score_time</th>\n",
       "      <th>param_max_depth</th>\n",
       "      <th>param_n_estimators</th>\n",
       "      <th>params</th>\n",
       "      <th>split0_test_score</th>\n",
       "      <th>split1_test_score</th>\n",
       "      <th>split2_test_score</th>\n",
       "      <th>mean_test_score</th>\n",
       "      <th>std_test_score</th>\n",
       "      <th>rank_test_score</th>\n",
       "      <th>split0_train_score</th>\n",
       "      <th>split1_train_score</th>\n",
       "      <th>split2_train_score</th>\n",
       "      <th>mean_train_score</th>\n",
       "      <th>std_train_score</th>\n",
       "    </tr>\n",
       "  </thead>\n",
       "  <tbody>\n",
       "    <tr>\n",
       "      <th>0</th>\n",
       "      <td>0.104016</td>\n",
       "      <td>0.002157</td>\n",
       "      <td>0.010673</td>\n",
       "      <td>0.000464</td>\n",
       "      <td>5</td>\n",
       "      <td>10</td>\n",
       "      <td>{'max_depth': 5, 'n_estimators': 10}</td>\n",
       "      <td>0.544378</td>\n",
       "      <td>0.579563</td>\n",
       "      <td>0.549061</td>\n",
       "      <td>0.557667</td>\n",
       "      <td>0.015601</td>\n",
       "      <td>12</td>\n",
       "      <td>0.571003</td>\n",
       "      <td>0.583380</td>\n",
       "      <td>0.560102</td>\n",
       "      <td>0.571495</td>\n",
       "      <td>0.009510</td>\n",
       "    </tr>\n",
       "    <tr>\n",
       "      <th>3</th>\n",
       "      <td>0.188038</td>\n",
       "      <td>0.003552</td>\n",
       "      <td>0.011674</td>\n",
       "      <td>0.000475</td>\n",
       "      <td>10</td>\n",
       "      <td>10</td>\n",
       "      <td>{'max_depth': 10, 'n_estimators': 10}</td>\n",
       "      <td>0.586321</td>\n",
       "      <td>0.574720</td>\n",
       "      <td>0.589073</td>\n",
       "      <td>0.583371</td>\n",
       "      <td>0.006220</td>\n",
       "      <td>11</td>\n",
       "      <td>0.620114</td>\n",
       "      <td>0.596784</td>\n",
       "      <td>0.613477</td>\n",
       "      <td>0.610125</td>\n",
       "      <td>0.009815</td>\n",
       "    </tr>\n",
       "    <tr>\n",
       "      <th>6</th>\n",
       "      <td>0.454109</td>\n",
       "      <td>0.006983</td>\n",
       "      <td>0.017336</td>\n",
       "      <td>0.001245</td>\n",
       "      <td>25</td>\n",
       "      <td>10</td>\n",
       "      <td>{'max_depth': 25, 'n_estimators': 10}</td>\n",
       "      <td>0.609039</td>\n",
       "      <td>0.622194</td>\n",
       "      <td>0.617795</td>\n",
       "      <td>0.616342</td>\n",
       "      <td>0.005468</td>\n",
       "      <td>7</td>\n",
       "      <td>0.700202</td>\n",
       "      <td>0.683968</td>\n",
       "      <td>0.688076</td>\n",
       "      <td>0.690748</td>\n",
       "      <td>0.006892</td>\n",
       "    </tr>\n",
       "    <tr>\n",
       "      <th>9</th>\n",
       "      <td>0.918217</td>\n",
       "      <td>0.016304</td>\n",
       "      <td>0.024672</td>\n",
       "      <td>0.000943</td>\n",
       "      <td>50</td>\n",
       "      <td>10</td>\n",
       "      <td>{'max_depth': 50, 'n_estimators': 10}</td>\n",
       "      <td>0.615100</td>\n",
       "      <td>0.631161</td>\n",
       "      <td>0.634726</td>\n",
       "      <td>0.626995</td>\n",
       "      <td>0.008537</td>\n",
       "      <td>5</td>\n",
       "      <td>0.800847</td>\n",
       "      <td>0.798796</td>\n",
       "      <td>0.799165</td>\n",
       "      <td>0.799603</td>\n",
       "      <td>0.000892</td>\n",
       "    </tr>\n",
       "    <tr>\n",
       "      <th>1</th>\n",
       "      <td>0.496807</td>\n",
       "      <td>0.016708</td>\n",
       "      <td>0.039682</td>\n",
       "      <td>0.002358</td>\n",
       "      <td>5</td>\n",
       "      <td>50</td>\n",
       "      <td>{'max_depth': 5, 'n_estimators': 50}</td>\n",
       "      <td>0.593827</td>\n",
       "      <td>0.626715</td>\n",
       "      <td>0.602690</td>\n",
       "      <td>0.607744</td>\n",
       "      <td>0.013894</td>\n",
       "      <td>10</td>\n",
       "      <td>0.651418</td>\n",
       "      <td>0.645669</td>\n",
       "      <td>0.636772</td>\n",
       "      <td>0.644620</td>\n",
       "      <td>0.006025</td>\n",
       "    </tr>\n",
       "  </tbody>\n",
       "</table>\n",
       "</div>"
      ],
      "text/plain": [
       "   mean_fit_time  std_fit_time  mean_score_time  std_score_time  \\\n",
       "0       0.104016      0.002157         0.010673        0.000464   \n",
       "3       0.188038      0.003552         0.011674        0.000475   \n",
       "6       0.454109      0.006983         0.017336        0.001245   \n",
       "9       0.918217      0.016304         0.024672        0.000943   \n",
       "1       0.496807      0.016708         0.039682        0.002358   \n",
       "\n",
       "  param_max_depth param_n_estimators                                 params  \\\n",
       "0               5                 10   {'max_depth': 5, 'n_estimators': 10}   \n",
       "3              10                 10  {'max_depth': 10, 'n_estimators': 10}   \n",
       "6              25                 10  {'max_depth': 25, 'n_estimators': 10}   \n",
       "9              50                 10  {'max_depth': 50, 'n_estimators': 10}   \n",
       "1               5                 50   {'max_depth': 5, 'n_estimators': 50}   \n",
       "\n",
       "   split0_test_score  split1_test_score  split2_test_score  mean_test_score  \\\n",
       "0           0.544378           0.579563           0.549061         0.557667   \n",
       "3           0.586321           0.574720           0.589073         0.583371   \n",
       "6           0.609039           0.622194           0.617795         0.616342   \n",
       "9           0.615100           0.631161           0.634726         0.626995   \n",
       "1           0.593827           0.626715           0.602690         0.607744   \n",
       "\n",
       "   std_test_score  rank_test_score  split0_train_score  split1_train_score  \\\n",
       "0        0.015601               12            0.571003            0.583380   \n",
       "3        0.006220               11            0.620114            0.596784   \n",
       "6        0.005468                7            0.700202            0.683968   \n",
       "9        0.008537                5            0.800847            0.798796   \n",
       "1        0.013894               10            0.651418            0.645669   \n",
       "\n",
       "   split2_train_score  mean_train_score  std_train_score  \n",
       "0            0.560102          0.571495         0.009510  \n",
       "3            0.613477          0.610125         0.009815  \n",
       "6            0.688076          0.690748         0.006892  \n",
       "9            0.799165          0.799603         0.000892  \n",
       "1            0.636772          0.644620         0.006025  "
      ]
     },
     "execution_count": 201,
     "metadata": {},
     "output_type": "execute_result"
    }
   ],
   "source": [
    "from sklearn.ensemble import RandomForestClassifier\n",
    "\n",
    "\n",
    "clf_rf = RandomForestClassifier()\n",
    "parameters = {'n_estimators':[10,50,100],\n",
    "              'max_depth':[5,10,25,50],\n",
    "              'max_features':[5,15,20,100]\n",
    "             }\n",
    "clf = GridSearchCV(clf_rf, parameters, cv=3, scoring='roc_auc',return_train_score=True)\n",
    "clf.fit(X_tr, y_train)\n",
    "\n",
    "results = pd.DataFrame.from_dict(clf.cv_results_)\n",
    "results = results.sort_values(['param_n_estimators'])\n",
    "\n",
    "\n",
    "train_auc= results['mean_train_score']\n",
    "train_auc_std= results['std_train_score']\n",
    "cv_auc = results['mean_test_score'] \n",
    "cv_auc_std= results['std_test_score']\n",
    "S_X =  results['param_n_estimators']\n",
    "#D_Y =  results['param_max_features']\n",
    "\n",
    "results.head()"
   ]
  },
  {
   "cell_type": "code",
   "execution_count": 202,
   "id": "strategic-local",
   "metadata": {},
   "outputs": [
    {
     "name": "stdout",
     "output_type": "stream",
     "text": [
      "{'max_depth': 50, 'n_estimators': 100}\n"
     ]
    }
   ],
   "source": [
    "print(clf.best_params_)"
   ]
  },
  {
   "cell_type": "code",
   "execution_count": 203,
   "id": "russian-address",
   "metadata": {},
   "outputs": [],
   "source": [
    "#here we are choosing the best_alpha based on forloop results\n",
    "best_n_estimators=100\n",
    "best_max_depth=80"
   ]
  },
  {
   "cell_type": "code",
   "execution_count": 218,
   "id": "unknown-street",
   "metadata": {
    "scrolled": false
   },
   "outputs": [
    {
     "data": {
      "image/png": "[encoded data removed]",
      "text/plain": [
       "<Figure size 432x288 with 1 Axes>"
      ]
     },
     "metadata": {
      "needs_background": "light"
     },
     "output_type": "display_data"
    }
   ],
   "source": [
    "# https://scikit-learn.org/stable/modules/generated/sklearn.metrics.roc_curve.html#sklearn.metrics.roc_curve\n",
    "from sklearn.metrics import roc_curve, auc\n",
    "from sklearn.ensemble import RandomForestClassifier\n",
    "\n",
    "\n",
    "clf = RandomForestClassifier(n_estimators=200,max_depth=100)\n",
    "clf.fit(X_tr, y_train)\n",
    "\n",
    "# roc_auc_score(y_true, y_score) the 2nd parameter should be probability estimates of the positive class\n",
    "\n",
    "y_train_pred = batch_predict(clf, X_tr)    \n",
    "y_test_pred = batch_predict(clf, X_cr)\n",
    "\n",
    "train_fpr, train_tpr, tr_thresholds = roc_curve(y_train, y_train_pred)\n",
    "test_fpr, test_tpr, te_thresholds = roc_curve(y_cv, y_test_pred)\n",
    "\n",
    "summary.append(['Random Forest',\"depth:\"+str(best_max_depth)+\"n_estimators: \"+str(best_n_estimators),np.round(auc(test_fpr, test_tpr),2)])\n",
    "\n",
    "plt.plot(train_fpr, train_tpr, label=\"train AUC =\"+str(auc(train_fpr, train_tpr)))\n",
    "plt.plot(test_fpr, test_tpr, label=\"test AUC =\"+str(auc(test_fpr, test_tpr)))\n",
    "plt.legend()\n",
    "plt.xlabel(\"False Positive Rate\")\n",
    "plt.ylabel(\"True Positive Rate\")\n",
    "plt.title(\"ERROR PLOTs - ROC Curve \")\n",
    "plt.grid()\n",
    "plt.show()"
   ]
  },
  {
   "cell_type": "markdown",
   "id": "sorted-sweden",
   "metadata": {},
   "source": [
    "## 5.3 Saving Prediction File"
   ]
  },
  {
   "cell_type": "markdown",
   "id": "unknown-valuation",
   "metadata": {},
   "source": [
    "For the sake of the hackathon, the prediction file is created in the form of customer id and the probabilty that the customer is interested in the policy"
   ]
  },
  {
   "cell_type": "code",
   "execution_count": null,
   "id": "healthy-holiday",
   "metadata": {},
   "outputs": [],
   "source": [
    "y_test_pred = batch_predict(clf, X_te)\n",
    "len(y_test_pred)"
   ]
  },
  {
   "cell_type": "code",
   "execution_count": 220,
   "id": "furnished-sample",
   "metadata": {},
   "outputs": [],
   "source": [
    "policy_df_test = pd.read_csv('.data/test_YCcRUnU.csv')\n",
    "  \n",
    "ID = policy_df_test['ID']\n",
    "\n",
    "pred = list(zip(ID, y_test_pred))  \n",
    "\n",
    "final_df = pd.DataFrame(pred, columns = ['ID', 'Response'])  \n",
    "final_df.to_csv('.predictions/rf_predictions.csv',index=False)  "
   ]
  },
  {
   "cell_type": "markdown",
   "id": "tested-identifier",
   "metadata": {},
   "source": [
    "## 6.Summary"
   ]
  },
  {
   "cell_type": "code",
   "execution_count": 210,
   "id": "labeled-alaska",
   "metadata": {
    "scrolled": true
   },
   "outputs": [
    {
     "name": "stdout",
     "output_type": "stream",
     "text": [
      "+---------------------+---------------------------------------+----------+\n",
      "|        Model        |            Hyper Parameter            | Accuracy |\n",
      "+---------------------+---------------------------------------+----------+\n",
      "|     Naive-Bayes     |                alpha:5                |   0.59   |\n",
      "|         GBDT        | n_estimators:1000 learning_rate: 0.01 |   0.68   |\n",
      "| Logistic Regression |        Regularization C:0.0785        |   0.63   |\n",
      "|    Random Forest    |       depth:80n_estimators: 100       |   0.7    |\n",
      "+---------------------+---------------------------------------+----------+\n"
     ]
    }
   ],
   "source": [
    "from prettytable import PrettyTable\n",
    "\n",
    "x = PrettyTable()\n",
    "x.field_names = [\"Model\", \"Hyper Parameter\", \"Accuracy\"]\n",
    "\n",
    "for i in range(4):\n",
    "    x.add_row([summary[i][0],summary[i][1],summary[i][2]])\n",
    "print(x)"
   ]
  },
  {
   "cell_type": "markdown",
   "id": "given-baker",
   "metadata": {},
   "source": [
    "So from the above table, Random forest performed best on the pre-processed dataset and has given the best model performance"
   ]
  }
 ],
 "metadata": {
  "kernelspec": {
   "display_name": "Python 3",
   "language": "python",
   "name": "python3"
  },
  "language_info": {
   "codemirror_mode": {
    "name": "ipython",
    "version": 3
   },
   "file_extension": ".py",
   "mimetype": "text/x-python",
   "name": "python",
   "nbconvert_exporter": "python",
   "pygments_lexer": "ipython3",
   "version": "3.8.5"
  }
 },
 "nbformat": 4,
 "nbformat_minor": 5
}
