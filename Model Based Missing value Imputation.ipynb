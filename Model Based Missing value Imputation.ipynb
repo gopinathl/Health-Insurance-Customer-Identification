{
 "cells": [
  {
   "cell_type": "code",
   "execution_count": 1,
   "id": "material-watch",
   "metadata": {},
   "outputs": [],
   "source": [
    "## Importing Libraries\n",
    "\n",
    "%matplotlib inline\n",
    "import warnings\n",
    "warnings.filterwarnings(\"ignore\")\n",
    "\n",
    "import os\n",
    "import sqlite3\n",
    "import pandas as pd\n",
    "import numpy as np\n",
    "import string\n",
    "import matplotlib.pyplot as plt\n",
    "import seaborn as sns\n",
    "from sklearn.feature_extraction.text import TfidfTransformer\n",
    "from sklearn.feature_extraction.text import TfidfVectorizer\n",
    "\n",
    "from sklearn.feature_extraction.text import CountVectorizer\n",
    "from sklearn.preprocessing import LabelEncoder\n",
    "from sklearn.metrics import confusion_matrix\n",
    "from sklearn import metrics\n",
    "from sklearn.metrics import roc_curve, auc\n",
    "from sklearn.model_selection import train_test_split\n",
    "\n",
    "from sklearn.metrics import roc_auc_score\n",
    "from sklearn.model_selection import GridSearchCV\n",
    "from scipy.stats import randint as sp_randint\n",
    "from sklearn.model_selection import RandomizedSearchCV\n",
    "    \n",
    "\n",
    "import re\n",
    "import string\n",
    "import pickle\n",
    "\n",
    "from tqdm import tqdm\n",
    "from collections import Counter"
   ]
  },
  {
   "cell_type": "markdown",
   "id": "surgical-python",
   "metadata": {},
   "source": [
    "## Handling Missing Values - Model Based Imputation"
   ]
  },
  {
   "cell_type": "code",
   "execution_count": 120,
   "id": "adult-television",
   "metadata": {},
   "outputs": [],
   "source": [
    "policy_df = pd.read_csv('.data/train_Df64byy.csv')\n",
    "policy_df_train = policy_df[policy_df['Health Indicator'].isna()== False]\n",
    "\n",
    "y = policy_df_train['Health Indicator'].values\n",
    "X = policy_df_train.drop(['Health Indicator'], axis=1)\n",
    "X = policy_df_train.drop(['ID'], axis=1)\n",
    "\n",
    "X['Holding_Policy_Duration'] = X['Holding_Policy_Duration'].replace(np.nan, '0', regex=True)\n",
    "X['Holding_Policy_Type'] = X['Holding_Policy_Type'].replace(np.nan, 'No_policy', regex=True)\n",
    "\n",
    "X['Holding_Policy_Type'] = X['Holding_Policy_Type'].astype(str)\n",
    "X['Region_Code'] = X['Region_Code'].astype(str)\n",
    "X['Reco_Policy_Cat'] = X['Reco_Policy_Cat'].astype(str)"
   ]
  },
  {
   "cell_type": "code",
   "execution_count": 121,
   "id": "tender-liberty",
   "metadata": {},
   "outputs": [
    {
     "data": {
      "text/plain": [
       "(31352, 13)"
      ]
     },
     "execution_count": 121,
     "metadata": {},
     "output_type": "execute_result"
    }
   ],
   "source": [
    "X_train, X_cv, y_train, y_cv = train_test_split(X, y, test_size=0.2, stratify=y,random_state=45)\n",
    "X_train.shape"
   ]
  },
  {
   "cell_type": "code",
   "execution_count": 122,
   "id": "figured-happening",
   "metadata": {},
   "outputs": [
    {
     "name": "stdout",
     "output_type": "stream",
     "text": [
      "(11691, 13)\n"
     ]
    },
    {
     "data": {
      "text/html": [
       "<div>\n",
       "<style scoped>\n",
       "    .dataframe tbody tr th:only-of-type {\n",
       "        vertical-align: middle;\n",
       "    }\n",
       "\n",
       "    .dataframe tbody tr th {\n",
       "        vertical-align: top;\n",
       "    }\n",
       "\n",
       "    .dataframe thead th {\n",
       "        text-align: right;\n",
       "    }\n",
       "</style>\n",
       "<table border=\"1\" class=\"dataframe\">\n",
       "  <thead>\n",
       "    <tr style=\"text-align: right;\">\n",
       "      <th></th>\n",
       "      <th>City_Code</th>\n",
       "      <th>Region_Code</th>\n",
       "      <th>Accomodation_Type</th>\n",
       "      <th>Reco_Insurance_Type</th>\n",
       "      <th>Upper_Age</th>\n",
       "      <th>Lower_Age</th>\n",
       "      <th>Is_Spouse</th>\n",
       "      <th>Health Indicator</th>\n",
       "      <th>Holding_Policy_Duration</th>\n",
       "      <th>Holding_Policy_Type</th>\n",
       "      <th>Reco_Policy_Cat</th>\n",
       "      <th>Reco_Policy_Premium</th>\n",
       "      <th>Response</th>\n",
       "    </tr>\n",
       "  </thead>\n",
       "  <tbody>\n",
       "    <tr>\n",
       "      <th>2</th>\n",
       "      <td>C5</td>\n",
       "      <td>3732</td>\n",
       "      <td>Owned</td>\n",
       "      <td>Individual</td>\n",
       "      <td>32</td>\n",
       "      <td>32</td>\n",
       "      <td>No</td>\n",
       "      <td>NaN</td>\n",
       "      <td>1.0</td>\n",
       "      <td>1.0</td>\n",
       "      <td>19</td>\n",
       "      <td>7450.0</td>\n",
       "      <td>1</td>\n",
       "    </tr>\n",
       "    <tr>\n",
       "      <th>6</th>\n",
       "      <td>C3</td>\n",
       "      <td>679</td>\n",
       "      <td>Owned</td>\n",
       "      <td>Individual</td>\n",
       "      <td>28</td>\n",
       "      <td>28</td>\n",
       "      <td>No</td>\n",
       "      <td>NaN</td>\n",
       "      <td>nan</td>\n",
       "      <td>nan</td>\n",
       "      <td>17</td>\n",
       "      <td>10640.0</td>\n",
       "      <td>0</td>\n",
       "    </tr>\n",
       "    <tr>\n",
       "      <th>9</th>\n",
       "      <td>C1</td>\n",
       "      <td>530</td>\n",
       "      <td>Owned</td>\n",
       "      <td>Joint</td>\n",
       "      <td>59</td>\n",
       "      <td>26</td>\n",
       "      <td>Yes</td>\n",
       "      <td>NaN</td>\n",
       "      <td>7.0</td>\n",
       "      <td>4.0</td>\n",
       "      <td>18</td>\n",
       "      <td>21100.8</td>\n",
       "      <td>1</td>\n",
       "    </tr>\n",
       "    <tr>\n",
       "      <th>12</th>\n",
       "      <td>C7</td>\n",
       "      <td>3453</td>\n",
       "      <td>Owned</td>\n",
       "      <td>Individual</td>\n",
       "      <td>66</td>\n",
       "      <td>66</td>\n",
       "      <td>No</td>\n",
       "      <td>NaN</td>\n",
       "      <td>1.0</td>\n",
       "      <td>2.0</td>\n",
       "      <td>20</td>\n",
       "      <td>17192.0</td>\n",
       "      <td>1</td>\n",
       "    </tr>\n",
       "    <tr>\n",
       "      <th>19</th>\n",
       "      <td>C20</td>\n",
       "      <td>973</td>\n",
       "      <td>Owned</td>\n",
       "      <td>Individual</td>\n",
       "      <td>27</td>\n",
       "      <td>27</td>\n",
       "      <td>No</td>\n",
       "      <td>NaN</td>\n",
       "      <td>nan</td>\n",
       "      <td>nan</td>\n",
       "      <td>4</td>\n",
       "      <td>8050.0</td>\n",
       "      <td>0</td>\n",
       "    </tr>\n",
       "  </tbody>\n",
       "</table>\n",
       "</div>"
      ],
      "text/plain": [
       "   City_Code Region_Code Accomodation_Type Reco_Insurance_Type  Upper_Age  \\\n",
       "2         C5        3732             Owned          Individual         32   \n",
       "6         C3         679             Owned          Individual         28   \n",
       "9         C1         530             Owned               Joint         59   \n",
       "12        C7        3453             Owned          Individual         66   \n",
       "19       C20         973             Owned          Individual         27   \n",
       "\n",
       "    Lower_Age Is_Spouse Health Indicator Holding_Policy_Duration  \\\n",
       "2          32        No              NaN                     1.0   \n",
       "6          28        No              NaN                     nan   \n",
       "9          26       Yes              NaN                     7.0   \n",
       "12         66        No              NaN                     1.0   \n",
       "19         27        No              NaN                     nan   \n",
       "\n",
       "   Holding_Policy_Type Reco_Policy_Cat  Reco_Policy_Premium  Response  \n",
       "2                  1.0              19               7450.0         1  \n",
       "6                  nan              17              10640.0         0  \n",
       "9                  4.0              18              21100.8         1  \n",
       "12                 2.0              20              17192.0         1  \n",
       "19                 nan               4               8050.0         0  "
      ]
     },
     "execution_count": 122,
     "metadata": {},
     "output_type": "execute_result"
    }
   ],
   "source": [
    "policy_df_test = policy_df[policy_df['Health Indicator'].isna()]\n",
    "#X_test = policy_df_test.drop(['ID'], axis=1)\n",
    "X_test['Holding_Policy_Duration'] = X_test['Holding_Policy_Duration'].replace(np.nan, 'nan', regex=True)\n",
    "X_test['Holding_Policy_Type'] = X_test['Holding_Policy_Type'].replace(np.nan, 'nan', regex=True)\n",
    "X_test['Region_Code'] = X_test['Region_Code'].astype(str)\n",
    "X_test['Holding_Policy_Type'] = X_test['Holding_Policy_Type'].astype(str)\n",
    "X_test['Reco_Policy_Cat'] = X_test['Reco_Policy_Cat'].astype(str)\n",
    "print(X_test.shape)\n",
    "X_test.head()"
   ]
  },
  {
   "cell_type": "code",
   "execution_count": 67,
   "id": "emotional-reggae",
   "metadata": {
    "scrolled": true
   },
   "outputs": [
    {
     "name": "stdout",
     "output_type": "stream",
     "text": [
      "After vectorizations\n",
      "(31352, 36) (31352,)\n",
      "(7839, 36) (7839,)\n",
      "(11691, 36)\n",
      "['c1', 'c10', 'c11', 'c12', 'c13', 'c14', 'c15', 'c16', 'c17', 'c18', 'c19', 'c2', 'c20', 'c21', 'c22', 'c23', 'c24', 'c25', 'c26', 'c27', 'c28', 'c29', 'c3', 'c30', 'c31', 'c32', 'c33', 'c34', 'c35', 'c36', 'c4', 'c5', 'c6', 'c7', 'c8', 'c9'] 36\n",
      "====================================================================================================\n"
     ]
    }
   ],
   "source": [
    "vectorizer = CountVectorizer()\n",
    "vectorizer.fit(X_train['City_Code'].values) # fit has to happen only on train data\n",
    "\n",
    "feature_names=[]\n",
    "\n",
    "# we use the fitted CountVectorizer to convert the text to vector\n",
    "X_train_city_ohe = vectorizer.transform(X_train['City_Code'].values)\n",
    "X_cv_city_ohe = vectorizer.transform(X_cv['City_Code'].values)\n",
    "X_test_city_ohe = vectorizer.transform(X_test['City_Code'].values)\n",
    "\n",
    "print(\"After vectorizations\")\n",
    "print(X_train_city_ohe.shape, y_train.shape)\n",
    "print(X_cv_city_ohe.shape, y_cv.shape)\n",
    "print(X_test_city_ohe.shape)\n",
    "print(vectorizer.get_feature_names(),len(vectorizer.get_feature_names()))\n",
    "feature_names.extend(vectorizer.get_feature_names())\n",
    "print(\"=\"*100)"
   ]
  },
  {
   "cell_type": "code",
   "execution_count": 68,
   "id": "simplified-treasurer",
   "metadata": {},
   "outputs": [
    {
     "name": "stdout",
     "output_type": "stream",
     "text": [
      "After vectorizations\n",
      "(31352, 4972) (31352,)\n",
      "(7839, 4972) (7839,)\n",
      "(11691, 4972)\n",
      "4972\n",
      "====================================================================================================\n"
     ]
    }
   ],
   "source": [
    "vectorizer = CountVectorizer()\n",
    "vectorizer.fit(X_train['Region_Code'].values) # fit has to happen only on train data\n",
    "\n",
    "# we use the fitted CountVectorizer to convert the text to vector\n",
    "X_train_region_ohe = vectorizer.transform(X_train['Region_Code'].values)\n",
    "X_cv_region_ohe = vectorizer.transform(X_cv['Region_Code'].values)\n",
    "X_test_region_ohe = vectorizer.transform(X_test['Region_Code'].values)\n",
    "\n",
    "print(\"After vectorizations\")\n",
    "print(X_train_region_ohe.shape, y_train.shape)\n",
    "print(X_cv_region_ohe.shape, y_cv.shape)\n",
    "print(X_test_region_ohe.shape)\n",
    "print(len(vectorizer.get_feature_names()))\n",
    "feature_names.extend(vectorizer.get_feature_names())\n",
    "print(\"=\"*100)"
   ]
  },
  {
   "cell_type": "code",
   "execution_count": 69,
   "id": "available-program",
   "metadata": {},
   "outputs": [
    {
     "name": "stdout",
     "output_type": "stream",
     "text": [
      "After vectorizations\n",
      "(31352, 1) (31352,)\n",
      "(7839, 1) (7839,)\n",
      "====================================================================================================\n"
     ]
    }
   ],
   "source": [
    "# creating instance of labelencoder\n",
    "labelencoder = LabelEncoder()\n",
    "# Assigning numerical values and storing in another column\n",
    "labelencoder.fit(X_train['Accomodation_Type'])\n",
    "\n",
    "# we use the fitted CountVectorizer to convert the text to vector\n",
    "X_train_accomodation_ohe = labelencoder.transform(X_train['Accomodation_Type'].values).reshape(-1,1)\n",
    "X_cv_accomodation_ohe = labelencoder.transform(X_cv['Accomodation_Type'].values).reshape(-1,1)\n",
    "X_test_accomodation_ohe = labelencoder.transform(X_test['Accomodation_Type'].values).reshape(-1,1)\n",
    "\n",
    "print(\"After vectorizations\")\n",
    "print(X_train_accomodation_ohe.shape, y_train.shape)\n",
    "print(X_cv_accomodation_ohe.shape, y_cv.shape)\n",
    "#print(labelencoder.get_feature_names())\n",
    "feature_names.extend('Accomodation_Type')\n",
    "print(\"=\"*100)"
   ]
  },
  {
   "cell_type": "code",
   "execution_count": 70,
   "id": "indirect-combat",
   "metadata": {},
   "outputs": [
    {
     "name": "stdout",
     "output_type": "stream",
     "text": [
      "After vectorizations\n",
      "(31352, 1) (31352,)\n",
      "(7839, 1) (7839,)\n",
      "====================================================================================================\n"
     ]
    }
   ],
   "source": [
    "# creating instance of labelencoder\n",
    "labelencoder = LabelEncoder()\n",
    "# Assigning numerical values and storing in another column\n",
    "labelencoder.fit(X_train['Reco_Insurance_Type'])\n",
    "\n",
    "# we use the fitted CountVectorizer to convert the text to vector\n",
    "X_train_ins_type_ohe = labelencoder.transform(X_train['Reco_Insurance_Type'].values).reshape(-1,1)\n",
    "X_cv_ins_type_ohe = labelencoder.transform(X_cv['Reco_Insurance_Type'].values).reshape(-1,1)\n",
    "X_test_ins_type_ohe = labelencoder.transform(X_test['Reco_Insurance_Type'].values).reshape(-1,1)\n",
    "\n",
    "print(\"After vectorizations\")\n",
    "print(X_train_ins_type_ohe.shape, y_train.shape)\n",
    "print(X_cv_ins_type_ohe.shape, y_cv.shape)\n",
    "#print(labelencoder.get_feature_names())\n",
    "feature_names.extend('Reco_Insurance_Type')\n",
    "print(\"=\"*100)"
   ]
  },
  {
   "cell_type": "code",
   "execution_count": 71,
   "id": "educated-pursuit",
   "metadata": {},
   "outputs": [
    {
     "name": "stdout",
     "output_type": "stream",
     "text": [
      "After vectorizations\n",
      "(31352, 1) (31352,)\n",
      "(7839, 1) (7839,)\n",
      "====================================================================================================\n"
     ]
    }
   ],
   "source": [
    "# creating instance of labelencoder\n",
    "labelencoder = LabelEncoder()\n",
    "# Assigning numerical values and storing in another column\n",
    "labelencoder.fit(X_train['Is_Spouse'])\n",
    "\n",
    "# we use the fitted CountVectorizer to convert the text to vector\n",
    "X_train_spouse_ohe = labelencoder.transform(X_train['Is_Spouse'].values).reshape(-1,1)\n",
    "X_cv_spouse_ohe = labelencoder.transform(X_cv['Is_Spouse'].values).reshape(-1,1)\n",
    "X_test_spouse_ohe = labelencoder.transform(X_test['Is_Spouse'].values).reshape(-1,1)\n",
    "\n",
    "print(\"After vectorizations\")\n",
    "print(X_train_spouse_ohe.shape, y_train.shape)\n",
    "print(X_cv_spouse_ohe.shape, y_cv.shape)\n",
    "#print(labelencoder.get_feature_names())\n",
    "feature_names.extend('Is_Spouse')\n",
    "print(\"=\"*100)"
   ]
  },
  {
   "cell_type": "code",
   "execution_count": 72,
   "id": "blond-hypothetical",
   "metadata": {},
   "outputs": [
    {
     "name": "stdout",
     "output_type": "stream",
     "text": [
      "After vectorizations\n",
      "(31352, 1) (31352,)\n",
      "(7839, 1) (7839,)\n",
      "====================================================================================================\n"
     ]
    }
   ],
   "source": [
    "# creating instance of labelencoder\n",
    "labelencoder = LabelEncoder()\n",
    "# Assigning numerical values and storing in another column\n",
    "labelencoder.fit(X_train['Response'])\n",
    "\n",
    "# we use the fitted CountVectorizer to convert the text to vector\n",
    "X_train_response_ohe = labelencoder.transform(X_train['Response'].values).reshape(-1,1)\n",
    "X_cv_response_ohe = labelencoder.transform(X_cv['Response'].values).reshape(-1,1)\n",
    "X_test_response_ohe = labelencoder.transform(X_test['Response'].values).reshape(-1,1)\n",
    "\n",
    "print(\"After vectorizations\")\n",
    "print(X_train_response_ohe.shape, y_train.shape)\n",
    "print(X_cv_response_ohe.shape, y_cv.shape)\n",
    "#print(labelencoder.get_feature_names())\n",
    "feature_names.extend('Response')\n",
    "print(\"=\"*100)"
   ]
  },
  {
   "cell_type": "code",
   "execution_count": 73,
   "id": "monetary-dutch",
   "metadata": {},
   "outputs": [
    {
     "name": "stdout",
     "output_type": "stream",
     "text": [
      "After vectorizations\n",
      "(31352, 15) (31352,)\n",
      "(7839, 15) (7839,)\n",
      "['0', '1', '10', '11', '12', '13', '14', '2', '3', '4', '5', '6', '7', '8', '9'] 15\n",
      "====================================================================================================\n"
     ]
    }
   ],
   "source": [
    "#token_pattern is set as the default token pattern in CountVectorizer does not capture 'single characters'\n",
    "vectorizer = CountVectorizer(token_pattern='\\\\b\\\\w+\\\\b')\n",
    "\n",
    "vectorizer.fit(X_train['Holding_Policy_Duration'].values) # fit has to happen only on train data\n",
    "\n",
    "# we use the fitted CountVectorizer to convert the text to vector\n",
    "X_train_hold_dur_ohe = vectorizer.transform(X_train['Holding_Policy_Duration'].values)\n",
    "X_cv_hold_dur_ohe = vectorizer.transform(X_cv['Holding_Policy_Duration'].values)\n",
    "X_test_hold_dur_ohe = vectorizer.transform(X_test['Holding_Policy_Duration'].values)\n",
    "\n",
    "print(\"After vectorizations\")\n",
    "print(X_train_hold_dur_ohe.shape, y_train.shape)\n",
    "print(X_cv_hold_dur_ohe.shape, y_cv.shape)\n",
    "print(vectorizer.get_feature_names(),len(vectorizer.get_feature_names()))\n",
    "feature_names.extend(vectorizer.get_feature_names())\n",
    "print(\"=\"*100)"
   ]
  },
  {
   "cell_type": "code",
   "execution_count": 74,
   "id": "nutritional-responsibility",
   "metadata": {},
   "outputs": [
    {
     "name": "stdout",
     "output_type": "stream",
     "text": [
      "After vectorizations\n",
      "(31352, 6) (31352,)\n",
      "(7839, 6) (7839,)\n",
      "['0', '1', '2', '3', '4', 'no_policy'] 6\n",
      "====================================================================================================\n"
     ]
    }
   ],
   "source": [
    "vectorizer = CountVectorizer(token_pattern='\\\\b\\\\w+\\\\b')\n",
    "\n",
    "vectorizer.fit(X_train['Holding_Policy_Type'].values) # fit has to happen only on train data\n",
    "\n",
    "# we use the fitted CountVectorizer to convert the text to vector\n",
    "X_train_hold_type_ohe = vectorizer.transform(X_train['Holding_Policy_Type'].values)\n",
    "X_cv_hold_type_ohe = vectorizer.transform(X_cv['Holding_Policy_Type'].values)\n",
    "X_test_hold_type_ohe = vectorizer.transform(X_test['Holding_Policy_Type'].values)\n",
    "\n",
    "print(\"After vectorizations\")\n",
    "print(X_train_hold_type_ohe.shape, y_train.shape)\n",
    "print(X_cv_hold_type_ohe.shape, y_cv.shape)\n",
    "print(vectorizer.get_feature_names(),len(vectorizer.get_feature_names()))\n",
    "feature_names.extend(vectorizer.get_feature_names())\n",
    "print(\"=\"*100)"
   ]
  },
  {
   "cell_type": "code",
   "execution_count": 75,
   "id": "extensive-differential",
   "metadata": {},
   "outputs": [
    {
     "name": "stdout",
     "output_type": "stream",
     "text": [
      "After vectorizations\n",
      "(31352, 22) (31352,)\n",
      "(7839, 22) (7839,)\n",
      "['1', '10', '11', '12', '13', '14', '15', '16', '17', '18', '19', '2', '20', '21', '22', '3', '4', '5', '6', '7', '8', '9'] 22\n",
      "====================================================================================================\n"
     ]
    }
   ],
   "source": [
    "vectorizer = CountVectorizer(token_pattern='\\\\b\\\\w+\\\\b')\n",
    "\n",
    "vectorizer.fit(X_train['Reco_Policy_Cat'].values) # fit has to happen only on train data\n",
    "\n",
    "# we use the fitted CountVectorizer to convert the text to vector\n",
    "X_train_pol_cat_ohe = vectorizer.transform(X_train['Reco_Policy_Cat'].values)\n",
    "X_cv_pol_cat_ohe = vectorizer.transform(X_cv['Reco_Policy_Cat'].values)\n",
    "X_test_pol_cat_ohe = vectorizer.transform(X_test['Reco_Policy_Cat'].values)\n",
    "\n",
    "print(\"After vectorizations\")\n",
    "print(X_train_pol_cat_ohe.shape, y_train.shape)\n",
    "print(X_cv_pol_cat_ohe.shape, y_cv.shape)\n",
    "print(vectorizer.get_feature_names(),len(vectorizer.get_feature_names()))\n",
    "feature_names.extend(vectorizer.get_feature_names())\n",
    "print(\"=\"*100)"
   ]
  },
  {
   "cell_type": "code",
   "execution_count": 76,
   "id": "positive-comparison",
   "metadata": {},
   "outputs": [
    {
     "name": "stdout",
     "output_type": "stream",
     "text": [
      "After vectorizations\n",
      "(31352, 1) (31352,)\n",
      "(7839, 1) (7839,)\n",
      "====================================================================================================\n"
     ]
    }
   ],
   "source": [
    "from sklearn.preprocessing import Normalizer\n",
    "normalizer = Normalizer()\n",
    "\n",
    "normalizer.fit(X_train['Upper_Age'].values.reshape(-1,1))\n",
    "\n",
    "X_train_upper_age_norm = normalizer.transform(X_train['Upper_Age'].values.reshape(-1,1))\n",
    "X_cv_upper_age_norm = normalizer.transform(X_cv['Upper_Age'].values.reshape(-1,1))\n",
    "X_test_upper_age_norm = normalizer.transform(X_test['Upper_Age'].values.reshape(-1,1))\n",
    "\n",
    "print(\"After vectorizations\")\n",
    "print(X_train_upper_age_norm.shape, y_train.shape)\n",
    "print(X_cv_upper_age_norm.shape, y_cv.shape)\n",
    "feature_names.extend('Upper_Age')\n",
    "print(\"=\"*100)\n"
   ]
  },
  {
   "cell_type": "code",
   "execution_count": 77,
   "id": "portable-coast",
   "metadata": {
    "scrolled": true
   },
   "outputs": [
    {
     "name": "stdout",
     "output_type": "stream",
     "text": [
      "After vectorizations\n",
      "(31352, 1) (31352,)\n",
      "(7839, 1) (7839,)\n",
      "====================================================================================================\n"
     ]
    }
   ],
   "source": [
    "normalizer = Normalizer()\n",
    "\n",
    "normalizer.fit(X_train['Lower_Age'].values.reshape(-1,1))\n",
    "\n",
    "X_train_lower_age_norm = normalizer.transform(X_train['Lower_Age'].values.reshape(-1,1))\n",
    "X_cv_lower_age_norm = normalizer.transform(X_cv['Lower_Age'].values.reshape(-1,1))\n",
    "X_test_lower_age_norm = normalizer.transform(X_test['Lower_Age'].values.reshape(-1,1))\n",
    "\n",
    "print(\"After vectorizations\")\n",
    "print(X_train_lower_age_norm.shape, y_train.shape)\n",
    "print(X_cv_lower_age_norm.shape, y_cv.shape)\n",
    "feature_names.extend('Lower_Age')\n",
    "print(\"=\"*100)\n"
   ]
  },
  {
   "cell_type": "code",
   "execution_count": 78,
   "id": "protective-cleaner",
   "metadata": {},
   "outputs": [
    {
     "name": "stdout",
     "output_type": "stream",
     "text": [
      "After vectorizations\n",
      "(31352, 1) (31352,)\n",
      "(7839, 1) (7839,)\n",
      "====================================================================================================\n"
     ]
    }
   ],
   "source": [
    "normalizer = Normalizer()\n",
    "\n",
    "normalizer.fit(X_train['Reco_Policy_Premium'].values.reshape(-1,1))\n",
    "\n",
    "X_train_pol_prem_norm = normalizer.transform(X_train['Reco_Policy_Premium'].values.reshape(-1,1))\n",
    "X_cv_pol_prem_norm = normalizer.transform(X_cv['Reco_Policy_Premium'].values.reshape(-1,1))\n",
    "X_test_pol_prem_norm = normalizer.transform(X_test['Reco_Policy_Premium'].values.reshape(-1,1))\n",
    "\n",
    "print(\"After vectorizations\")\n",
    "print(X_train_pol_prem_norm.shape, y_train.shape)\n",
    "print(X_cv_pol_prem_norm.shape, y_cv.shape)\n",
    "feature_names.extend('Reco_Policy_Premium')\n",
    "print(\"=\"*100)\n"
   ]
  },
  {
   "cell_type": "code",
   "execution_count": 80,
   "id": "biblical-notebook",
   "metadata": {},
   "outputs": [
    {
     "name": "stdout",
     "output_type": "stream",
     "text": [
      "Final Data matrix\n",
      "(31352, 5058) (31352,)\n",
      "(7839, 5058) (7839,)\n",
      "(11691, 5058)\n",
      "====================================================================================================\n"
     ]
    }
   ],
   "source": [
    "## Concatenating all features\n",
    "\n",
    "from scipy.sparse import hstack\n",
    "X_tr = hstack((X_train_city_ohe,X_train_region_ohe,X_train_accomodation_ohe,X_train_ins_type_ohe,X_train_spouse_ohe,X_train_response_ohe,X_train_hold_dur_ohe,X_train_hold_type_ohe,X_train_pol_cat_ohe,X_train_upper_age_norm,X_train_lower_age_norm,X_train_pol_prem_norm)).tocsr()\n",
    "X_cr = hstack((X_cv_city_ohe,X_cv_region_ohe,X_cv_accomodation_ohe,X_cv_ins_type_ohe,X_cv_spouse_ohe,X_cv_response_ohe,X_cv_hold_dur_ohe,X_cv_hold_type_ohe,X_cv_pol_cat_ohe,X_cv_upper_age_norm,X_cv_lower_age_norm,X_cv_pol_prem_norm)).tocsr()\n",
    "X_te = hstack((X_test_city_ohe,X_test_region_ohe,X_test_accomodation_ohe,X_test_ins_type_ohe,X_test_spouse_ohe,X_test_response_ohe,X_test_hold_dur_ohe,X_test_hold_type_ohe,X_test_pol_cat_ohe,X_test_upper_age_norm,X_test_lower_age_norm,X_test_pol_prem_norm)).tocsr()\n",
    "\n",
    "print(\"Final Data matrix\")\n",
    "print(X_tr.shape, y_train.shape)\n",
    "print(X_cr.shape, y_cv.shape)\n",
    "print(X_te.shape)\n",
    "print(\"=\"*100)"
   ]
  },
  {
   "cell_type": "markdown",
   "id": "worse-stations",
   "metadata": {},
   "source": [
    "<h2>4.1 Appling NB on different kind of featurization</h2>"
   ]
  },
  {
   "cell_type": "code",
   "execution_count": 81,
   "id": "based-wildlife",
   "metadata": {},
   "outputs": [],
   "source": [
    "def batch_predict(clf, data):\n",
    "    # roc_auc_score(y_true, y_score) the 2nd parameter should be probability estimates of the positive class\n",
    "    # not the predicted outputs\n",
    "\n",
    "    y_data_pred = []\n",
    "    tr_loop = data.shape[0] - data.shape[0]%1000\n",
    "    for i in range(0, tr_loop, 1000):\n",
    "        y_data_pred.extend(clf.predict_proba(data[i:i+1000])[:,1])\n",
    "    # we will be predicting for the last data points\n",
    "    if data.shape[0]%1000 !=0:\n",
    "        y_data_pred.extend(clf.predict_proba(data[tr_loop:])[:,1])\n",
    "    return y_data_pred"
   ]
  },
  {
   "cell_type": "code",
   "execution_count": 102,
   "id": "closed-influence",
   "metadata": {},
   "outputs": [
    {
     "data": {
      "image/png": "[encoded data removed]",
      "text/plain": [
       "<Figure size 432x288 with 1 Axes>"
      ]
     },
     "metadata": {
      "needs_background": "light"
     },
     "output_type": "display_data"
    },
    {
     "data": {
      "text/html": [
       "<div>\n",
       "<style scoped>\n",
       "    .dataframe tbody tr th:only-of-type {\n",
       "        vertical-align: middle;\n",
       "    }\n",
       "\n",
       "    .dataframe tbody tr th {\n",
       "        vertical-align: top;\n",
       "    }\n",
       "\n",
       "    .dataframe thead th {\n",
       "        text-align: right;\n",
       "    }\n",
       "</style>\n",
       "<table border=\"1\" class=\"dataframe\">\n",
       "  <thead>\n",
       "    <tr style=\"text-align: right;\">\n",
       "      <th></th>\n",
       "      <th>mean_fit_time</th>\n",
       "      <th>std_fit_time</th>\n",
       "      <th>mean_score_time</th>\n",
       "      <th>std_score_time</th>\n",
       "      <th>param_alpha</th>\n",
       "      <th>params</th>\n",
       "      <th>split0_test_score</th>\n",
       "      <th>split1_test_score</th>\n",
       "      <th>split2_test_score</th>\n",
       "      <th>mean_test_score</th>\n",
       "      <th>std_test_score</th>\n",
       "      <th>rank_test_score</th>\n",
       "      <th>split0_train_score</th>\n",
       "      <th>split1_train_score</th>\n",
       "      <th>split2_train_score</th>\n",
       "      <th>mean_train_score</th>\n",
       "      <th>std_train_score</th>\n",
       "    </tr>\n",
       "  </thead>\n",
       "  <tbody>\n",
       "    <tr>\n",
       "      <th>0</th>\n",
       "      <td>0.037014</td>\n",
       "      <td>0.001409</td>\n",
       "      <td>0.004997</td>\n",
       "      <td>0.000004</td>\n",
       "      <td>1</td>\n",
       "      <td>{'alpha': 1}</td>\n",
       "      <td>0.308966</td>\n",
       "      <td>0.318534</td>\n",
       "      <td>0.308421</td>\n",
       "      <td>0.311974</td>\n",
       "      <td>0.004644</td>\n",
       "      <td>8</td>\n",
       "      <td>0.470839</td>\n",
       "      <td>0.468303</td>\n",
       "      <td>0.466702</td>\n",
       "      <td>0.468614</td>\n",
       "      <td>0.001703</td>\n",
       "    </tr>\n",
       "    <tr>\n",
       "      <th>1</th>\n",
       "      <td>0.036007</td>\n",
       "      <td>0.000010</td>\n",
       "      <td>0.005003</td>\n",
       "      <td>0.000007</td>\n",
       "      <td>2</td>\n",
       "      <td>{'alpha': 2}</td>\n",
       "      <td>0.327241</td>\n",
       "      <td>0.333939</td>\n",
       "      <td>0.325550</td>\n",
       "      <td>0.328910</td>\n",
       "      <td>0.003622</td>\n",
       "      <td>7</td>\n",
       "      <td>0.415674</td>\n",
       "      <td>0.417301</td>\n",
       "      <td>0.415032</td>\n",
       "      <td>0.416002</td>\n",
       "      <td>0.000955</td>\n",
       "    </tr>\n",
       "    <tr>\n",
       "      <th>2</th>\n",
       "      <td>0.035678</td>\n",
       "      <td>0.000475</td>\n",
       "      <td>0.005331</td>\n",
       "      <td>0.000470</td>\n",
       "      <td>3</td>\n",
       "      <td>{'alpha': 3}</td>\n",
       "      <td>0.333174</td>\n",
       "      <td>0.335470</td>\n",
       "      <td>0.328230</td>\n",
       "      <td>0.332291</td>\n",
       "      <td>0.003021</td>\n",
       "      <td>3</td>\n",
       "      <td>0.388402</td>\n",
       "      <td>0.387589</td>\n",
       "      <td>0.387044</td>\n",
       "      <td>0.387679</td>\n",
       "      <td>0.000558</td>\n",
       "    </tr>\n",
       "    <tr>\n",
       "      <th>3</th>\n",
       "      <td>0.035680</td>\n",
       "      <td>0.000473</td>\n",
       "      <td>0.005328</td>\n",
       "      <td>0.000469</td>\n",
       "      <td>5</td>\n",
       "      <td>{'alpha': 5}</td>\n",
       "      <td>0.332695</td>\n",
       "      <td>0.335757</td>\n",
       "      <td>0.335120</td>\n",
       "      <td>0.334524</td>\n",
       "      <td>0.001319</td>\n",
       "      <td>1</td>\n",
       "      <td>0.354768</td>\n",
       "      <td>0.353237</td>\n",
       "      <td>0.355516</td>\n",
       "      <td>0.354507</td>\n",
       "      <td>0.000949</td>\n",
       "    </tr>\n",
       "    <tr>\n",
       "      <th>4</th>\n",
       "      <td>0.036682</td>\n",
       "      <td>0.000948</td>\n",
       "      <td>0.005328</td>\n",
       "      <td>0.000473</td>\n",
       "      <td>7</td>\n",
       "      <td>{'alpha': 7}</td>\n",
       "      <td>0.332504</td>\n",
       "      <td>0.332887</td>\n",
       "      <td>0.335024</td>\n",
       "      <td>0.333472</td>\n",
       "      <td>0.001109</td>\n",
       "      <td>2</td>\n",
       "      <td>0.339075</td>\n",
       "      <td>0.337400</td>\n",
       "      <td>0.340159</td>\n",
       "      <td>0.338878</td>\n",
       "      <td>0.001135</td>\n",
       "    </tr>\n",
       "  </tbody>\n",
       "</table>\n",
       "</div>"
      ],
      "text/plain": [
       "   mean_fit_time  std_fit_time  mean_score_time  std_score_time param_alpha  \\\n",
       "0       0.037014      0.001409         0.004997        0.000004           1   \n",
       "1       0.036007      0.000010         0.005003        0.000007           2   \n",
       "2       0.035678      0.000475         0.005331        0.000470           3   \n",
       "3       0.035680      0.000473         0.005328        0.000469           5   \n",
       "4       0.036682      0.000948         0.005328        0.000473           7   \n",
       "\n",
       "         params  split0_test_score  split1_test_score  split2_test_score  \\\n",
       "0  {'alpha': 1}           0.308966           0.318534           0.308421   \n",
       "1  {'alpha': 2}           0.327241           0.333939           0.325550   \n",
       "2  {'alpha': 3}           0.333174           0.335470           0.328230   \n",
       "3  {'alpha': 5}           0.332695           0.335757           0.335120   \n",
       "4  {'alpha': 7}           0.332504           0.332887           0.335024   \n",
       "\n",
       "   mean_test_score  std_test_score  rank_test_score  split0_train_score  \\\n",
       "0         0.311974        0.004644                8            0.470839   \n",
       "1         0.328910        0.003622                7            0.415674   \n",
       "2         0.332291        0.003021                3            0.388402   \n",
       "3         0.334524        0.001319                1            0.354768   \n",
       "4         0.333472        0.001109                2            0.339075   \n",
       "\n",
       "   split1_train_score  split2_train_score  mean_train_score  std_train_score  \n",
       "0            0.468303            0.466702          0.468614         0.001703  \n",
       "1            0.417301            0.415032          0.416002         0.000955  \n",
       "2            0.387589            0.387044          0.387679         0.000558  \n",
       "3            0.353237            0.355516          0.354507         0.000949  \n",
       "4            0.337400            0.340159          0.338878         0.001135  "
      ]
     },
     "execution_count": 102,
     "metadata": {},
     "output_type": "execute_result"
    }
   ],
   "source": [
    "import matplotlib.pyplot as plt\n",
    "from sklearn.naive_bayes import MultinomialNB\n",
    "from sklearn.metrics import roc_auc_score\n",
    "from sklearn.model_selection import GridSearchCV\n",
    "from scipy.stats import randint as sp_randint\n",
    "from sklearn.model_selection import RandomizedSearchCV\n",
    "\n",
    "\n",
    "summary=[]\n",
    "\n",
    "clf_nb = MultinomialNB()\n",
    "parameters = {'alpha':[1, 2, 3, 5, 7, 15,30,50]}\n",
    "clf = GridSearchCV(clf_nb, parameters, cv=3, scoring='accuracy',return_train_score=True)\n",
    "clf.fit(X_tr, y_train)\n",
    "\n",
    "results = pd.DataFrame.from_dict(clf.cv_results_)\n",
    "results = results.sort_values(['param_alpha'])\n",
    "\n",
    "train_auc= results['mean_train_score']\n",
    "train_auc_std= results['std_train_score']\n",
    "cv_auc = results['mean_test_score'] \n",
    "cv_auc_std= results['std_test_score']\n",
    "K =  results['param_alpha']\n",
    "\n",
    "plt.plot(K, train_auc, label='Train Accuracy')\n",
    "\n",
    "plt.plot(K, cv_auc, label='CV Accuracy')\n",
    "\n",
    "plt.scatter(K, train_auc, label='Train Accuracy points')\n",
    "plt.scatter(K, cv_auc, label='CV Accuracy points')\n",
    "\n",
    "\n",
    "plt.legend()\n",
    "plt.xlabel(\"alpha: hyperparameter\")\n",
    "plt.ylabel(\"Accuracy\")\n",
    "plt.title(\"Hyper parameter Vs Accuracy plot\")\n",
    "plt.grid()\n",
    "plt.show()\n",
    "\n",
    "results.head()"
   ]
  },
  {
   "cell_type": "markdown",
   "id": "architectural-intranet",
   "metadata": {},
   "source": [
    "#### Testing the performance of the model on test data, plotting ROC Curves"
   ]
  },
  {
   "cell_type": "code",
   "execution_count": 103,
   "id": "appointed-brown",
   "metadata": {},
   "outputs": [
    {
     "data": {
      "text/plain": [
       "{'alpha': 5}"
      ]
     },
     "execution_count": 103,
     "metadata": {},
     "output_type": "execute_result"
    }
   ],
   "source": [
    "clf.best_params_"
   ]
  },
  {
   "cell_type": "code",
   "execution_count": 104,
   "id": "intended-shelter",
   "metadata": {},
   "outputs": [],
   "source": [
    "#here we are choosing the best_alpha based on forloop results\n",
    "best_alpha = 5"
   ]
  },
  {
   "cell_type": "code",
   "execution_count": 105,
   "id": "million-fighter",
   "metadata": {
    "scrolled": true
   },
   "outputs": [
    {
     "name": "stdout",
     "output_type": "stream",
     "text": [
      "Train Accuracy: 0.3352577188058178\n",
      "Test Accuracy: 0.33499170812603646\n"
     ]
    }
   ],
   "source": [
    "clf = MultinomialNB(alpha = best_alpha)\n",
    "clf.fit(X_tr, y_train)\n",
    "# roc_auc_score(y_true, y_score) the 2nd parameter should be probability estimates of the positive class\n",
    "# not the predicted outputs\n",
    "\n",
    "y_train_pred = batch_predict(clf, X_tr)    \n",
    "y_test_pred = batch_predict(clf, X_cr)\n",
    "\n",
    "train_acc=accuracy_score(y_train, y_train_pred_result)\n",
    "cv_acc=accuracy_score(y_cv, y_cv_pred_result)\n",
    "print('Train Accuracy:',train_acc)\n",
    "print('Test Accuracy:',cv_acc)\n",
    "summary.append(['Naive Bayes',best_alpha,np.round(cv_acc,2)])"
   ]
  },
  {
   "cell_type": "markdown",
   "id": "dependent-spare",
   "metadata": {},
   "source": [
    "## 4.2 Apply KNN"
   ]
  },
  {
   "cell_type": "code",
   "execution_count": 98,
   "id": "outstanding-baking",
   "metadata": {
    "scrolled": true
   },
   "outputs": [
    {
     "data": {
      "image/png": "[encoded data removed]",
      "text/plain": [
       "<Figure size 432x288 with 1 Axes>"
      ]
     },
     "metadata": {
      "needs_background": "light"
     },
     "output_type": "display_data"
    },
    {
     "data": {
      "text/html": [
       "<div>\n",
       "<style scoped>\n",
       "    .dataframe tbody tr th:only-of-type {\n",
       "        vertical-align: middle;\n",
       "    }\n",
       "\n",
       "    .dataframe tbody tr th {\n",
       "        vertical-align: top;\n",
       "    }\n",
       "\n",
       "    .dataframe thead th {\n",
       "        text-align: right;\n",
       "    }\n",
       "</style>\n",
       "<table border=\"1\" class=\"dataframe\">\n",
       "  <thead>\n",
       "    <tr style=\"text-align: right;\">\n",
       "      <th></th>\n",
       "      <th>mean_fit_time</th>\n",
       "      <th>std_fit_time</th>\n",
       "      <th>mean_score_time</th>\n",
       "      <th>std_score_time</th>\n",
       "      <th>param_n_neighbors</th>\n",
       "      <th>params</th>\n",
       "      <th>split0_test_score</th>\n",
       "      <th>split1_test_score</th>\n",
       "      <th>split2_test_score</th>\n",
       "      <th>mean_test_score</th>\n",
       "      <th>std_test_score</th>\n",
       "      <th>rank_test_score</th>\n",
       "      <th>split0_train_score</th>\n",
       "      <th>split1_train_score</th>\n",
       "      <th>split2_train_score</th>\n",
       "      <th>mean_train_score</th>\n",
       "      <th>std_train_score</th>\n",
       "    </tr>\n",
       "  </thead>\n",
       "  <tbody>\n",
       "    <tr>\n",
       "      <th>0</th>\n",
       "      <td>0.014343</td>\n",
       "      <td>0.001249</td>\n",
       "      <td>7.137312</td>\n",
       "      <td>0.147515</td>\n",
       "      <td>100</td>\n",
       "      <td>{'n_neighbors': 100}</td>\n",
       "      <td>0.323797</td>\n",
       "      <td>0.329155</td>\n",
       "      <td>0.319330</td>\n",
       "      <td>0.324094</td>\n",
       "      <td>0.004017</td>\n",
       "      <td>4</td>\n",
       "      <td>0.346347</td>\n",
       "      <td>0.344720</td>\n",
       "      <td>0.349632</td>\n",
       "      <td>0.346900</td>\n",
       "      <td>0.002043</td>\n",
       "    </tr>\n",
       "    <tr>\n",
       "      <th>1</th>\n",
       "      <td>0.014002</td>\n",
       "      <td>0.000813</td>\n",
       "      <td>7.791503</td>\n",
       "      <td>0.775733</td>\n",
       "      <td>200</td>\n",
       "      <td>{'n_neighbors': 200}</td>\n",
       "      <td>0.329059</td>\n",
       "      <td>0.334800</td>\n",
       "      <td>0.329091</td>\n",
       "      <td>0.330984</td>\n",
       "      <td>0.002699</td>\n",
       "      <td>3</td>\n",
       "      <td>0.340749</td>\n",
       "      <td>0.340079</td>\n",
       "      <td>0.341546</td>\n",
       "      <td>0.340792</td>\n",
       "      <td>0.000600</td>\n",
       "    </tr>\n",
       "    <tr>\n",
       "      <th>2</th>\n",
       "      <td>0.013670</td>\n",
       "      <td>0.000473</td>\n",
       "      <td>7.798392</td>\n",
       "      <td>0.266269</td>\n",
       "      <td>500</td>\n",
       "      <td>{'n_neighbors': 500}</td>\n",
       "      <td>0.331164</td>\n",
       "      <td>0.332695</td>\n",
       "      <td>0.333493</td>\n",
       "      <td>0.332451</td>\n",
       "      <td>0.000966</td>\n",
       "      <td>2</td>\n",
       "      <td>0.336348</td>\n",
       "      <td>0.335199</td>\n",
       "      <td>0.335518</td>\n",
       "      <td>0.335688</td>\n",
       "      <td>0.000484</td>\n",
       "    </tr>\n",
       "    <tr>\n",
       "      <th>3</th>\n",
       "      <td>0.013668</td>\n",
       "      <td>0.000944</td>\n",
       "      <td>8.150968</td>\n",
       "      <td>0.275715</td>\n",
       "      <td>1000</td>\n",
       "      <td>{'n_neighbors': 1000}</td>\n",
       "      <td>0.332313</td>\n",
       "      <td>0.333078</td>\n",
       "      <td>0.335120</td>\n",
       "      <td>0.333503</td>\n",
       "      <td>0.001185</td>\n",
       "      <td>1</td>\n",
       "      <td>0.333525</td>\n",
       "      <td>0.334960</td>\n",
       "      <td>0.333891</td>\n",
       "      <td>0.334125</td>\n",
       "      <td>0.000609</td>\n",
       "    </tr>\n",
       "  </tbody>\n",
       "</table>\n",
       "</div>"
      ],
      "text/plain": [
       "   mean_fit_time  std_fit_time  mean_score_time  std_score_time  \\\n",
       "0       0.014343      0.001249         7.137312        0.147515   \n",
       "1       0.014002      0.000813         7.791503        0.775733   \n",
       "2       0.013670      0.000473         7.798392        0.266269   \n",
       "3       0.013668      0.000944         8.150968        0.275715   \n",
       "\n",
       "  param_n_neighbors                 params  split0_test_score  \\\n",
       "0               100   {'n_neighbors': 100}           0.323797   \n",
       "1               200   {'n_neighbors': 200}           0.329059   \n",
       "2               500   {'n_neighbors': 500}           0.331164   \n",
       "3              1000  {'n_neighbors': 1000}           0.332313   \n",
       "\n",
       "   split1_test_score  split2_test_score  mean_test_score  std_test_score  \\\n",
       "0           0.329155           0.319330         0.324094        0.004017   \n",
       "1           0.334800           0.329091         0.330984        0.002699   \n",
       "2           0.332695           0.333493         0.332451        0.000966   \n",
       "3           0.333078           0.335120         0.333503        0.001185   \n",
       "\n",
       "   rank_test_score  split0_train_score  split1_train_score  \\\n",
       "0                4            0.346347            0.344720   \n",
       "1                3            0.340749            0.340079   \n",
       "2                2            0.336348            0.335199   \n",
       "3                1            0.333525            0.334960   \n",
       "\n",
       "   split2_train_score  mean_train_score  std_train_score  \n",
       "0            0.349632          0.346900         0.002043  \n",
       "1            0.341546          0.340792         0.000600  \n",
       "2            0.335518          0.335688         0.000484  \n",
       "3            0.333891          0.334125         0.000609  "
      ]
     },
     "execution_count": 98,
     "metadata": {},
     "output_type": "execute_result"
    }
   ],
   "source": [
    "import matplotlib.pyplot as plt\n",
    "from sklearn.neighbors import KNeighborsClassifier\n",
    "from sklearn.metrics import roc_auc_score\n",
    "\n",
    "neigh = KNeighborsClassifier(n_jobs=-1)\n",
    "parameters = {'n_neighbors':[100,200,500,1000]}\n",
    "clf = RandomizedSearchCV(neigh, parameters, cv=3, scoring='accuracy',return_train_score=True)\n",
    "clf.fit(X_tr, y_train)\n",
    "\n",
    "results = pd.DataFrame.from_dict(clf.cv_results_)\n",
    "results = results.sort_values(['param_n_neighbors'])\n",
    "\n",
    "train_auc= results['mean_train_score']\n",
    "train_auc_std= results['std_train_score']\n",
    "cv_auc = results['mean_test_score'] \n",
    "cv_auc_std= results['std_test_score']\n",
    "K =  results['param_n_neighbors']\n",
    "\n",
    "plt.plot(K, train_auc, label='Train Accuracy')\n",
    "\n",
    "plt.plot(K, cv_auc, label='CV Accuracy')\n",
    "\n",
    "plt.scatter(K, train_auc, label='Train Accuracy points')\n",
    "plt.scatter(K, cv_auc, label='CV Accuracy points')\n",
    "\n",
    "\n",
    "plt.legend()\n",
    "plt.xlabel(\"alpha: hyperparameter\")\n",
    "plt.ylabel(\"Accuracy\")\n",
    "plt.title(\"Hyper parameter Vs Accuracy plot\")\n",
    "plt.grid()\n",
    "plt.show()\n",
    "\n",
    "results.head()"
   ]
  },
  {
   "cell_type": "markdown",
   "id": "hollow-steps",
   "metadata": {
    "colab_type": "text",
    "id": "vnETjzY17lIc"
   },
   "source": [
    "#### 1.5.1.2 Testing the performance of the model on test data, plotting ROC Curves"
   ]
  },
  {
   "cell_type": "code",
   "execution_count": 107,
   "id": "apparent-importance",
   "metadata": {
    "colab": {},
    "colab_type": "code",
    "id": "bR1M5Rys7lIe"
   },
   "outputs": [],
   "source": [
    "#here we are choosing the best_k based on forloop results\n",
    "best_k = 1000"
   ]
  },
  {
   "cell_type": "code",
   "execution_count": 108,
   "id": "equal-petite",
   "metadata": {
    "colab": {},
    "colab_type": "code",
    "id": "fQNRGeeR7lIo",
    "outputId": "2fac27b0-fb3c-46ad-b810-05c37ee0fb39",
    "scrolled": true
   },
   "outputs": [
    {
     "name": "stdout",
     "output_type": "stream",
     "text": [
      "Train Accuracy: 0.3352577188058178\n",
      "Test Accuracy: 0.33499170812603646\n"
     ]
    }
   ],
   "source": [
    "# https://scikit-learn.org/stable/modules/generated/sklearn.metrics.roc_curve.html#sklearn.metrics.roc_curve\n",
    "from sklearn.metrics import accuracy_score\n",
    "\n",
    "neigh = KNeighborsClassifier(n_neighbors=best_k, n_jobs=-1)\n",
    "neigh.fit(X_tr, y_train)\n",
    "# roc_auc_score(y_true, y_score) the 2nd parameter should be probability estimates of the positive class\n",
    "# not the predicted outputs\n",
    "\n",
    "y_train_pred = batch_predict(neigh, X_tr)    \n",
    "y_cv_pred = batch_predict(neigh, X_cr)\n",
    "y_test_pred = batch_predict(neigh, X_te)\n",
    "\n",
    "y_train_pred_result=neigh.predict(X_tr)\n",
    "y_cv_pred_result=neigh.predict(X_cr)\n",
    "\n",
    "train_acc=accuracy_score(y_train, y_train_pred_result)\n",
    "cv_acc=accuracy_score(y_cv, y_cv_pred_result)\n",
    "print('Train Accuracy:',train_acc)\n",
    "print('Test Accuracy:',cv_acc)\n",
    "\n",
    "summary.append(['KNN',best_k,np.round(cv_acc,2)])"
   ]
  },
  {
   "cell_type": "code",
   "execution_count": 112,
   "id": "essential-richardson",
   "metadata": {},
   "outputs": [
    {
     "name": "stdout",
     "output_type": "stream",
     "text": [
      "+-------------+-----------------+----------+\n",
      "|    Model    | Hyper Parameter | Accuracy |\n",
      "+-------------+-----------------+----------+\n",
      "| Naive Bayes |        5        |   0.33   |\n",
      "|     KNN     |       1000      |   0.33   |\n",
      "+-------------+-----------------+----------+\n"
     ]
    }
   ],
   "source": [
    "from prettytable import PrettyTable\n",
    "\n",
    "x = PrettyTable()\n",
    "x.field_names = [\"Model\", \"Hyper Parameter\", \"Accuracy\"]\n",
    "\n",
    "for i in range(2):\n",
    "    x.add_row([summary[i][0],summary[i][1],summary[i][2]])\n",
    "print(x)"
   ]
  },
  {
   "cell_type": "markdown",
   "id": "former-worth",
   "metadata": {},
   "source": [
    "Since Naive Bayes has only a slightly better accuracy we will compute the missing values in Health Indiactor using KNN as it ususally performs well on imputing missing data based on the neighbouring features."
   ]
  },
  {
   "cell_type": "code",
   "execution_count": 146,
   "id": "considerable-burner",
   "metadata": {},
   "outputs": [
    {
     "data": {
      "text/plain": [
       "11691"
      ]
     },
     "execution_count": 146,
     "metadata": {},
     "output_type": "execute_result"
    }
   ],
   "source": [
    "#Computed missing values stored\n",
    "y_test_pred_result=neigh.predict(X_te)\n",
    "len(y_test_pred_result)"
   ]
  },
  {
   "cell_type": "code",
   "execution_count": 151,
   "id": "hollywood-nicholas",
   "metadata": {},
   "outputs": [
    {
     "data": {
      "text/plain": [
       "11691"
      ]
     },
     "execution_count": 151,
     "metadata": {},
     "output_type": "execute_result"
    }
   ],
   "source": [
    "pred_index=X_test.index\n",
    "len(X_test.index)"
   ]
  },
  {
   "cell_type": "code",
   "execution_count": 152,
   "id": "sexual-pontiac",
   "metadata": {},
   "outputs": [
    {
     "data": {
      "text/plain": [
       "array(['X1', 'X1', 'X2', ..., 'X1', 'X1', 'X1'], dtype=object)"
      ]
     },
     "execution_count": 152,
     "metadata": {},
     "output_type": "execute_result"
    }
   ],
   "source": [
    "y_test_pred_result"
   ]
  }
 ],
 "metadata": {
  "kernelspec": {
   "display_name": "Python 3",
   "language": "python",
   "name": "python3"
  },
  "language_info": {
   "codemirror_mode": {
    "name": "ipython",
    "version": 3
   },
   "file_extension": ".py",
   "mimetype": "text/x-python",
   "name": "python",
   "nbconvert_exporter": "python",
   "pygments_lexer": "ipython3",
   "version": "3.8.5"
  }
 },
 "nbformat": 4,
 "nbformat_minor": 5
}
